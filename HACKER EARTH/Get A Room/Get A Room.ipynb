{
 "cells": [
  {
   "cell_type": "code",
   "execution_count": 50,
   "id": "7580eb0d",
   "metadata": {},
   "outputs": [
    {
     "name": "stdout",
     "output_type": "stream",
     "text": [
      "dataset\\artists.csv\n",
      "dataset\\sample_submission.csv\n",
      "dataset\\Submission Guidelines-_For Candidate.pptx\n",
      "dataset\\test.csv\n",
      "dataset\\train.csv\n"
     ]
    }
   ],
   "source": [
    "from matplotlib import pyplot as plt\n",
    "import seaborn as sns\n",
    "import numpy as np # linear algebra\n",
    "import pandas as pd # data processing, CSV file I/O (e.g. pd.read_csv)\n",
    "\n",
    "\n",
    "sns.set_style('whitegrid')\n",
    "plt.rcParams['figure.figsize'] = (12, 10)\n",
    "\n",
    "# Input data files are available in the read-only \"../dataset/\" directory\n",
    "# For example, running this (by clicking run or pressing Shift+Enter) will list all files under the input directory\n",
    "\n",
    "import os\n",
    "for dirname, _, filenames in os.walk('dataset'):\n",
    "    for filename in filenames:\n",
    "        print(os.path.join(dirname, filename))"
   ]
  },
  {
   "cell_type": "code",
   "execution_count": 58,
   "id": "6bcba9dd",
   "metadata": {},
   "outputs": [
    {
     "name": "stderr",
     "output_type": "stream",
     "text": [
      "C:\\Users\\raj71\\AppData\\Local\\Temp\\ipykernel_23896\\1500792694.py:1: FutureWarning: The error_bad_lines argument has been deprecated and will be removed in a future version. Use on_bad_lines in the future.\n",
      "\n",
      "\n",
      "  train_data=pd.read_csv('dataset/train.csv', header=0, error_bad_lines=False, index_col=False, dtype='unicode')\n",
      "C:\\Users\\raj71\\AppData\\Local\\Temp\\ipykernel_23896\\1500792694.py:2: FutureWarning: The error_bad_lines argument has been deprecated and will be removed in a future version. Use on_bad_lines in the future.\n",
      "\n",
      "\n",
      "  test_data=pd.read_csv('dataset/test.csv', error_bad_lines=False, index_col=False, dtype='unicode',header=0)\n"
     ]
    }
   ],
   "source": [
    "train_data=pd.read_csv('dataset/train.csv', header=0, error_bad_lines=False, index_col=False, dtype='unicode')\n",
    "test_data=pd.read_csv('dataset/test.csv', error_bad_lines=False, index_col=False, dtype='unicode',header=0)"
   ]
  },
  {
   "cell_type": "code",
   "execution_count": 59,
   "id": "676abb91",
   "metadata": {},
   "outputs": [
    {
     "data": {
      "text/html": [
       "<div>\n",
       "<style scoped>\n",
       "    .dataframe tbody tr th:only-of-type {\n",
       "        vertical-align: middle;\n",
       "    }\n",
       "\n",
       "    .dataframe tbody tr th {\n",
       "        vertical-align: top;\n",
       "    }\n",
       "\n",
       "    .dataframe thead th {\n",
       "        text-align: right;\n",
       "    }\n",
       "</style>\n",
       "<table border=\"1\" class=\"dataframe\">\n",
       "  <thead>\n",
       "    <tr style=\"text-align: right;\">\n",
       "      <th></th>\n",
       "      <th>song_id</th>\n",
       "      <th>artist_id</th>\n",
       "      <th>title</th>\n",
       "      <th>year</th>\n",
       "      <th>analysis_sample_rate</th>\n",
       "      <th>duration</th>\n",
       "      <th>end_of_fade_in</th>\n",
       "      <th>key</th>\n",
       "      <th>key_confidence</th>\n",
       "      <th>loudness</th>\n",
       "      <th>mode</th>\n",
       "      <th>mode_confidence</th>\n",
       "      <th>start_of_fade_out</th>\n",
       "      <th>tempo</th>\n",
       "      <th>audio_md5</th>\n",
       "      <th>time_signature</th>\n",
       "      <th>time_signature_confidence</th>\n",
       "      <th>song_hotttnesss</th>\n",
       "    </tr>\n",
       "  </thead>\n",
       "  <tbody>\n",
       "    <tr>\n",
       "      <th>0</th>\n",
       "      <td>SONG_510448</td>\n",
       "      <td>ARTIST_2029</td>\n",
       "      <td>Pressure (Explicit LP Version)</td>\n",
       "      <td>2001</td>\n",
       "      <td>22050</td>\n",
       "      <td>202.39628</td>\n",
       "      <td>0.2</td>\n",
       "      <td>0</td>\n",
       "      <td>0.873</td>\n",
       "      <td>-3.609</td>\n",
       "      <td>1</td>\n",
       "      <td>1</td>\n",
       "      <td>193.544</td>\n",
       "      <td>111.195</td>\n",
       "      <td>a6220f6edb54938cd4f1a44f7ff48459</td>\n",
       "      <td>4</td>\n",
       "      <td>1</td>\n",
       "      <td>0.681185791</td>\n",
       "    </tr>\n",
       "    <tr>\n",
       "      <th>1</th>\n",
       "      <td>SONG_68913</td>\n",
       "      <td>ARTIST_1323</td>\n",
       "      <td>Tear Out My Eyes (Album Version)</td>\n",
       "      <td>2002</td>\n",
       "      <td>22050</td>\n",
       "      <td>103.78404</td>\n",
       "      <td>2.328</td>\n",
       "      <td>2</td>\n",
       "      <td>1</td>\n",
       "      <td>-3.949</td>\n",
       "      <td>1</td>\n",
       "      <td>1</td>\n",
       "      <td>95.306</td>\n",
       "      <td>185.117</td>\n",
       "      <td>94aabc3aee57cb4b7878e5c4458c5623</td>\n",
       "      <td>1</td>\n",
       "      <td>0</td>\n",
       "      <td>0.734793817</td>\n",
       "    </tr>\n",
       "    <tr>\n",
       "      <th>2</th>\n",
       "      <td>SONG_158502</td>\n",
       "      <td>ARTIST_5289</td>\n",
       "      <td>Wherever I May Roam</td>\n",
       "      <td>1991</td>\n",
       "      <td>22050</td>\n",
       "      <td>421.53751</td>\n",
       "      <td>5.306</td>\n",
       "      <td>3</td>\n",
       "      <td>0.909</td>\n",
       "      <td>-4.016</td>\n",
       "      <td>1</td>\n",
       "      <td>1</td>\n",
       "      <td>415.945</td>\n",
       "      <td>136.193</td>\n",
       "      <td>7d06ef7368b3b2133cee7b01d2a0fd8b</td>\n",
       "      <td>4</td>\n",
       "      <td>0</td>\n",
       "      <td>0.586969017</td>\n",
       "    </tr>\n",
       "    <tr>\n",
       "      <th>3</th>\n",
       "      <td>SONG_60605</td>\n",
       "      <td>ARTIST_10938</td>\n",
       "      <td>Everything Goes Around</td>\n",
       "      <td>2003</td>\n",
       "      <td>22050</td>\n",
       "      <td>186.06975</td>\n",
       "      <td>0.27</td>\n",
       "      <td>0</td>\n",
       "      <td>0.576</td>\n",
       "      <td>-4.741</td>\n",
       "      <td>0</td>\n",
       "      <td>1</td>\n",
       "      <td>179.026</td>\n",
       "      <td>165.804</td>\n",
       "      <td>de533ef1cdf1199ca5acce91c87a30cd</td>\n",
       "      <td>4</td>\n",
       "      <td>0</td>\n",
       "      <td>0.605378416</td>\n",
       "    </tr>\n",
       "    <tr>\n",
       "      <th>4</th>\n",
       "      <td>SONG_71870</td>\n",
       "      <td>ARTIST_5135</td>\n",
       "      <td>Phatty Boom Batty (Album Version)</td>\n",
       "      <td>1999</td>\n",
       "      <td>22050</td>\n",
       "      <td>212.45342</td>\n",
       "      <td>0</td>\n",
       "      <td>0</td>\n",
       "      <td>0.955</td>\n",
       "      <td>-4.926</td>\n",
       "      <td>1</td>\n",
       "      <td>1</td>\n",
       "      <td>204.922</td>\n",
       "      <td>143.209</td>\n",
       "      <td>62f2b97fa06c71078cbe3b15a6f36ad2</td>\n",
       "      <td>4</td>\n",
       "      <td>0.09</td>\n",
       "      <td>0.212045405</td>\n",
       "    </tr>\n",
       "  </tbody>\n",
       "</table>\n",
       "</div>"
      ],
      "text/plain": [
       "       song_id     artist_id                              title  year  \\\n",
       "0  SONG_510448   ARTIST_2029     Pressure (Explicit LP Version)  2001   \n",
       "1   SONG_68913   ARTIST_1323   Tear Out My Eyes (Album Version)  2002   \n",
       "2  SONG_158502   ARTIST_5289                Wherever I May Roam  1991   \n",
       "3   SONG_60605  ARTIST_10938             Everything Goes Around  2003   \n",
       "4   SONG_71870   ARTIST_5135  Phatty Boom Batty (Album Version)  1999   \n",
       "\n",
       "  analysis_sample_rate   duration end_of_fade_in key key_confidence loudness  \\\n",
       "0                22050  202.39628            0.2   0          0.873   -3.609   \n",
       "1                22050  103.78404          2.328   2              1   -3.949   \n",
       "2                22050  421.53751          5.306   3          0.909   -4.016   \n",
       "3                22050  186.06975           0.27   0          0.576   -4.741   \n",
       "4                22050  212.45342              0   0          0.955   -4.926   \n",
       "\n",
       "  mode mode_confidence start_of_fade_out    tempo  \\\n",
       "0    1               1           193.544  111.195   \n",
       "1    1               1            95.306  185.117   \n",
       "2    1               1           415.945  136.193   \n",
       "3    0               1           179.026  165.804   \n",
       "4    1               1           204.922  143.209   \n",
       "\n",
       "                          audio_md5 time_signature time_signature_confidence  \\\n",
       "0  a6220f6edb54938cd4f1a44f7ff48459              4                         1   \n",
       "1  94aabc3aee57cb4b7878e5c4458c5623              1                         0   \n",
       "2  7d06ef7368b3b2133cee7b01d2a0fd8b              4                         0   \n",
       "3  de533ef1cdf1199ca5acce91c87a30cd              4                         0   \n",
       "4  62f2b97fa06c71078cbe3b15a6f36ad2              4                      0.09   \n",
       "\n",
       "  song_hotttnesss  \n",
       "0     0.681185791  \n",
       "1     0.734793817  \n",
       "2     0.586969017  \n",
       "3     0.605378416  \n",
       "4     0.212045405  "
      ]
     },
     "execution_count": 59,
     "metadata": {},
     "output_type": "execute_result"
    }
   ],
   "source": [
    "train_data.head()"
   ]
  },
  {
   "cell_type": "code",
   "execution_count": 60,
   "id": "32eaa8dc",
   "metadata": {},
   "outputs": [
    {
     "data": {
      "text/html": [
       "<div>\n",
       "<style scoped>\n",
       "    .dataframe tbody tr th:only-of-type {\n",
       "        vertical-align: middle;\n",
       "    }\n",
       "\n",
       "    .dataframe tbody tr th {\n",
       "        vertical-align: top;\n",
       "    }\n",
       "\n",
       "    .dataframe thead th {\n",
       "        text-align: right;\n",
       "    }\n",
       "</style>\n",
       "<table border=\"1\" class=\"dataframe\">\n",
       "  <thead>\n",
       "    <tr style=\"text-align: right;\">\n",
       "      <th></th>\n",
       "      <th>song_id</th>\n",
       "      <th>artist_id</th>\n",
       "      <th>title</th>\n",
       "      <th>year</th>\n",
       "      <th>analysis_sample_rate</th>\n",
       "      <th>duration</th>\n",
       "      <th>end_of_fade_in</th>\n",
       "      <th>key</th>\n",
       "      <th>key_confidence</th>\n",
       "      <th>loudness</th>\n",
       "      <th>mode</th>\n",
       "      <th>mode_confidence</th>\n",
       "      <th>start_of_fade_out</th>\n",
       "      <th>tempo</th>\n",
       "      <th>audio_md5</th>\n",
       "      <th>time_signature</th>\n",
       "      <th>time_signature_confidence</th>\n",
       "    </tr>\n",
       "  </thead>\n",
       "  <tbody>\n",
       "    <tr>\n",
       "      <th>0</th>\n",
       "      <td>SONG_365464</td>\n",
       "      <td>ARTIST_12557</td>\n",
       "      <td>Crying Eyes</td>\n",
       "      <td>1971</td>\n",
       "      <td>22050</td>\n",
       "      <td>193.38404</td>\n",
       "      <td>0.246</td>\n",
       "      <td>6</td>\n",
       "      <td>0.0</td>\n",
       "      <td>-19.962</td>\n",
       "      <td>1</td>\n",
       "      <td>0.0</td>\n",
       "      <td>180.135</td>\n",
       "      <td>117.37</td>\n",
       "      <td>d03823618266bb14421c5e0ce7c2dd80</td>\n",
       "      <td>4</td>\n",
       "      <td>0.665</td>\n",
       "    </tr>\n",
       "    <tr>\n",
       "      <th>1</th>\n",
       "      <td>SONG_451710</td>\n",
       "      <td>ARTIST_2939</td>\n",
       "      <td>Fuck and Run</td>\n",
       "      <td>1993</td>\n",
       "      <td>22050</td>\n",
       "      <td>187.34975</td>\n",
       "      <td>0.142</td>\n",
       "      <td>7</td>\n",
       "      <td>0.579</td>\n",
       "      <td>-8.862</td>\n",
       "      <td>1</td>\n",
       "      <td>0.611</td>\n",
       "      <td>183.049</td>\n",
       "      <td>136.153</td>\n",
       "      <td>7aec017d0194b627d3df0048a2548c6b</td>\n",
       "      <td>4</td>\n",
       "      <td>0.112</td>\n",
       "    </tr>\n",
       "    <tr>\n",
       "      <th>2</th>\n",
       "      <td>SONG_202731</td>\n",
       "      <td>ARTIST_5718</td>\n",
       "      <td>Highest Star</td>\n",
       "      <td>2009</td>\n",
       "      <td>22050</td>\n",
       "      <td>284.26404</td>\n",
       "      <td>0.0</td>\n",
       "      <td>2</td>\n",
       "      <td>0.306</td>\n",
       "      <td>-4.562</td>\n",
       "      <td>0</td>\n",
       "      <td>0.347</td>\n",
       "      <td>277.269</td>\n",
       "      <td>145.045</td>\n",
       "      <td>2260caf798801300dd08d95fa3bbacda</td>\n",
       "      <td>3</td>\n",
       "      <td>0.745</td>\n",
       "    </tr>\n",
       "    <tr>\n",
       "      <th>3</th>\n",
       "      <td>SONG_264595</td>\n",
       "      <td>ARTIST_11921</td>\n",
       "      <td>A Rush Of Blood To The Head (Live In Sydney)</td>\n",
       "      <td>2003</td>\n",
       "      <td>22050</td>\n",
       "      <td>410.8273</td>\n",
       "      <td>0.0</td>\n",
       "      <td>5</td>\n",
       "      <td>0.463</td>\n",
       "      <td>-8.229</td>\n",
       "      <td>1</td>\n",
       "      <td>0.553</td>\n",
       "      <td>408.079</td>\n",
       "      <td>138.038</td>\n",
       "      <td>4c7564d1d8df7dd6ae4fd9c323a8e08d</td>\n",
       "      <td>4</td>\n",
       "      <td>0.59</td>\n",
       "    </tr>\n",
       "    <tr>\n",
       "      <th>4</th>\n",
       "      <td>SONG_119114</td>\n",
       "      <td>ARTIST_21432</td>\n",
       "      <td>Mormons/Gay Marriage/Chimp Prostitution</td>\n",
       "      <td>2010</td>\n",
       "      <td>22050</td>\n",
       "      <td>133.48526</td>\n",
       "      <td>0.0</td>\n",
       "      <td>7</td>\n",
       "      <td>0.457</td>\n",
       "      <td>-6.168</td>\n",
       "      <td>1</td>\n",
       "      <td>0.361</td>\n",
       "      <td>133.485</td>\n",
       "      <td>133.817</td>\n",
       "      <td>7110d232a4438695cb4e058d17975c62</td>\n",
       "      <td>4</td>\n",
       "      <td>0.594</td>\n",
       "    </tr>\n",
       "  </tbody>\n",
       "</table>\n",
       "</div>"
      ],
      "text/plain": [
       "       song_id     artist_id                                         title  \\\n",
       "0  SONG_365464  ARTIST_12557                                   Crying Eyes   \n",
       "1  SONG_451710   ARTIST_2939                                  Fuck and Run   \n",
       "2  SONG_202731   ARTIST_5718                                  Highest Star   \n",
       "3  SONG_264595  ARTIST_11921  A Rush Of Blood To The Head (Live In Sydney)   \n",
       "4  SONG_119114  ARTIST_21432       Mormons/Gay Marriage/Chimp Prostitution   \n",
       "\n",
       "   year analysis_sample_rate   duration end_of_fade_in key key_confidence  \\\n",
       "0  1971                22050  193.38404          0.246   6            0.0   \n",
       "1  1993                22050  187.34975          0.142   7          0.579   \n",
       "2  2009                22050  284.26404            0.0   2          0.306   \n",
       "3  2003                22050   410.8273            0.0   5          0.463   \n",
       "4  2010                22050  133.48526            0.0   7          0.457   \n",
       "\n",
       "  loudness mode mode_confidence start_of_fade_out    tempo  \\\n",
       "0  -19.962    1             0.0           180.135   117.37   \n",
       "1   -8.862    1           0.611           183.049  136.153   \n",
       "2   -4.562    0           0.347           277.269  145.045   \n",
       "3   -8.229    1           0.553           408.079  138.038   \n",
       "4   -6.168    1           0.361           133.485  133.817   \n",
       "\n",
       "                          audio_md5 time_signature time_signature_confidence  \n",
       "0  d03823618266bb14421c5e0ce7c2dd80              4                     0.665  \n",
       "1  7aec017d0194b627d3df0048a2548c6b              4                     0.112  \n",
       "2  2260caf798801300dd08d95fa3bbacda              3                     0.745  \n",
       "3  4c7564d1d8df7dd6ae4fd9c323a8e08d              4                      0.59  \n",
       "4  7110d232a4438695cb4e058d17975c62              4                     0.594  "
      ]
     },
     "execution_count": 60,
     "metadata": {},
     "output_type": "execute_result"
    }
   ],
   "source": [
    "test_data.head()"
   ]
  },
  {
   "cell_type": "code",
   "execution_count": 61,
   "id": "fe62ff5c",
   "metadata": {},
   "outputs": [
    {
     "data": {
      "text/html": [
       "<div>\n",
       "<style scoped>\n",
       "    .dataframe tbody tr th:only-of-type {\n",
       "        vertical-align: middle;\n",
       "    }\n",
       "\n",
       "    .dataframe tbody tr th {\n",
       "        vertical-align: top;\n",
       "    }\n",
       "\n",
       "    .dataframe thead th {\n",
       "        text-align: right;\n",
       "    }\n",
       "</style>\n",
       "<table border=\"1\" class=\"dataframe\">\n",
       "  <thead>\n",
       "    <tr style=\"text-align: right;\">\n",
       "      <th></th>\n",
       "      <th>song_id</th>\n",
       "      <th>artist_id</th>\n",
       "      <th>title</th>\n",
       "      <th>year</th>\n",
       "      <th>analysis_sample_rate</th>\n",
       "      <th>duration</th>\n",
       "      <th>end_of_fade_in</th>\n",
       "      <th>key</th>\n",
       "      <th>key_confidence</th>\n",
       "      <th>loudness</th>\n",
       "      <th>mode</th>\n",
       "      <th>mode_confidence</th>\n",
       "      <th>start_of_fade_out</th>\n",
       "      <th>tempo</th>\n",
       "      <th>audio_md5</th>\n",
       "      <th>time_signature</th>\n",
       "      <th>time_signature_confidence</th>\n",
       "      <th>song_hotttnesss</th>\n",
       "    </tr>\n",
       "  </thead>\n",
       "  <tbody>\n",
       "    <tr>\n",
       "      <th>count</th>\n",
       "      <td>56220</td>\n",
       "      <td>56220</td>\n",
       "      <td>56220</td>\n",
       "      <td>56220</td>\n",
       "      <td>56220</td>\n",
       "      <td>56162</td>\n",
       "      <td>56220</td>\n",
       "      <td>56220</td>\n",
       "      <td>56162</td>\n",
       "      <td>56220</td>\n",
       "      <td>56220</td>\n",
       "      <td>56220</td>\n",
       "      <td>56220</td>\n",
       "      <td>56220</td>\n",
       "      <td>56220</td>\n",
       "      <td>56220</td>\n",
       "      <td>56220</td>\n",
       "      <td>56220</td>\n",
       "    </tr>\n",
       "    <tr>\n",
       "      <th>unique</th>\n",
       "      <td>55949</td>\n",
       "      <td>1297</td>\n",
       "      <td>51296</td>\n",
       "      <td>58</td>\n",
       "      <td>1</td>\n",
       "      <td>15017</td>\n",
       "      <td>2786</td>\n",
       "      <td>12</td>\n",
       "      <td>1002</td>\n",
       "      <td>17290</td>\n",
       "      <td>2</td>\n",
       "      <td>995</td>\n",
       "      <td>35772</td>\n",
       "      <td>42647</td>\n",
       "      <td>55815</td>\n",
       "      <td>7</td>\n",
       "      <td>1001</td>\n",
       "      <td>19713</td>\n",
       "    </tr>\n",
       "    <tr>\n",
       "      <th>top</th>\n",
       "      <td>SONG_150968</td>\n",
       "      <td>ARTIST_6178</td>\n",
       "      <td>Intro</td>\n",
       "      <td>0</td>\n",
       "      <td>22050</td>\n",
       "      <td>y</td>\n",
       "      <td>0</td>\n",
       "      <td>7</td>\n",
       "      <td>0</td>\n",
       "      <td>-6.195</td>\n",
       "      <td>1</td>\n",
       "      <td>0</td>\n",
       "      <td>227.631</td>\n",
       "      <td>0</td>\n",
       "      <td>ddd</td>\n",
       "      <td>4</td>\n",
       "      <td>0</td>\n",
       "      <td>0.215080319</td>\n",
       "    </tr>\n",
       "    <tr>\n",
       "      <th>freq</th>\n",
       "      <td>3</td>\n",
       "      <td>82</td>\n",
       "      <td>46</td>\n",
       "      <td>13469</td>\n",
       "      <td>56220</td>\n",
       "      <td>448</td>\n",
       "      <td>16329</td>\n",
       "      <td>7103</td>\n",
       "      <td>2892</td>\n",
       "      <td>16</td>\n",
       "      <td>37981</td>\n",
       "      <td>1550</td>\n",
       "      <td>9</td>\n",
       "      <td>92</td>\n",
       "      <td>374</td>\n",
       "      <td>35587</td>\n",
       "      <td>11341</td>\n",
       "      <td>945</td>\n",
       "    </tr>\n",
       "  </tbody>\n",
       "</table>\n",
       "</div>"
      ],
      "text/plain": [
       "            song_id    artist_id  title   year analysis_sample_rate duration  \\\n",
       "count         56220        56220  56220  56220                56220    56162   \n",
       "unique        55949         1297  51296     58                    1    15017   \n",
       "top     SONG_150968  ARTIST_6178  Intro      0                22050        y   \n",
       "freq              3           82     46  13469                56220      448   \n",
       "\n",
       "       end_of_fade_in    key key_confidence loudness   mode mode_confidence  \\\n",
       "count           56220  56220          56162    56220  56220           56220   \n",
       "unique           2786     12           1002    17290      2             995   \n",
       "top                 0      7              0   -6.195      1               0   \n",
       "freq            16329   7103           2892       16  37981            1550   \n",
       "\n",
       "       start_of_fade_out  tempo audio_md5 time_signature  \\\n",
       "count              56220  56220     56220          56220   \n",
       "unique             35772  42647     55815              7   \n",
       "top              227.631      0       ddd              4   \n",
       "freq                   9     92       374          35587   \n",
       "\n",
       "       time_signature_confidence song_hotttnesss  \n",
       "count                      56220           56220  \n",
       "unique                      1001           19713  \n",
       "top                            0     0.215080319  \n",
       "freq                       11341             945  "
      ]
     },
     "execution_count": 61,
     "metadata": {},
     "output_type": "execute_result"
    }
   ],
   "source": [
    "train_data.describe()"
   ]
  },
  {
   "cell_type": "code",
   "execution_count": 62,
   "id": "4c666245",
   "metadata": {},
   "outputs": [
    {
     "name": "stdout",
     "output_type": "stream",
     "text": [
      "<class 'pandas.core.frame.DataFrame'>\n",
      "RangeIndex: 56220 entries, 0 to 56219\n",
      "Data columns (total 18 columns):\n",
      " #   Column                     Non-Null Count  Dtype \n",
      "---  ------                     --------------  ----- \n",
      " 0   song_id                    56220 non-null  object\n",
      " 1   artist_id                  56220 non-null  object\n",
      " 2   title                      56220 non-null  object\n",
      " 3   year                       56220 non-null  object\n",
      " 4   analysis_sample_rate       56220 non-null  object\n",
      " 5   duration                   56162 non-null  object\n",
      " 6   end_of_fade_in             56220 non-null  object\n",
      " 7   key                        56220 non-null  object\n",
      " 8   key_confidence             56162 non-null  object\n",
      " 9   loudness                   56220 non-null  object\n",
      " 10  mode                       56220 non-null  object\n",
      " 11  mode_confidence            56220 non-null  object\n",
      " 12  start_of_fade_out          56220 non-null  object\n",
      " 13  tempo                      56220 non-null  object\n",
      " 14  audio_md5                  56220 non-null  object\n",
      " 15  time_signature             56220 non-null  object\n",
      " 16  time_signature_confidence  56220 non-null  object\n",
      " 17  song_hotttnesss            56220 non-null  object\n",
      "dtypes: object(18)\n",
      "memory usage: 7.7+ MB\n"
     ]
    }
   ],
   "source": [
    "train_data.info()"
   ]
  },
  {
   "cell_type": "code",
   "execution_count": 63,
   "id": "fb7ffc9f",
   "metadata": {},
   "outputs": [
    {
     "name": "stdout",
     "output_type": "stream",
     "text": [
      "<class 'pandas.core.frame.DataFrame'>\n",
      "RangeIndex: 27625 entries, 0 to 27624\n",
      "Data columns (total 17 columns):\n",
      " #   Column                     Non-Null Count  Dtype \n",
      "---  ------                     --------------  ----- \n",
      " 0   song_id                    27625 non-null  object\n",
      " 1   artist_id                  27625 non-null  object\n",
      " 2   title                      27625 non-null  object\n",
      " 3   year                       27625 non-null  object\n",
      " 4   analysis_sample_rate       27625 non-null  object\n",
      " 5   duration                   27625 non-null  object\n",
      " 6   end_of_fade_in             27625 non-null  object\n",
      " 7   key                        27625 non-null  object\n",
      " 8   key_confidence             27625 non-null  object\n",
      " 9   loudness                   27625 non-null  object\n",
      " 10  mode                       27625 non-null  object\n",
      " 11  mode_confidence            27625 non-null  object\n",
      " 12  start_of_fade_out          27625 non-null  object\n",
      " 13  tempo                      27625 non-null  object\n",
      " 14  audio_md5                  27625 non-null  object\n",
      " 15  time_signature             27625 non-null  object\n",
      " 16  time_signature_confidence  27625 non-null  object\n",
      "dtypes: object(17)\n",
      "memory usage: 3.6+ MB\n"
     ]
    }
   ],
   "source": [
    "test_data.info()"
   ]
  },
  {
   "cell_type": "code",
   "execution_count": 64,
   "id": "0423ee46",
   "metadata": {},
   "outputs": [
    {
     "data": {
      "text/plain": [
       "song_id                       0\n",
       "artist_id                     0\n",
       "title                         0\n",
       "year                          0\n",
       "analysis_sample_rate          0\n",
       "duration                     58\n",
       "end_of_fade_in                0\n",
       "key                           0\n",
       "key_confidence               58\n",
       "loudness                      0\n",
       "mode                          0\n",
       "mode_confidence               0\n",
       "start_of_fade_out             0\n",
       "tempo                         0\n",
       "audio_md5                     0\n",
       "time_signature                0\n",
       "time_signature_confidence     0\n",
       "song_hotttnesss               0\n",
       "dtype: int64"
      ]
     },
     "execution_count": 64,
     "metadata": {},
     "output_type": "execute_result"
    }
   ],
   "source": [
    "train_data.isnull().sum()"
   ]
  },
  {
   "cell_type": "code",
   "execution_count": 65,
   "id": "df3c9195",
   "metadata": {},
   "outputs": [
    {
     "data": {
      "text/plain": [
       "song_id                      0\n",
       "artist_id                    0\n",
       "title                        0\n",
       "year                         0\n",
       "analysis_sample_rate         0\n",
       "duration                     0\n",
       "end_of_fade_in               0\n",
       "key                          0\n",
       "key_confidence               0\n",
       "loudness                     0\n",
       "mode                         0\n",
       "mode_confidence              0\n",
       "start_of_fade_out            0\n",
       "tempo                        0\n",
       "audio_md5                    0\n",
       "time_signature               0\n",
       "time_signature_confidence    0\n",
       "dtype: int64"
      ]
     },
     "execution_count": 65,
     "metadata": {},
     "output_type": "execute_result"
    }
   ],
   "source": [
    "test_data.isnull().sum()"
   ]
  },
  {
   "cell_type": "code",
   "execution_count": 66,
   "id": "323e485e",
   "metadata": {},
   "outputs": [
    {
     "data": {
      "text/plain": [
       "0        2892\n",
       "1         952\n",
       "z         269\n",
       "0.59      101\n",
       "0.001     100\n",
       "         ... \n",
       "0.989       7\n",
       "0.986       6\n",
       "0.976       5\n",
       "0.961       5\n",
       "0.99        3\n",
       "Name: key_confidence, Length: 1002, dtype: int64"
      ]
     },
     "execution_count": 66,
     "metadata": {},
     "output_type": "execute_result"
    }
   ],
   "source": [
    "train_data['key_confidence'].value_counts()"
   ]
  },
  {
   "cell_type": "code",
   "execution_count": 67,
   "id": "f21f39e4",
   "metadata": {},
   "outputs": [],
   "source": [
    "train_data=train_data.dropna()"
   ]
  },
  {
   "cell_type": "code",
   "execution_count": 68,
   "id": "d798ff51",
   "metadata": {},
   "outputs": [
    {
     "data": {
      "text/plain": [
       "song_id                      0\n",
       "artist_id                    0\n",
       "title                        0\n",
       "year                         0\n",
       "analysis_sample_rate         0\n",
       "duration                     0\n",
       "end_of_fade_in               0\n",
       "key                          0\n",
       "key_confidence               0\n",
       "loudness                     0\n",
       "mode                         0\n",
       "mode_confidence              0\n",
       "start_of_fade_out            0\n",
       "tempo                        0\n",
       "audio_md5                    0\n",
       "time_signature               0\n",
       "time_signature_confidence    0\n",
       "song_hotttnesss              0\n",
       "dtype: int64"
      ]
     },
     "execution_count": 68,
     "metadata": {},
     "output_type": "execute_result"
    }
   ],
   "source": [
    "train_data.isnull().sum()"
   ]
  },
  {
   "cell_type": "code",
   "execution_count": 69,
   "id": "c98be856",
   "metadata": {},
   "outputs": [
    {
     "name": "stdout",
     "output_type": "stream",
     "text": [
      "<class 'pandas.core.frame.DataFrame'>\n",
      "Int64Index: 56140 entries, 0 to 56219\n",
      "Data columns (total 18 columns):\n",
      " #   Column                     Non-Null Count  Dtype \n",
      "---  ------                     --------------  ----- \n",
      " 0   song_id                    56140 non-null  object\n",
      " 1   artist_id                  56140 non-null  object\n",
      " 2   title                      56140 non-null  object\n",
      " 3   year                       56140 non-null  object\n",
      " 4   analysis_sample_rate       56140 non-null  object\n",
      " 5   duration                   56140 non-null  object\n",
      " 6   end_of_fade_in             56140 non-null  object\n",
      " 7   key                        56140 non-null  object\n",
      " 8   key_confidence             56140 non-null  object\n",
      " 9   loudness                   56140 non-null  object\n",
      " 10  mode                       56140 non-null  object\n",
      " 11  mode_confidence            56140 non-null  object\n",
      " 12  start_of_fade_out          56140 non-null  object\n",
      " 13  tempo                      56140 non-null  object\n",
      " 14  audio_md5                  56140 non-null  object\n",
      " 15  time_signature             56140 non-null  object\n",
      " 16  time_signature_confidence  56140 non-null  object\n",
      " 17  song_hotttnesss            56140 non-null  object\n",
      "dtypes: object(18)\n",
      "memory usage: 8.1+ MB\n"
     ]
    }
   ],
   "source": [
    "train_data.info()"
   ]
  },
  {
   "cell_type": "code",
   "execution_count": 71,
   "id": "a3cb2cb1",
   "metadata": {},
   "outputs": [],
   "source": [
    "# numerical_columns=['year','analysis_sample_rate','end_of_fade_in','key','loudness','mode','mode_confidence','start_of_fade_out',\n",
    "#                     'tempo','time_signature','time_signature_confidence']\n",
    "\n",
    "numerical_columns= []\n",
    "\n",
    "caterogical_columns=['song_id','artist_id','title', 'duration','key_confidence','audio_md5','year','analysis_sample_rate','end_of_fade_in','key','loudness','mode','mode_confidence','start_of_fade_out',\n",
    "                    'tempo','time_signature','time_signature_confidence']"
   ]
  },
  {
   "cell_type": "code",
   "execution_count": 72,
   "id": "180cb735",
   "metadata": {},
   "outputs": [],
   "source": [
    "from sklearn.compose import ColumnTransformer\n",
    "from sklearn.pipeline import Pipeline\n",
    "\n",
    "\n",
    "from sklearn.impute import SimpleImputer\n",
    "imputer = SimpleImputer(strategy=\"most_frequent\")\n",
    "\n",
    "\n",
    "from sklearn.preprocessing import StandardScaler\n",
    "num_pipeline = Pipeline([\n",
    "('imputer', SimpleImputer(strategy=\"most_frequent\")),\n",
    "('std_scaler', StandardScaler()),\n",
    "])\n",
    "\n",
    "\n",
    "\n",
    "from sklearn.preprocessing import OneHotEncoder\n",
    "cat_encoder = OneHotEncoder()\n",
    "\n",
    "num_attribs = numerical_columns\n",
    "cat_attribs = caterogical_columns\n",
    "\n",
    "\n",
    "\n",
    "\n",
    "full_pipeline = ColumnTransformer([\n",
    "(\"num\", num_pipeline, num_attribs),\n",
    "(\"cat\", OneHotEncoder(), cat_attribs),\n",
    "])\n",
    "train_data_prepared = full_pipeline.fit_transform(train_data)\n",
    "\n",
    "test_data_prepared = full_pipeline.fit_transform(test_data)"
   ]
  },
  {
   "cell_type": "code",
   "execution_count": 73,
   "id": "b0faa9c9",
   "metadata": {},
   "outputs": [
    {
     "ename": "ValueError",
     "evalue": "hist method requires numerical or datetime columns, nothing to plot.",
     "output_type": "error",
     "traceback": [
      "\u001b[1;31m---------------------------------------------------------------------------\u001b[0m",
      "\u001b[1;31mValueError\u001b[0m                                Traceback (most recent call last)",
      "Input \u001b[1;32mIn [73]\u001b[0m, in \u001b[0;36m<cell line: 3>\u001b[1;34m()\u001b[0m\n\u001b[0;32m      1\u001b[0m get_ipython()\u001b[38;5;241m.\u001b[39mrun_line_magic(\u001b[38;5;124m'\u001b[39m\u001b[38;5;124mmatplotlib\u001b[39m\u001b[38;5;124m'\u001b[39m, \u001b[38;5;124m'\u001b[39m\u001b[38;5;124minline\u001b[39m\u001b[38;5;124m'\u001b[39m)\n\u001b[0;32m      2\u001b[0m \u001b[38;5;28;01mimport\u001b[39;00m \u001b[38;5;21;01mmatplotlib\u001b[39;00m\u001b[38;5;21;01m.\u001b[39;00m\u001b[38;5;21;01mpyplot\u001b[39;00m \u001b[38;5;28;01mas\u001b[39;00m \u001b[38;5;21;01mplt\u001b[39;00m\n\u001b[1;32m----> 3\u001b[0m \u001b[43mtrain_data\u001b[49m\u001b[43m[\u001b[49m\u001b[43mnumerical_columns\u001b[49m\u001b[43m]\u001b[49m\u001b[38;5;241;43m.\u001b[39;49m\u001b[43mhist\u001b[49m\u001b[43m(\u001b[49m\u001b[43mbins\u001b[49m\u001b[38;5;241;43m=\u001b[39;49m\u001b[38;5;241;43m50\u001b[39;49m\u001b[43m,\u001b[49m\u001b[43m \u001b[49m\u001b[43mfigsize\u001b[49m\u001b[38;5;241;43m=\u001b[39;49m\u001b[43m(\u001b[49m\u001b[38;5;241;43m20\u001b[39;49m\u001b[43m,\u001b[49m\u001b[38;5;241;43m15\u001b[39;49m\u001b[43m)\u001b[49m\u001b[43m)\u001b[49m\n\u001b[0;32m      4\u001b[0m plt\u001b[38;5;241m.\u001b[39mshow()\n",
      "File \u001b[1;32m~\\anaconda3\\lib\\site-packages\\pandas\\plotting\\_core.py:226\u001b[0m, in \u001b[0;36mhist_frame\u001b[1;34m(data, column, by, grid, xlabelsize, xrot, ylabelsize, yrot, ax, sharex, sharey, figsize, layout, bins, backend, legend, **kwargs)\u001b[0m\n\u001b[0;32m    135\u001b[0m \u001b[38;5;124;03m\"\"\"\u001b[39;00m\n\u001b[0;32m    136\u001b[0m \u001b[38;5;124;03mMake a histogram of the DataFrame's columns.\u001b[39;00m\n\u001b[0;32m    137\u001b[0m \n\u001b[1;32m   (...)\u001b[0m\n\u001b[0;32m    223\u001b[0m \u001b[38;5;124;03m    >>> hist = df.hist(bins=3)\u001b[39;00m\n\u001b[0;32m    224\u001b[0m \u001b[38;5;124;03m\"\"\"\u001b[39;00m\n\u001b[0;32m    225\u001b[0m plot_backend \u001b[38;5;241m=\u001b[39m _get_plot_backend(backend)\n\u001b[1;32m--> 226\u001b[0m \u001b[38;5;28;01mreturn\u001b[39;00m plot_backend\u001b[38;5;241m.\u001b[39mhist_frame(\n\u001b[0;32m    227\u001b[0m     data,\n\u001b[0;32m    228\u001b[0m     column\u001b[38;5;241m=\u001b[39mcolumn,\n\u001b[0;32m    229\u001b[0m     by\u001b[38;5;241m=\u001b[39mby,\n\u001b[0;32m    230\u001b[0m     grid\u001b[38;5;241m=\u001b[39mgrid,\n\u001b[0;32m    231\u001b[0m     xlabelsize\u001b[38;5;241m=\u001b[39mxlabelsize,\n\u001b[0;32m    232\u001b[0m     xrot\u001b[38;5;241m=\u001b[39mxrot,\n\u001b[0;32m    233\u001b[0m     ylabelsize\u001b[38;5;241m=\u001b[39mylabelsize,\n\u001b[0;32m    234\u001b[0m     yrot\u001b[38;5;241m=\u001b[39myrot,\n\u001b[0;32m    235\u001b[0m     ax\u001b[38;5;241m=\u001b[39max,\n\u001b[0;32m    236\u001b[0m     sharex\u001b[38;5;241m=\u001b[39msharex,\n\u001b[0;32m    237\u001b[0m     sharey\u001b[38;5;241m=\u001b[39msharey,\n\u001b[0;32m    238\u001b[0m     figsize\u001b[38;5;241m=\u001b[39mfigsize,\n\u001b[0;32m    239\u001b[0m     layout\u001b[38;5;241m=\u001b[39mlayout,\n\u001b[0;32m    240\u001b[0m     legend\u001b[38;5;241m=\u001b[39mlegend,\n\u001b[0;32m    241\u001b[0m     bins\u001b[38;5;241m=\u001b[39mbins,\n\u001b[0;32m    242\u001b[0m     \u001b[38;5;241m*\u001b[39m\u001b[38;5;241m*\u001b[39mkwargs,\n\u001b[0;32m    243\u001b[0m )\n",
      "File \u001b[1;32m~\\anaconda3\\lib\\site-packages\\pandas\\plotting\\_matplotlib\\hist.py:480\u001b[0m, in \u001b[0;36mhist_frame\u001b[1;34m(data, column, by, grid, xlabelsize, xrot, ylabelsize, yrot, ax, sharex, sharey, figsize, layout, bins, legend, **kwds)\u001b[0m\n\u001b[0;32m    477\u001b[0m naxes \u001b[38;5;241m=\u001b[39m \u001b[38;5;28mlen\u001b[39m(data\u001b[38;5;241m.\u001b[39mcolumns)\n\u001b[0;32m    479\u001b[0m \u001b[38;5;28;01mif\u001b[39;00m naxes \u001b[38;5;241m==\u001b[39m \u001b[38;5;241m0\u001b[39m:\n\u001b[1;32m--> 480\u001b[0m     \u001b[38;5;28;01mraise\u001b[39;00m \u001b[38;5;167;01mValueError\u001b[39;00m(\n\u001b[0;32m    481\u001b[0m         \u001b[38;5;124m\"\u001b[39m\u001b[38;5;124mhist method requires numerical or datetime columns, nothing to plot.\u001b[39m\u001b[38;5;124m\"\u001b[39m\n\u001b[0;32m    482\u001b[0m     )\n\u001b[0;32m    484\u001b[0m fig, axes \u001b[38;5;241m=\u001b[39m create_subplots(\n\u001b[0;32m    485\u001b[0m     naxes\u001b[38;5;241m=\u001b[39mnaxes,\n\u001b[0;32m    486\u001b[0m     ax\u001b[38;5;241m=\u001b[39max,\n\u001b[1;32m   (...)\u001b[0m\n\u001b[0;32m    491\u001b[0m     layout\u001b[38;5;241m=\u001b[39mlayout,\n\u001b[0;32m    492\u001b[0m )\n\u001b[0;32m    493\u001b[0m _axes \u001b[38;5;241m=\u001b[39m flatten_axes(axes)\n",
      "\u001b[1;31mValueError\u001b[0m: hist method requires numerical or datetime columns, nothing to plot."
     ]
    }
   ],
   "source": [
    "%matplotlib inline\n",
    "import matplotlib.pyplot as plt\n",
    "train_data[numerical_columns].hist(bins=50, figsize=(20,15))\n",
    "plt.show()"
   ]
  },
  {
   "cell_type": "code",
   "execution_count": 74,
   "id": "3753e42d",
   "metadata": {},
   "outputs": [
    {
     "ename": "ValueError",
     "evalue": "zero-size array to reduction operation fmin which has no identity",
     "output_type": "error",
     "traceback": [
      "\u001b[1;31m---------------------------------------------------------------------------\u001b[0m",
      "\u001b[1;31mValueError\u001b[0m                                Traceback (most recent call last)",
      "Input \u001b[1;32mIn [74]\u001b[0m, in \u001b[0;36m<cell line: 2>\u001b[1;34m()\u001b[0m\n\u001b[0;32m      1\u001b[0m plt\u001b[38;5;241m.\u001b[39mfigure(figsize\u001b[38;5;241m=\u001b[39m(\u001b[38;5;241m15\u001b[39m,\u001b[38;5;241m8\u001b[39m))\n\u001b[1;32m----> 2\u001b[0m \u001b[43msns\u001b[49m\u001b[38;5;241;43m.\u001b[39;49m\u001b[43mheatmap\u001b[49m\u001b[43m(\u001b[49m\u001b[43mtrain_data\u001b[49m\u001b[38;5;241;43m.\u001b[39;49m\u001b[43mcorr\u001b[49m\u001b[43m(\u001b[49m\u001b[43m)\u001b[49m\u001b[43m)\u001b[49m\n",
      "File \u001b[1;32m~\\anaconda3\\lib\\site-packages\\seaborn\\_decorators.py:46\u001b[0m, in \u001b[0;36m_deprecate_positional_args.<locals>.inner_f\u001b[1;34m(*args, **kwargs)\u001b[0m\n\u001b[0;32m     36\u001b[0m     warnings\u001b[38;5;241m.\u001b[39mwarn(\n\u001b[0;32m     37\u001b[0m         \u001b[38;5;124m\"\u001b[39m\u001b[38;5;124mPass the following variable\u001b[39m\u001b[38;5;132;01m{}\u001b[39;00m\u001b[38;5;124m as \u001b[39m\u001b[38;5;132;01m{}\u001b[39;00m\u001b[38;5;124mkeyword arg\u001b[39m\u001b[38;5;132;01m{}\u001b[39;00m\u001b[38;5;124m: \u001b[39m\u001b[38;5;132;01m{}\u001b[39;00m\u001b[38;5;124m. \u001b[39m\u001b[38;5;124m\"\u001b[39m\n\u001b[0;32m     38\u001b[0m         \u001b[38;5;124m\"\u001b[39m\u001b[38;5;124mFrom version 0.12, the only valid positional argument \u001b[39m\u001b[38;5;124m\"\u001b[39m\n\u001b[1;32m   (...)\u001b[0m\n\u001b[0;32m     43\u001b[0m         \u001b[38;5;167;01mFutureWarning\u001b[39;00m\n\u001b[0;32m     44\u001b[0m     )\n\u001b[0;32m     45\u001b[0m kwargs\u001b[38;5;241m.\u001b[39mupdate({k: arg \u001b[38;5;28;01mfor\u001b[39;00m k, arg \u001b[38;5;129;01min\u001b[39;00m \u001b[38;5;28mzip\u001b[39m(sig\u001b[38;5;241m.\u001b[39mparameters, args)})\n\u001b[1;32m---> 46\u001b[0m \u001b[38;5;28;01mreturn\u001b[39;00m f(\u001b[38;5;241m*\u001b[39m\u001b[38;5;241m*\u001b[39mkwargs)\n",
      "File \u001b[1;32m~\\anaconda3\\lib\\site-packages\\seaborn\\matrix.py:540\u001b[0m, in \u001b[0;36mheatmap\u001b[1;34m(data, vmin, vmax, cmap, center, robust, annot, fmt, annot_kws, linewidths, linecolor, cbar, cbar_kws, cbar_ax, square, xticklabels, yticklabels, mask, ax, **kwargs)\u001b[0m\n\u001b[0;32m    362\u001b[0m \u001b[38;5;124;03m\"\"\"Plot rectangular data as a color-encoded matrix.\u001b[39;00m\n\u001b[0;32m    363\u001b[0m \n\u001b[0;32m    364\u001b[0m \u001b[38;5;124;03mThis is an Axes-level function and will draw the heatmap into the\u001b[39;00m\n\u001b[1;32m   (...)\u001b[0m\n\u001b[0;32m    537\u001b[0m \u001b[38;5;124;03m    ...     ax = sns.heatmap(corr, mask=mask, vmax=.3, square=True)\u001b[39;00m\n\u001b[0;32m    538\u001b[0m \u001b[38;5;124;03m\"\"\"\u001b[39;00m\n\u001b[0;32m    539\u001b[0m \u001b[38;5;66;03m# Initialize the plotter object\u001b[39;00m\n\u001b[1;32m--> 540\u001b[0m plotter \u001b[38;5;241m=\u001b[39m \u001b[43m_HeatMapper\u001b[49m\u001b[43m(\u001b[49m\u001b[43mdata\u001b[49m\u001b[43m,\u001b[49m\u001b[43m \u001b[49m\u001b[43mvmin\u001b[49m\u001b[43m,\u001b[49m\u001b[43m \u001b[49m\u001b[43mvmax\u001b[49m\u001b[43m,\u001b[49m\u001b[43m \u001b[49m\u001b[43mcmap\u001b[49m\u001b[43m,\u001b[49m\u001b[43m \u001b[49m\u001b[43mcenter\u001b[49m\u001b[43m,\u001b[49m\u001b[43m \u001b[49m\u001b[43mrobust\u001b[49m\u001b[43m,\u001b[49m\u001b[43m \u001b[49m\u001b[43mannot\u001b[49m\u001b[43m,\u001b[49m\u001b[43m \u001b[49m\u001b[43mfmt\u001b[49m\u001b[43m,\u001b[49m\n\u001b[0;32m    541\u001b[0m \u001b[43m                      \u001b[49m\u001b[43mannot_kws\u001b[49m\u001b[43m,\u001b[49m\u001b[43m \u001b[49m\u001b[43mcbar\u001b[49m\u001b[43m,\u001b[49m\u001b[43m \u001b[49m\u001b[43mcbar_kws\u001b[49m\u001b[43m,\u001b[49m\u001b[43m \u001b[49m\u001b[43mxticklabels\u001b[49m\u001b[43m,\u001b[49m\n\u001b[0;32m    542\u001b[0m \u001b[43m                      \u001b[49m\u001b[43myticklabels\u001b[49m\u001b[43m,\u001b[49m\u001b[43m \u001b[49m\u001b[43mmask\u001b[49m\u001b[43m)\u001b[49m\n\u001b[0;32m    544\u001b[0m \u001b[38;5;66;03m# Add the pcolormesh kwargs here\u001b[39;00m\n\u001b[0;32m    545\u001b[0m kwargs[\u001b[38;5;124m\"\u001b[39m\u001b[38;5;124mlinewidths\u001b[39m\u001b[38;5;124m\"\u001b[39m] \u001b[38;5;241m=\u001b[39m linewidths\n",
      "File \u001b[1;32m~\\anaconda3\\lib\\site-packages\\seaborn\\matrix.py:159\u001b[0m, in \u001b[0;36m_HeatMapper.__init__\u001b[1;34m(self, data, vmin, vmax, cmap, center, robust, annot, fmt, annot_kws, cbar, cbar_kws, xticklabels, yticklabels, mask)\u001b[0m\n\u001b[0;32m    156\u001b[0m \u001b[38;5;28mself\u001b[39m\u001b[38;5;241m.\u001b[39mylabel \u001b[38;5;241m=\u001b[39m ylabel \u001b[38;5;28;01mif\u001b[39;00m ylabel \u001b[38;5;129;01mis\u001b[39;00m \u001b[38;5;129;01mnot\u001b[39;00m \u001b[38;5;28;01mNone\u001b[39;00m \u001b[38;5;28;01melse\u001b[39;00m \u001b[38;5;124m\"\u001b[39m\u001b[38;5;124m\"\u001b[39m\n\u001b[0;32m    158\u001b[0m \u001b[38;5;66;03m# Determine good default values for the colormapping\u001b[39;00m\n\u001b[1;32m--> 159\u001b[0m \u001b[38;5;28;43mself\u001b[39;49m\u001b[38;5;241;43m.\u001b[39;49m\u001b[43m_determine_cmap_params\u001b[49m\u001b[43m(\u001b[49m\u001b[43mplot_data\u001b[49m\u001b[43m,\u001b[49m\u001b[43m \u001b[49m\u001b[43mvmin\u001b[49m\u001b[43m,\u001b[49m\u001b[43m \u001b[49m\u001b[43mvmax\u001b[49m\u001b[43m,\u001b[49m\n\u001b[0;32m    160\u001b[0m \u001b[43m                            \u001b[49m\u001b[43mcmap\u001b[49m\u001b[43m,\u001b[49m\u001b[43m \u001b[49m\u001b[43mcenter\u001b[49m\u001b[43m,\u001b[49m\u001b[43m \u001b[49m\u001b[43mrobust\u001b[49m\u001b[43m)\u001b[49m\n\u001b[0;32m    162\u001b[0m \u001b[38;5;66;03m# Sort out the annotations\u001b[39;00m\n\u001b[0;32m    163\u001b[0m \u001b[38;5;28;01mif\u001b[39;00m annot \u001b[38;5;129;01mis\u001b[39;00m \u001b[38;5;28;01mNone\u001b[39;00m \u001b[38;5;129;01mor\u001b[39;00m annot \u001b[38;5;129;01mis\u001b[39;00m \u001b[38;5;28;01mFalse\u001b[39;00m:\n",
      "File \u001b[1;32m~\\anaconda3\\lib\\site-packages\\seaborn\\matrix.py:198\u001b[0m, in \u001b[0;36m_HeatMapper._determine_cmap_params\u001b[1;34m(self, plot_data, vmin, vmax, cmap, center, robust)\u001b[0m\n\u001b[0;32m    196\u001b[0m         vmin \u001b[38;5;241m=\u001b[39m np\u001b[38;5;241m.\u001b[39mnanpercentile(calc_data, \u001b[38;5;241m2\u001b[39m)\n\u001b[0;32m    197\u001b[0m     \u001b[38;5;28;01melse\u001b[39;00m:\n\u001b[1;32m--> 198\u001b[0m         vmin \u001b[38;5;241m=\u001b[39m \u001b[43mnp\u001b[49m\u001b[38;5;241;43m.\u001b[39;49m\u001b[43mnanmin\u001b[49m\u001b[43m(\u001b[49m\u001b[43mcalc_data\u001b[49m\u001b[43m)\u001b[49m\n\u001b[0;32m    199\u001b[0m \u001b[38;5;28;01mif\u001b[39;00m vmax \u001b[38;5;129;01mis\u001b[39;00m \u001b[38;5;28;01mNone\u001b[39;00m:\n\u001b[0;32m    200\u001b[0m     \u001b[38;5;28;01mif\u001b[39;00m robust:\n",
      "File \u001b[1;32m<__array_function__ internals>:5\u001b[0m, in \u001b[0;36mnanmin\u001b[1;34m(*args, **kwargs)\u001b[0m\n",
      "File \u001b[1;32m~\\anaconda3\\lib\\site-packages\\numpy\\lib\\nanfunctions.py:319\u001b[0m, in \u001b[0;36mnanmin\u001b[1;34m(a, axis, out, keepdims)\u001b[0m\n\u001b[0;32m    315\u001b[0m     kwargs[\u001b[38;5;124m'\u001b[39m\u001b[38;5;124mkeepdims\u001b[39m\u001b[38;5;124m'\u001b[39m] \u001b[38;5;241m=\u001b[39m keepdims\n\u001b[0;32m    316\u001b[0m \u001b[38;5;28;01mif\u001b[39;00m \u001b[38;5;28mtype\u001b[39m(a) \u001b[38;5;129;01mis\u001b[39;00m np\u001b[38;5;241m.\u001b[39mndarray \u001b[38;5;129;01mand\u001b[39;00m a\u001b[38;5;241m.\u001b[39mdtype \u001b[38;5;241m!=\u001b[39m np\u001b[38;5;241m.\u001b[39mobject_:\n\u001b[0;32m    317\u001b[0m     \u001b[38;5;66;03m# Fast, but not safe for subclasses of ndarray, or object arrays,\u001b[39;00m\n\u001b[0;32m    318\u001b[0m     \u001b[38;5;66;03m# which do not implement isnan (gh-9009), or fmin correctly (gh-8975)\u001b[39;00m\n\u001b[1;32m--> 319\u001b[0m     res \u001b[38;5;241m=\u001b[39m np\u001b[38;5;241m.\u001b[39mfmin\u001b[38;5;241m.\u001b[39mreduce(a, axis\u001b[38;5;241m=\u001b[39maxis, out\u001b[38;5;241m=\u001b[39mout, \u001b[38;5;241m*\u001b[39m\u001b[38;5;241m*\u001b[39mkwargs)\n\u001b[0;32m    320\u001b[0m     \u001b[38;5;28;01mif\u001b[39;00m np\u001b[38;5;241m.\u001b[39misnan(res)\u001b[38;5;241m.\u001b[39many():\n\u001b[0;32m    321\u001b[0m         warnings\u001b[38;5;241m.\u001b[39mwarn(\u001b[38;5;124m\"\u001b[39m\u001b[38;5;124mAll-NaN slice encountered\u001b[39m\u001b[38;5;124m\"\u001b[39m, \u001b[38;5;167;01mRuntimeWarning\u001b[39;00m,\n\u001b[0;32m    322\u001b[0m                       stacklevel\u001b[38;5;241m=\u001b[39m\u001b[38;5;241m3\u001b[39m)\n",
      "\u001b[1;31mValueError\u001b[0m: zero-size array to reduction operation fmin which has no identity"
     ]
    },
    {
     "data": {
      "text/plain": [
       "<Figure size 1080x576 with 0 Axes>"
      ]
     },
     "metadata": {},
     "output_type": "display_data"
    }
   ],
   "source": [
    "plt.figure(figsize=(15,8))\n",
    "sns.heatmap(train_data.corr())"
   ]
  },
  {
   "cell_type": "code",
   "execution_count": 75,
   "id": "5370c7fa",
   "metadata": {},
   "outputs": [
    {
     "name": "stderr",
     "output_type": "stream",
     "text": [
      "C:\\Users\\raj71\\anaconda3\\lib\\site-packages\\seaborn\\_decorators.py:36: FutureWarning: Pass the following variables as keyword args: x, y. From version 0.12, the only valid positional argument will be `data`, and passing other arguments without an explicit keyword will result in an error or misinterpretation.\n",
      "  warnings.warn(\n"
     ]
    },
    {
     "data": {
      "image/png": "[encoded data removed]",
      "text/plain": [
       "<Figure size 432x288 with 1 Axes>"
      ]
     },
     "metadata": {},
     "output_type": "display_data"
    },
    {
     "data": {
      "text/plain": [
       "<Figure size 4320x1728 with 0 Axes>"
      ]
     },
     "metadata": {},
     "output_type": "display_data"
    },
    {
     "name": "stderr",
     "output_type": "stream",
     "text": [
      "C:\\Users\\raj71\\anaconda3\\lib\\site-packages\\seaborn\\_decorators.py:36: FutureWarning: Pass the following variables as keyword args: x, y. From version 0.12, the only valid positional argument will be `data`, and passing other arguments without an explicit keyword will result in an error or misinterpretation.\n",
      "  warnings.warn(\n"
     ]
    },
    {
     "data": {
      "image/png": "[encoded data removed]",
      "text/plain": [
       "<Figure size 432x288 with 1 Axes>"
      ]
     },
     "metadata": {},
     "output_type": "display_data"
    },
    {
     "data": {
      "text/plain": [
       "<Figure size 4320x1728 with 0 Axes>"
      ]
     },
     "metadata": {},
     "output_type": "display_data"
    },
    {
     "name": "stderr",
     "output_type": "stream",
     "text": [
      "C:\\Users\\raj71\\anaconda3\\lib\\site-packages\\seaborn\\_decorators.py:36: FutureWarning: Pass the following variables as keyword args: x, y. From version 0.12, the only valid positional argument will be `data`, and passing other arguments without an explicit keyword will result in an error or misinterpretation.\n",
      "  warnings.warn(\n"
     ]
    },
    {
     "data": {
      "image/png": "[encoded data removed]",
      "text/plain": [
       "<Figure size 432x288 with 1 Axes>"
      ]
     },
     "metadata": {},
     "output_type": "display_data"
    },
    {
     "data": {
      "text/plain": [
       "<Figure size 4320x1728 with 0 Axes>"
      ]
     },
     "metadata": {},
     "output_type": "display_data"
    },
    {
     "name": "stderr",
     "output_type": "stream",
     "text": [
      "C:\\Users\\raj71\\anaconda3\\lib\\site-packages\\seaborn\\_decorators.py:36: FutureWarning: Pass the following variables as keyword args: x, y. From version 0.12, the only valid positional argument will be `data`, and passing other arguments without an explicit keyword will result in an error or misinterpretation.\n",
      "  warnings.warn(\n"
     ]
    },
    {
     "data": {
      "image/png": "[encoded data removed]",
      "text/plain": [
       "<Figure size 432x288 with 1 Axes>"
      ]
     },
     "metadata": {},
     "output_type": "display_data"
    },
    {
     "data": {
      "text/plain": [
       "<Figure size 4320x1728 with 0 Axes>"
      ]
     },
     "metadata": {},
     "output_type": "display_data"
    }
   ],
   "source": [
    "for each in train_data.columns.to_list():\n",
    "    #print(len(train_data[each].unique()),each)\n",
    "    if len(train_data[each].unique())<40:\n",
    "        carrier_count = train_data[each].value_counts()\n",
    "        sns.set(style=\"darkgrid\")\n",
    "        sns.barplot(carrier_count.index, carrier_count.values, alpha=0.9)\n",
    "        plt.title('Frequency Distribution of Product Categories')\n",
    "        plt.ylabel('Number of Occurrences', fontsize=12)\n",
    "        plt.xlabel(each, fontsize=12)\n",
    "        plt.figure(figsize=(60,24))\n",
    "        plt.show()"
   ]
  },
  {
   "cell_type": "code",
   "execution_count": 76,
   "id": "9e6fe2f0",
   "metadata": {},
   "outputs": [
    {
     "name": "stdout",
     "output_type": "stream",
     "text": [
      "Collecting xgboost\n",
      "  Downloading xgboost-1.6.1-py3-none-win_amd64.whl (125.4 MB)\n",
      "Requirement already satisfied: numpy in c:\\users\\raj71\\anaconda3\\lib\\site-packages (from xgboost) (1.21.5)\n",
      "Requirement already satisfied: scipy in c:\\users\\raj71\\anaconda3\\lib\\site-packages (from xgboost) (1.7.3)\n",
      "Installing collected packages: xgboost\n",
      "Successfully installed xgboost-1.6.1\n",
      "Collecting lightgbm\n",
      "  Downloading lightgbm-3.3.2-py3-none-win_amd64.whl (1.0 MB)\n",
      "Requirement already satisfied: wheel in c:\\users\\raj71\\anaconda3\\lib\\site-packages (from lightgbm) (0.37.1)\n",
      "Requirement already satisfied: scikit-learn!=0.22.0 in c:\\users\\raj71\\anaconda3\\lib\\site-packages (from lightgbm) (1.0.2)\n",
      "Requirement already satisfied: numpy in c:\\users\\raj71\\anaconda3\\lib\\site-packages (from lightgbm) (1.21.5)\n",
      "Requirement already satisfied: scipy in c:\\users\\raj71\\anaconda3\\lib\\site-packages (from lightgbm) (1.7.3)\n",
      "Requirement already satisfied: threadpoolctl>=2.0.0 in c:\\users\\raj71\\anaconda3\\lib\\site-packages (from scikit-learn!=0.22.0->lightgbm) (2.2.0)\n",
      "Requirement already satisfied: joblib>=0.11 in c:\\users\\raj71\\anaconda3\\lib\\site-packages (from scikit-learn!=0.22.0->lightgbm) (1.1.0)\n",
      "Installing collected packages: lightgbm\n",
      "Successfully installed lightgbm-3.3.2\n"
     ]
    }
   ],
   "source": [
    "!pip install xgboost\n",
    "!pip install lightgbm "
   ]
  },
  {
   "cell_type": "code",
   "execution_count": 77,
   "id": "5486c2b5",
   "metadata": {},
   "outputs": [],
   "source": [
    "valid_fraction = 0.05\n",
    "valid_size = int(len(train_data) * valid_fraction)\n",
    "\n",
    "train = train_data_prepared[:-2 * valid_size]\n",
    "valid = train_data_prepared[-2 * valid_size:-valid_size]\n",
    "test = train_data_prepared[-valid_size:]\n",
    "\n",
    "\n",
    "train_l = train_data[:-2 * valid_size]\n",
    "valid_l = train_data[-2 * valid_size:-valid_size]\n",
    "test_l = train_data[-valid_size:]"
   ]
  },
  {
   "cell_type": "code",
   "execution_count": 81,
   "id": "24014edf",
   "metadata": {},
   "outputs": [
    {
     "ename": "ValueError",
     "evalue": "y contains previously unseen labels: '0.594642245'",
     "output_type": "error",
     "traceback": [
      "\u001b[1;31m---------------------------------------------------------------------------\u001b[0m",
      "\u001b[1;31mKeyError\u001b[0m                                  Traceback (most recent call last)",
      "File \u001b[1;32m~\\anaconda3\\lib\\site-packages\\sklearn\\utils\\_encode.py:182\u001b[0m, in \u001b[0;36m_encode\u001b[1;34m(values, uniques, check_unknown)\u001b[0m\n\u001b[0;32m    181\u001b[0m \u001b[38;5;28;01mtry\u001b[39;00m:\n\u001b[1;32m--> 182\u001b[0m     \u001b[38;5;28;01mreturn\u001b[39;00m \u001b[43m_map_to_integer\u001b[49m\u001b[43m(\u001b[49m\u001b[43mvalues\u001b[49m\u001b[43m,\u001b[49m\u001b[43m \u001b[49m\u001b[43muniques\u001b[49m\u001b[43m)\u001b[49m\n\u001b[0;32m    183\u001b[0m \u001b[38;5;28;01mexcept\u001b[39;00m \u001b[38;5;167;01mKeyError\u001b[39;00m \u001b[38;5;28;01mas\u001b[39;00m e:\n",
      "File \u001b[1;32m~\\anaconda3\\lib\\site-packages\\sklearn\\utils\\_encode.py:126\u001b[0m, in \u001b[0;36m_map_to_integer\u001b[1;34m(values, uniques)\u001b[0m\n\u001b[0;32m    125\u001b[0m table \u001b[38;5;241m=\u001b[39m _nandict({val: i \u001b[38;5;28;01mfor\u001b[39;00m i, val \u001b[38;5;129;01min\u001b[39;00m \u001b[38;5;28menumerate\u001b[39m(uniques)})\n\u001b[1;32m--> 126\u001b[0m \u001b[38;5;28;01mreturn\u001b[39;00m np\u001b[38;5;241m.\u001b[39marray([table[v] \u001b[38;5;28;01mfor\u001b[39;00m v \u001b[38;5;129;01min\u001b[39;00m values])\n",
      "File \u001b[1;32m~\\anaconda3\\lib\\site-packages\\sklearn\\utils\\_encode.py:126\u001b[0m, in \u001b[0;36m<listcomp>\u001b[1;34m(.0)\u001b[0m\n\u001b[0;32m    125\u001b[0m table \u001b[38;5;241m=\u001b[39m _nandict({val: i \u001b[38;5;28;01mfor\u001b[39;00m i, val \u001b[38;5;129;01min\u001b[39;00m \u001b[38;5;28menumerate\u001b[39m(uniques)})\n\u001b[1;32m--> 126\u001b[0m \u001b[38;5;28;01mreturn\u001b[39;00m np\u001b[38;5;241m.\u001b[39marray([\u001b[43mtable\u001b[49m\u001b[43m[\u001b[49m\u001b[43mv\u001b[49m\u001b[43m]\u001b[49m \u001b[38;5;28;01mfor\u001b[39;00m v \u001b[38;5;129;01min\u001b[39;00m values])\n",
      "File \u001b[1;32m~\\anaconda3\\lib\\site-packages\\sklearn\\utils\\_encode.py:120\u001b[0m, in \u001b[0;36m_nandict.__missing__\u001b[1;34m(self, key)\u001b[0m\n\u001b[0;32m    119\u001b[0m     \u001b[38;5;28;01mreturn\u001b[39;00m \u001b[38;5;28mself\u001b[39m\u001b[38;5;241m.\u001b[39mnan_value\n\u001b[1;32m--> 120\u001b[0m \u001b[38;5;28;01mraise\u001b[39;00m \u001b[38;5;167;01mKeyError\u001b[39;00m(key)\n",
      "\u001b[1;31mKeyError\u001b[0m: '0.594642245'",
      "\nDuring handling of the above exception, another exception occurred:\n",
      "\u001b[1;31mValueError\u001b[0m                                Traceback (most recent call last)",
      "Input \u001b[1;32mIn [81]\u001b[0m, in \u001b[0;36m<cell line: 36>\u001b[1;34m()\u001b[0m\n\u001b[0;32m     27\u001b[0m \u001b[38;5;66;03m# X, y = train_data.iloc[:, :-1], train_data.iloc[:, -1] \u001b[39;00m\n\u001b[0;32m     28\u001b[0m   \n\u001b[0;32m     29\u001b[0m \u001b[38;5;66;03m# # Splitting \u001b[39;00m\n\u001b[0;32m     30\u001b[0m \u001b[38;5;66;03m# train_X, test_X, train_y, test_y = train_test_split(X, y, \u001b[39;00m\n\u001b[0;32m     31\u001b[0m \u001b[38;5;66;03m#                       test_size = 0.3, random_state = 123) \u001b[39;00m\n\u001b[0;32m     35\u001b[0m clf \u001b[38;5;241m=\u001b[39m lgb\u001b[38;5;241m.\u001b[39mLGBMClassifier(\u001b[38;5;241m*\u001b[39m\u001b[38;5;241m*\u001b[39mparams)\n\u001b[1;32m---> 36\u001b[0m \u001b[43mclf\u001b[49m\u001b[38;5;241;43m.\u001b[39;49m\u001b[43mfit\u001b[49m\u001b[43m(\u001b[49m\u001b[43mtrain\u001b[49m\u001b[43m,\u001b[49m\u001b[43m \u001b[49m\u001b[43mtrain_l\u001b[49m\u001b[43m[\u001b[49m\u001b[38;5;124;43m'\u001b[39;49m\u001b[38;5;124;43msong_hotttnesss\u001b[39;49m\u001b[38;5;124;43m'\u001b[39;49m\u001b[43m]\u001b[49m\u001b[43m,\u001b[49m\u001b[43m \u001b[49m\u001b[43mearly_stopping_rounds\u001b[49m\u001b[38;5;241;43m=\u001b[39;49m\u001b[38;5;241;43m100\u001b[39;49m\u001b[43m,\u001b[49m\u001b[43m \u001b[49m\u001b[43meval_set\u001b[49m\u001b[38;5;241;43m=\u001b[39;49m\u001b[43m[\u001b[49m\u001b[43m(\u001b[49m\u001b[43mvalid\u001b[49m\u001b[43m,\u001b[49m\u001b[43m \u001b[49m\u001b[43mvalid_l\u001b[49m\u001b[43m[\u001b[49m\u001b[38;5;124;43m'\u001b[39;49m\u001b[38;5;124;43msong_hotttnesss\u001b[39;49m\u001b[38;5;124;43m'\u001b[39;49m\u001b[43m]\u001b[49m\u001b[43m)\u001b[49m\u001b[43m,\u001b[49m\n\u001b[0;32m     37\u001b[0m \u001b[43m        \u001b[49m\u001b[43m(\u001b[49m\u001b[43mtest\u001b[49m\u001b[43m,\u001b[49m\u001b[43m \u001b[49m\u001b[43mtest_l\u001b[49m\u001b[43m[\u001b[49m\u001b[38;5;124;43m'\u001b[39;49m\u001b[38;5;124;43msong_hotttnesss\u001b[39;49m\u001b[38;5;124;43m'\u001b[39;49m\u001b[43m]\u001b[49m\u001b[43m)\u001b[49m\u001b[43m]\u001b[49m\u001b[43m,\u001b[49m\u001b[43meval_metric\u001b[49m\u001b[38;5;241;43m=\u001b[39;49m\u001b[38;5;124;43m'\u001b[39;49m\u001b[38;5;124;43mmulti_error\u001b[39;49m\u001b[38;5;124;43m'\u001b[39;49m\u001b[43m,\u001b[49m\u001b[43m \u001b[49m\u001b[43mverbose\u001b[49m\u001b[38;5;241;43m=\u001b[39;49m\u001b[38;5;28;43;01mTrue\u001b[39;49;00m\u001b[43m)\u001b[49m\n\u001b[0;32m     39\u001b[0m eval_score \u001b[38;5;241m=\u001b[39m accuracy_score(train_data[\u001b[38;5;124m'\u001b[39m\u001b[38;5;124msong_hotttnesss\u001b[39m\u001b[38;5;124m'\u001b[39m], clf\u001b[38;5;241m.\u001b[39mpredict(train_data_prepared))\n\u001b[0;32m     41\u001b[0m \u001b[38;5;28mprint\u001b[39m(\u001b[38;5;124m'\u001b[39m\u001b[38;5;124mEval ACC: \u001b[39m\u001b[38;5;132;01m{}\u001b[39;00m\u001b[38;5;124m'\u001b[39m\u001b[38;5;241m.\u001b[39mformat(eval_score))\n",
      "File \u001b[1;32m~\\anaconda3\\lib\\site-packages\\lightgbm\\sklearn.py:965\u001b[0m, in \u001b[0;36mLGBMClassifier.fit\u001b[1;34m(self, X, y, sample_weight, init_score, eval_set, eval_names, eval_sample_weight, eval_class_weight, eval_init_score, eval_metric, early_stopping_rounds, verbose, feature_name, categorical_feature, callbacks, init_model)\u001b[0m\n\u001b[0;32m    963\u001b[0m             valid_sets[i] \u001b[38;5;241m=\u001b[39m (valid_x, _y)\n\u001b[0;32m    964\u001b[0m         \u001b[38;5;28;01melse\u001b[39;00m:\n\u001b[1;32m--> 965\u001b[0m             valid_sets[i] \u001b[38;5;241m=\u001b[39m (valid_x, \u001b[38;5;28;43mself\u001b[39;49m\u001b[38;5;241;43m.\u001b[39;49m\u001b[43m_le\u001b[49m\u001b[38;5;241;43m.\u001b[39;49m\u001b[43mtransform\u001b[49m\u001b[43m(\u001b[49m\u001b[43mvalid_y\u001b[49m\u001b[43m)\u001b[49m)\n\u001b[0;32m    967\u001b[0m \u001b[38;5;28msuper\u001b[39m()\u001b[38;5;241m.\u001b[39mfit(X, _y, sample_weight\u001b[38;5;241m=\u001b[39msample_weight, init_score\u001b[38;5;241m=\u001b[39minit_score, eval_set\u001b[38;5;241m=\u001b[39mvalid_sets,\n\u001b[0;32m    968\u001b[0m             eval_names\u001b[38;5;241m=\u001b[39meval_names, eval_sample_weight\u001b[38;5;241m=\u001b[39meval_sample_weight,\n\u001b[0;32m    969\u001b[0m             eval_class_weight\u001b[38;5;241m=\u001b[39meval_class_weight, eval_init_score\u001b[38;5;241m=\u001b[39meval_init_score,\n\u001b[0;32m    970\u001b[0m             eval_metric\u001b[38;5;241m=\u001b[39meval_metric, early_stopping_rounds\u001b[38;5;241m=\u001b[39mearly_stopping_rounds,\n\u001b[0;32m    971\u001b[0m             verbose\u001b[38;5;241m=\u001b[39mverbose, feature_name\u001b[38;5;241m=\u001b[39mfeature_name, categorical_feature\u001b[38;5;241m=\u001b[39mcategorical_feature,\n\u001b[0;32m    972\u001b[0m             callbacks\u001b[38;5;241m=\u001b[39mcallbacks, init_model\u001b[38;5;241m=\u001b[39minit_model)\n\u001b[0;32m    973\u001b[0m \u001b[38;5;28;01mreturn\u001b[39;00m \u001b[38;5;28mself\u001b[39m\n",
      "File \u001b[1;32m~\\anaconda3\\lib\\site-packages\\sklearn\\preprocessing\\_label.py:138\u001b[0m, in \u001b[0;36mLabelEncoder.transform\u001b[1;34m(self, y)\u001b[0m\n\u001b[0;32m    135\u001b[0m \u001b[38;5;28;01mif\u001b[39;00m _num_samples(y) \u001b[38;5;241m==\u001b[39m \u001b[38;5;241m0\u001b[39m:\n\u001b[0;32m    136\u001b[0m     \u001b[38;5;28;01mreturn\u001b[39;00m np\u001b[38;5;241m.\u001b[39marray([])\n\u001b[1;32m--> 138\u001b[0m \u001b[38;5;28;01mreturn\u001b[39;00m \u001b[43m_encode\u001b[49m\u001b[43m(\u001b[49m\u001b[43my\u001b[49m\u001b[43m,\u001b[49m\u001b[43m \u001b[49m\u001b[43muniques\u001b[49m\u001b[38;5;241;43m=\u001b[39;49m\u001b[38;5;28;43mself\u001b[39;49m\u001b[38;5;241;43m.\u001b[39;49m\u001b[43mclasses_\u001b[49m\u001b[43m)\u001b[49m\n",
      "File \u001b[1;32m~\\anaconda3\\lib\\site-packages\\sklearn\\utils\\_encode.py:184\u001b[0m, in \u001b[0;36m_encode\u001b[1;34m(values, uniques, check_unknown)\u001b[0m\n\u001b[0;32m    182\u001b[0m         \u001b[38;5;28;01mreturn\u001b[39;00m _map_to_integer(values, uniques)\n\u001b[0;32m    183\u001b[0m     \u001b[38;5;28;01mexcept\u001b[39;00m \u001b[38;5;167;01mKeyError\u001b[39;00m \u001b[38;5;28;01mas\u001b[39;00m e:\n\u001b[1;32m--> 184\u001b[0m         \u001b[38;5;28;01mraise\u001b[39;00m \u001b[38;5;167;01mValueError\u001b[39;00m(\u001b[38;5;124mf\u001b[39m\u001b[38;5;124m\"\u001b[39m\u001b[38;5;124my contains previously unseen labels: \u001b[39m\u001b[38;5;132;01m{\u001b[39;00m\u001b[38;5;28mstr\u001b[39m(e)\u001b[38;5;132;01m}\u001b[39;00m\u001b[38;5;124m\"\u001b[39m)\n\u001b[0;32m    185\u001b[0m \u001b[38;5;28;01melse\u001b[39;00m:\n\u001b[0;32m    186\u001b[0m     \u001b[38;5;28;01mif\u001b[39;00m check_unknown:\n",
      "\u001b[1;31mValueError\u001b[0m: y contains previously unseen labels: '0.594642245'"
     ]
    }
   ],
   "source": [
    "import lightgbm as lgb\n",
    "from sklearn import preprocessing\n",
    "from sklearn.metrics import mean_squared_log_error, mean_squared_error\n",
    "from sklearn.model_selection import train_test_split\n",
    "from sklearn.metrics import roc_auc_score\n",
    "from sklearn.metrics import accuracy_score\n",
    "from sklearn.metrics import log_loss\n",
    "from sklearn.metrics import classification_report\n",
    "import seaborn as sns\n",
    "from collections import Counter\n",
    "\n",
    "\n",
    "params = {}\n",
    "params['learning_rate'] = 0.06\n",
    "params['max_depth'] = 50\n",
    "params['n_estimators'] = 500\n",
    "params['objective'] = 'reg:tweedie'\n",
    "params['boosting_type'] = 'gbdt'\n",
    "params['subsample'] = 0.7\n",
    "params['random_state'] = 42\n",
    "params['colsample_bytree']=0.7\n",
    "params['min_data_in_leaf'] = 55\n",
    "params['reg_alpha'] = 1.6\n",
    "params['reg_lambda'] = 1.1\n",
    "\n",
    "\n",
    "# X, y = train_data.iloc[:, :-1], train_data.iloc[:, -1] \n",
    "  \n",
    "# # Splitting \n",
    "# train_X, test_X, train_y, test_y = train_test_split(X, y, \n",
    "#                       test_size = 0.3, random_state = 123) \n",
    "\n",
    "\n",
    "\n",
    "clf = lgb.LGBMClassifier(**params)\n",
    "clf.fit(train, train_l['song_hotttnesss'], early_stopping_rounds=100, eval_set=[(valid, valid_l['song_hotttnesss']),\n",
    "        (test, test_l['song_hotttnesss'])],eval_metric='multi_error', verbose=True)\n",
    "\n",
    "eval_score = accuracy_score(train_data['song_hotttnesss'], clf.predict(train_data_prepared))\n",
    "\n",
    "print('Eval ACC: {}'.format(eval_score))"
   ]
  },
  {
   "cell_type": "code",
   "execution_count": null,
   "id": "23b0823c",
   "metadata": {},
   "outputs": [],
   "source": []
  }
 ],
 "metadata": {
  "kernelspec": {
   "display_name": "Python 3 (ipykernel)",
   "language": "python",
   "name": "python3"
  },
  "language_info": {
   "codemirror_mode": {
    "name": "ipython",
    "version": 3
   },
   "file_extension": ".py",
   "mimetype": "text/x-python",
   "name": "python",
   "nbconvert_exporter": "python",
   "pygments_lexer": "ipython3",
   "version": "3.9.12"
  }
 },
 "nbformat": 4,
 "nbformat_minor": 5
}
