{
 "cells": [
  {
   "cell_type": "markdown",
   "metadata": {
    "papermill": {
     "duration": 0.045675,
     "end_time": "2020-09-20T16:40:44.438030",
     "exception": false,
     "start_time": "2020-09-20T16:40:44.392355",
     "status": "completed"
    },
    "tags": []
   },
   "source": [
    "# What Worked?\n",
    "\n",
    "* Hyperparameter tuning\n",
    "* Feature Engineering such as concatenation,aggregation, binning\n",
    "* Data cleaning steps and most pertinent of them were removing duplicates[more reliable CV] and confusing rows\n",
    "* Xgboost and CatBoost\n",
    "* Treating Annual Premium and Vintage as categorical features in catboost\n",
    "* Blending CatBoost and XgBoost **[Blended probablities from 125 CB Models and 125 XgB models]**\n",
    "\n",
    "\n",
    "# What didn't Work?\n",
    "\n",
    "* NN and LGBM\n",
    "* Class balancing via oversampler,undersampler,TomkeLinks etc and via hardcoding class weights parameter in individual algorithm\n"
   ]
  },
  {
   "cell_type": "code",
   "execution_count": 1,
   "metadata": {
    "_cell_guid": "b1076dfc-b9ad-4769-8c92-a6c4dae69d19",
    "_uuid": "8f2839f25d086af736a60e9eeb907d3b93b6e0e5",
    "execution": {
     "iopub.execute_input": "2020-09-20T16:40:44.528796Z",
     "iopub.status.busy": "2020-09-20T16:40:44.527765Z",
     "iopub.status.idle": "2020-09-20T16:40:47.144837Z",
     "shell.execute_reply": "2020-09-20T16:40:47.144030Z"
    },
    "papermill": {
     "duration": 2.667389,
     "end_time": "2020-09-20T16:40:47.144963",
     "exception": false,
     "start_time": "2020-09-20T16:40:44.477574",
     "status": "completed"
    },
    "tags": []
   },
   "outputs": [
    {
     "name": "stdout",
     "output_type": "stream",
     "text": [
      "/kaggle/input/avcrosssell/train.csv\n",
      "/kaggle/input/avcrosssell/test.csv\n",
      "/kaggle/input/avcrosssell/sample_submission.csv\n",
      "/kaggle/input/fast-v2-offline/torchvision-0.7.0-cp37-cp37m-manylinux1_x86_64.whl\n",
      "/kaggle/input/fast-v2-offline/fastai-2.0.8-py3-none-any.whl\n",
      "/kaggle/input/fast-v2-offline/dataclasses-0.6-py3-none-any.whl\n",
      "/kaggle/input/fast-v2-offline/fastcore-1.0.1-py3-none-any.whl\n",
      "/kaggle/input/fast-v2-offline/fastprogress-1.0.0-py3-none-any.whl\n",
      "/kaggle/input/fast-v2-offline/torch-1.6.0-cp37-cp37m-manylinux1_x86_64.whl\n"
     ]
    }
   ],
   "source": [
    "import pandas as pd\n",
    "import matplotlib.pyplot as plt\n",
    "import numpy as np\n",
    "\n",
    "from matplotlib.pylab import rcParams\n",
    "rcParams['figure.figsize'] = 15,15\n",
    "import seaborn as sns\n",
    "\n",
    "import os\n",
    "for dirname, _, filenames in os.walk('/kaggle/input'):\n",
    "    for filename in filenames:\n",
    "        print(os.path.join(dirname, filename))\n",
    "\n",
    "import xgboost as xgb\n",
    "import lightgbm as lgb\n",
    "from catboost import CatBoostClassifier\n",
    "\n",
    "from sklearn.model_selection import train_test_split,StratifiedShuffleSplit,StratifiedKFold\n",
    "from sklearn.preprocessing import LabelEncoder\n",
    "from sklearn.metrics import roc_auc_score,accuracy_score ,confusion_matrix\n",
    "from sklearn.preprocessing import KBinsDiscretizer\n",
    "from sklearn.preprocessing import RobustScaler\n",
    "\n",
    "import warnings\n",
    "warnings.filterwarnings(\"ignore\")\n",
    "\n",
    "from tqdm.notebook import tqdm ,tnrange"
   ]
  },
  {
   "cell_type": "code",
   "execution_count": 2,
   "metadata": {
    "_cell_guid": "79c7e3d0-c299-4dcb-8224-4455121ee9b0",
    "_uuid": "d629ff2d2480ee46fbb7e2d37f6b5fab8052498a",
    "execution": {
     "iopub.execute_input": "2020-09-20T16:40:47.234326Z",
     "iopub.status.busy": "2020-09-20T16:40:47.233608Z",
     "iopub.status.idle": "2020-09-20T16:40:47.834165Z",
     "shell.execute_reply": "2020-09-20T16:40:47.833490Z"
    },
    "papermill": {
     "duration": 0.648828,
     "end_time": "2020-09-20T16:40:47.834275",
     "exception": false,
     "start_time": "2020-09-20T16:40:47.185447",
     "status": "completed"
    },
    "tags": []
   },
   "outputs": [
    {
     "name": "stdout",
     "output_type": "stream",
     "text": [
      "(381109, 12)\n"
     ]
    },
    {
     "data": {
      "text/html": [
       "<div>\n",
       "<style scoped>\n",
       "    .dataframe tbody tr th:only-of-type {\n",
       "        vertical-align: middle;\n",
       "    }\n",
       "\n",
       "    .dataframe tbody tr th {\n",
       "        vertical-align: top;\n",
       "    }\n",
       "\n",
       "    .dataframe thead th {\n",
       "        text-align: right;\n",
       "    }\n",
       "</style>\n",
       "<table border=\"1\" class=\"dataframe\">\n",
       "  <thead>\n",
       "    <tr style=\"text-align: right;\">\n",
       "      <th></th>\n",
       "      <th>id</th>\n",
       "      <th>Gender</th>\n",
       "      <th>Age</th>\n",
       "      <th>Driving_License</th>\n",
       "      <th>Region_Code</th>\n",
       "      <th>Previously_Insured</th>\n",
       "      <th>Vehicle_Age</th>\n",
       "      <th>Vehicle_Damage</th>\n",
       "      <th>Annual_Premium</th>\n",
       "      <th>Policy_Sales_Channel</th>\n",
       "      <th>Vintage</th>\n",
       "      <th>Response</th>\n",
       "    </tr>\n",
       "  </thead>\n",
       "  <tbody>\n",
       "    <tr>\n",
       "      <th>0</th>\n",
       "      <td>1</td>\n",
       "      <td>Male</td>\n",
       "      <td>44</td>\n",
       "      <td>1</td>\n",
       "      <td>28.0</td>\n",
       "      <td>0</td>\n",
       "      <td>&gt; 2 Years</td>\n",
       "      <td>Yes</td>\n",
       "      <td>40454.0</td>\n",
       "      <td>26.0</td>\n",
       "      <td>217</td>\n",
       "      <td>1</td>\n",
       "    </tr>\n",
       "    <tr>\n",
       "      <th>1</th>\n",
       "      <td>2</td>\n",
       "      <td>Male</td>\n",
       "      <td>76</td>\n",
       "      <td>1</td>\n",
       "      <td>3.0</td>\n",
       "      <td>0</td>\n",
       "      <td>1-2 Year</td>\n",
       "      <td>No</td>\n",
       "      <td>33536.0</td>\n",
       "      <td>26.0</td>\n",
       "      <td>183</td>\n",
       "      <td>0</td>\n",
       "    </tr>\n",
       "    <tr>\n",
       "      <th>2</th>\n",
       "      <td>3</td>\n",
       "      <td>Male</td>\n",
       "      <td>47</td>\n",
       "      <td>1</td>\n",
       "      <td>28.0</td>\n",
       "      <td>0</td>\n",
       "      <td>&gt; 2 Years</td>\n",
       "      <td>Yes</td>\n",
       "      <td>38294.0</td>\n",
       "      <td>26.0</td>\n",
       "      <td>27</td>\n",
       "      <td>1</td>\n",
       "    </tr>\n",
       "    <tr>\n",
       "      <th>3</th>\n",
       "      <td>4</td>\n",
       "      <td>Male</td>\n",
       "      <td>21</td>\n",
       "      <td>1</td>\n",
       "      <td>11.0</td>\n",
       "      <td>1</td>\n",
       "      <td>&lt; 1 Year</td>\n",
       "      <td>No</td>\n",
       "      <td>28619.0</td>\n",
       "      <td>152.0</td>\n",
       "      <td>203</td>\n",
       "      <td>0</td>\n",
       "    </tr>\n",
       "    <tr>\n",
       "      <th>4</th>\n",
       "      <td>5</td>\n",
       "      <td>Female</td>\n",
       "      <td>29</td>\n",
       "      <td>1</td>\n",
       "      <td>41.0</td>\n",
       "      <td>1</td>\n",
       "      <td>&lt; 1 Year</td>\n",
       "      <td>No</td>\n",
       "      <td>27496.0</td>\n",
       "      <td>152.0</td>\n",
       "      <td>39</td>\n",
       "      <td>0</td>\n",
       "    </tr>\n",
       "  </tbody>\n",
       "</table>\n",
       "</div>"
      ],
      "text/plain": [
       "   id  Gender  Age  Driving_License  Region_Code  Previously_Insured  \\\n",
       "0   1    Male   44                1         28.0                   0   \n",
       "1   2    Male   76                1          3.0                   0   \n",
       "2   3    Male   47                1         28.0                   0   \n",
       "3   4    Male   21                1         11.0                   1   \n",
       "4   5  Female   29                1         41.0                   1   \n",
       "\n",
       "  Vehicle_Age Vehicle_Damage  Annual_Premium  Policy_Sales_Channel  Vintage  \\\n",
       "0   > 2 Years            Yes         40454.0                  26.0      217   \n",
       "1    1-2 Year             No         33536.0                  26.0      183   \n",
       "2   > 2 Years            Yes         38294.0                  26.0       27   \n",
       "3    < 1 Year             No         28619.0                 152.0      203   \n",
       "4    < 1 Year             No         27496.0                 152.0       39   \n",
       "\n",
       "   Response  \n",
       "0         1  \n",
       "1         0  \n",
       "2         1  \n",
       "3         0  \n",
       "4         0  "
      ]
     },
     "execution_count": 2,
     "metadata": {},
     "output_type": "execute_result"
    }
   ],
   "source": [
    "train_data = pd.read_csv('/kaggle/input/avcrosssell/train.csv')\n",
    "\n",
    "print(train_data.shape)\n",
    "\n",
    "train_data.head()"
   ]
  },
  {
   "cell_type": "code",
   "execution_count": 3,
   "metadata": {
    "execution": {
     "iopub.execute_input": "2020-09-20T16:40:47.923947Z",
     "iopub.status.busy": "2020-09-20T16:40:47.923095Z",
     "iopub.status.idle": "2020-09-20T16:40:48.117389Z",
     "shell.execute_reply": "2020-09-20T16:40:48.118211Z"
    },
    "papermill": {
     "duration": 0.243329,
     "end_time": "2020-09-20T16:40:48.118404",
     "exception": false,
     "start_time": "2020-09-20T16:40:47.875075",
     "status": "completed"
    },
    "tags": []
   },
   "outputs": [
    {
     "name": "stdout",
     "output_type": "stream",
     "text": [
      "(127037, 11)\n"
     ]
    },
    {
     "data": {
      "text/html": [
       "<div>\n",
       "<style scoped>\n",
       "    .dataframe tbody tr th:only-of-type {\n",
       "        vertical-align: middle;\n",
       "    }\n",
       "\n",
       "    .dataframe tbody tr th {\n",
       "        vertical-align: top;\n",
       "    }\n",
       "\n",
       "    .dataframe thead th {\n",
       "        text-align: right;\n",
       "    }\n",
       "</style>\n",
       "<table border=\"1\" class=\"dataframe\">\n",
       "  <thead>\n",
       "    <tr style=\"text-align: right;\">\n",
       "      <th></th>\n",
       "      <th>id</th>\n",
       "      <th>Gender</th>\n",
       "      <th>Age</th>\n",
       "      <th>Driving_License</th>\n",
       "      <th>Region_Code</th>\n",
       "      <th>Previously_Insured</th>\n",
       "      <th>Vehicle_Age</th>\n",
       "      <th>Vehicle_Damage</th>\n",
       "      <th>Annual_Premium</th>\n",
       "      <th>Policy_Sales_Channel</th>\n",
       "      <th>Vintage</th>\n",
       "    </tr>\n",
       "  </thead>\n",
       "  <tbody>\n",
       "    <tr>\n",
       "      <th>0</th>\n",
       "      <td>381110</td>\n",
       "      <td>Male</td>\n",
       "      <td>25</td>\n",
       "      <td>1</td>\n",
       "      <td>11.0</td>\n",
       "      <td>1</td>\n",
       "      <td>&lt; 1 Year</td>\n",
       "      <td>No</td>\n",
       "      <td>35786.0</td>\n",
       "      <td>152.0</td>\n",
       "      <td>53</td>\n",
       "    </tr>\n",
       "    <tr>\n",
       "      <th>1</th>\n",
       "      <td>381111</td>\n",
       "      <td>Male</td>\n",
       "      <td>40</td>\n",
       "      <td>1</td>\n",
       "      <td>28.0</td>\n",
       "      <td>0</td>\n",
       "      <td>1-2 Year</td>\n",
       "      <td>Yes</td>\n",
       "      <td>33762.0</td>\n",
       "      <td>7.0</td>\n",
       "      <td>111</td>\n",
       "    </tr>\n",
       "    <tr>\n",
       "      <th>2</th>\n",
       "      <td>381112</td>\n",
       "      <td>Male</td>\n",
       "      <td>47</td>\n",
       "      <td>1</td>\n",
       "      <td>28.0</td>\n",
       "      <td>0</td>\n",
       "      <td>1-2 Year</td>\n",
       "      <td>Yes</td>\n",
       "      <td>40050.0</td>\n",
       "      <td>124.0</td>\n",
       "      <td>199</td>\n",
       "    </tr>\n",
       "    <tr>\n",
       "      <th>3</th>\n",
       "      <td>381113</td>\n",
       "      <td>Male</td>\n",
       "      <td>24</td>\n",
       "      <td>1</td>\n",
       "      <td>27.0</td>\n",
       "      <td>1</td>\n",
       "      <td>&lt; 1 Year</td>\n",
       "      <td>Yes</td>\n",
       "      <td>37356.0</td>\n",
       "      <td>152.0</td>\n",
       "      <td>187</td>\n",
       "    </tr>\n",
       "    <tr>\n",
       "      <th>4</th>\n",
       "      <td>381114</td>\n",
       "      <td>Male</td>\n",
       "      <td>27</td>\n",
       "      <td>1</td>\n",
       "      <td>28.0</td>\n",
       "      <td>1</td>\n",
       "      <td>&lt; 1 Year</td>\n",
       "      <td>No</td>\n",
       "      <td>59097.0</td>\n",
       "      <td>152.0</td>\n",
       "      <td>297</td>\n",
       "    </tr>\n",
       "  </tbody>\n",
       "</table>\n",
       "</div>"
      ],
      "text/plain": [
       "       id Gender  Age  Driving_License  Region_Code  Previously_Insured  \\\n",
       "0  381110   Male   25                1         11.0                   1   \n",
       "1  381111   Male   40                1         28.0                   0   \n",
       "2  381112   Male   47                1         28.0                   0   \n",
       "3  381113   Male   24                1         27.0                   1   \n",
       "4  381114   Male   27                1         28.0                   1   \n",
       "\n",
       "  Vehicle_Age Vehicle_Damage  Annual_Premium  Policy_Sales_Channel  Vintage  \n",
       "0    < 1 Year             No         35786.0                 152.0       53  \n",
       "1    1-2 Year            Yes         33762.0                   7.0      111  \n",
       "2    1-2 Year            Yes         40050.0                 124.0      199  \n",
       "3    < 1 Year            Yes         37356.0                 152.0      187  \n",
       "4    < 1 Year             No         59097.0                 152.0      297  "
      ]
     },
     "execution_count": 3,
     "metadata": {},
     "output_type": "execute_result"
    }
   ],
   "source": [
    "test_data = pd.read_csv('/kaggle/input/avcrosssell/test.csv')\n",
    "\n",
    "print(test_data.shape)\n",
    "\n",
    "test_data.head()"
   ]
  },
  {
   "cell_type": "code",
   "execution_count": 4,
   "metadata": {
    "execution": {
     "iopub.execute_input": "2020-09-20T16:40:48.222167Z",
     "iopub.status.busy": "2020-09-20T16:40:48.221452Z",
     "iopub.status.idle": "2020-09-20T16:40:48.717141Z",
     "shell.execute_reply": "2020-09-20T16:40:48.717755Z"
    },
    "papermill": {
     "duration": 0.556596,
     "end_time": "2020-09-20T16:40:48.717907",
     "exception": false,
     "start_time": "2020-09-20T16:40:48.161311",
     "status": "completed"
    },
    "tags": []
   },
   "outputs": [],
   "source": [
    "x = train_data[~train_data.iloc[:,1:].duplicated(keep = 'first')]\n",
    "\n",
    "#reemove confusing ids\n",
    "\n",
    "train_data = train_data[~train_data.id.isin(x[x.iloc[:,1:-1].duplicated(keep = False)].id)]"
   ]
  },
  {
   "cell_type": "code",
   "execution_count": 5,
   "metadata": {
    "execution": {
     "iopub.execute_input": "2020-09-20T16:40:48.819412Z",
     "iopub.status.busy": "2020-09-20T16:40:48.816968Z",
     "iopub.status.idle": "2020-09-20T16:40:48.823264Z",
     "shell.execute_reply": "2020-09-20T16:40:48.822698Z"
    },
    "papermill": {
     "duration": 0.063456,
     "end_time": "2020-09-20T16:40:48.823393",
     "exception": false,
     "start_time": "2020-09-20T16:40:48.759937",
     "status": "completed"
    },
    "tags": []
   },
   "outputs": [],
   "source": [
    "def nullColumns(train_data):\n",
    "    \n",
    "    list_of_nullcolumns =[]\n",
    "    \n",
    "    for column in train_data.columns:\n",
    "        \n",
    "        total= train_data[column].isna().sum()\n",
    "        \n",
    "        try:\n",
    "            \n",
    "            if total !=0:\n",
    "                \n",
    "                print('Total Na values is {0} for column {1}' .format(total, column))\n",
    "                \n",
    "                list_of_nullcolumns.append(column)\n",
    "        \n",
    "        except:\n",
    "            \n",
    "            print(column,\"-----\",total)\n",
    "    \n",
    "    print('\\n')\n",
    "    \n",
    "    return list_of_nullcolumns\n",
    "\n",
    "\n",
    "def percentMissingFeature(data):\n",
    "    \n",
    "    data_na = (data.isnull().sum() / len(data)) * 100\n",
    "    \n",
    "    data_na = data_na.drop(data_na[data_na == 0].index).sort_values(ascending=False)[:30]\n",
    "    \n",
    "    missing_data = pd.DataFrame({'Missing Ratio' :data_na})\n",
    "    \n",
    "    return data_na\n",
    "\n",
    "\n",
    "def plotMissingFeature(data_na):\n",
    "    \n",
    "    f, ax = plt.subplots(figsize=(15, 12))\n",
    "    \n",
    "    plt.xticks(rotation='90')\n",
    "    \n",
    "    if(data_na.empty ==False):\n",
    "        \n",
    "        sns.barplot(x=data_na.index, y=data_na)\n",
    "        \n",
    "        plt.xlabel('Features', fontsize=15)\n",
    "        \n",
    "        plt.ylabel('Percent of missing values', fontsize=15)\n",
    "        \n",
    "        plt.title('Percent missing data by feature', fontsize=15)"
   ]
  },
  {
   "cell_type": "code",
   "execution_count": 6,
   "metadata": {
    "execution": {
     "iopub.execute_input": "2020-09-20T16:40:48.916656Z",
     "iopub.status.busy": "2020-09-20T16:40:48.915620Z",
     "iopub.status.idle": "2020-09-20T16:40:49.283133Z",
     "shell.execute_reply": "2020-09-20T16:40:49.282535Z"
    },
    "papermill": {
     "duration": 0.416739,
     "end_time": "2020-09-20T16:40:49.283251",
     "exception": false,
     "start_time": "2020-09-20T16:40:48.866512",
     "status": "completed"
    },
    "tags": []
   },
   "outputs": [
    {
     "name": "stdout",
     "output_type": "stream",
     "text": [
      "train data\n",
      "\n",
      "\n",
      "[]\n",
      "Series([], dtype: float64)\n",
      "\n",
      "\n",
      "test_data\n",
      "\n",
      "\n",
      "[]\n",
      "Series([], dtype: float64)\n"
     ]
    }
   ],
   "source": [
    "print('train data')\n",
    "\n",
    "print(nullColumns(train_data))\n",
    "\n",
    "print(percentMissingFeature(train_data))\n",
    "\n",
    "print('\\n')\n",
    "\n",
    "print('test_data')\n",
    "\n",
    "print(nullColumns(test_data))\n",
    "\n",
    "print(percentMissingFeature(test_data))"
   ]
  },
  {
   "cell_type": "code",
   "execution_count": 7,
   "metadata": {
    "execution": {
     "iopub.execute_input": "2020-09-20T16:40:49.387923Z",
     "iopub.status.busy": "2020-09-20T16:40:49.387195Z",
     "iopub.status.idle": "2020-09-20T16:40:49.524724Z",
     "shell.execute_reply": "2020-09-20T16:40:49.524002Z"
    },
    "papermill": {
     "duration": 0.19858,
     "end_time": "2020-09-20T16:40:49.524892",
     "exception": false,
     "start_time": "2020-09-20T16:40:49.326312",
     "status": "completed"
    },
    "tags": []
   },
   "outputs": [
    {
     "data": {
      "text/html": [
       "<div>\n",
       "<style scoped>\n",
       "    .dataframe tbody tr th:only-of-type {\n",
       "        vertical-align: middle;\n",
       "    }\n",
       "\n",
       "    .dataframe tbody tr th {\n",
       "        vertical-align: top;\n",
       "    }\n",
       "\n",
       "    .dataframe thead th {\n",
       "        text-align: right;\n",
       "    }\n",
       "</style>\n",
       "<table border=\"1\" class=\"dataframe\">\n",
       "  <thead>\n",
       "    <tr style=\"text-align: right;\">\n",
       "      <th></th>\n",
       "      <th>id</th>\n",
       "      <th>Age</th>\n",
       "      <th>Driving_License</th>\n",
       "      <th>Region_Code</th>\n",
       "      <th>Previously_Insured</th>\n",
       "      <th>Annual_Premium</th>\n",
       "      <th>Policy_Sales_Channel</th>\n",
       "      <th>Vintage</th>\n",
       "      <th>Response</th>\n",
       "    </tr>\n",
       "  </thead>\n",
       "  <tbody>\n",
       "    <tr>\n",
       "      <th>count</th>\n",
       "      <td>381003.000000</td>\n",
       "      <td>381003.000000</td>\n",
       "      <td>381003.000000</td>\n",
       "      <td>381003.000000</td>\n",
       "      <td>381003.000000</td>\n",
       "      <td>381003.000000</td>\n",
       "      <td>381003.000000</td>\n",
       "      <td>381003.000000</td>\n",
       "      <td>381003.000000</td>\n",
       "    </tr>\n",
       "    <tr>\n",
       "      <th>mean</th>\n",
       "      <td>190551.691210</td>\n",
       "      <td>38.821301</td>\n",
       "      <td>0.997869</td>\n",
       "      <td>26.387934</td>\n",
       "      <td>0.458338</td>\n",
       "      <td>30572.161293</td>\n",
       "      <td>112.039449</td>\n",
       "      <td>154.347871</td>\n",
       "      <td>0.122458</td>\n",
       "    </tr>\n",
       "    <tr>\n",
       "      <th>std</th>\n",
       "      <td>110016.408515</td>\n",
       "      <td>15.512765</td>\n",
       "      <td>0.046116</td>\n",
       "      <td>13.230202</td>\n",
       "      <td>0.498262</td>\n",
       "      <td>17209.241144</td>\n",
       "      <td>54.202864</td>\n",
       "      <td>83.669945</td>\n",
       "      <td>0.327815</td>\n",
       "    </tr>\n",
       "    <tr>\n",
       "      <th>min</th>\n",
       "      <td>1.000000</td>\n",
       "      <td>20.000000</td>\n",
       "      <td>0.000000</td>\n",
       "      <td>0.000000</td>\n",
       "      <td>0.000000</td>\n",
       "      <td>2630.000000</td>\n",
       "      <td>1.000000</td>\n",
       "      <td>10.000000</td>\n",
       "      <td>0.000000</td>\n",
       "    </tr>\n",
       "    <tr>\n",
       "      <th>25%</th>\n",
       "      <td>95275.500000</td>\n",
       "      <td>25.000000</td>\n",
       "      <td>1.000000</td>\n",
       "      <td>15.000000</td>\n",
       "      <td>0.000000</td>\n",
       "      <td>24412.000000</td>\n",
       "      <td>29.000000</td>\n",
       "      <td>82.000000</td>\n",
       "      <td>0.000000</td>\n",
       "    </tr>\n",
       "    <tr>\n",
       "      <th>50%</th>\n",
       "      <td>190552.000000</td>\n",
       "      <td>36.000000</td>\n",
       "      <td>1.000000</td>\n",
       "      <td>28.000000</td>\n",
       "      <td>0.000000</td>\n",
       "      <td>31673.000000</td>\n",
       "      <td>133.000000</td>\n",
       "      <td>154.000000</td>\n",
       "      <td>0.000000</td>\n",
       "    </tr>\n",
       "    <tr>\n",
       "      <th>75%</th>\n",
       "      <td>285826.500000</td>\n",
       "      <td>49.000000</td>\n",
       "      <td>1.000000</td>\n",
       "      <td>35.000000</td>\n",
       "      <td>1.000000</td>\n",
       "      <td>39405.000000</td>\n",
       "      <td>152.000000</td>\n",
       "      <td>227.000000</td>\n",
       "      <td>0.000000</td>\n",
       "    </tr>\n",
       "    <tr>\n",
       "      <th>max</th>\n",
       "      <td>381109.000000</td>\n",
       "      <td>85.000000</td>\n",
       "      <td>1.000000</td>\n",
       "      <td>52.000000</td>\n",
       "      <td>1.000000</td>\n",
       "      <td>540165.000000</td>\n",
       "      <td>163.000000</td>\n",
       "      <td>299.000000</td>\n",
       "      <td>1.000000</td>\n",
       "    </tr>\n",
       "  </tbody>\n",
       "</table>\n",
       "</div>"
      ],
      "text/plain": [
       "                  id            Age  Driving_License    Region_Code  \\\n",
       "count  381003.000000  381003.000000    381003.000000  381003.000000   \n",
       "mean   190551.691210      38.821301         0.997869      26.387934   \n",
       "std    110016.408515      15.512765         0.046116      13.230202   \n",
       "min         1.000000      20.000000         0.000000       0.000000   \n",
       "25%     95275.500000      25.000000         1.000000      15.000000   \n",
       "50%    190552.000000      36.000000         1.000000      28.000000   \n",
       "75%    285826.500000      49.000000         1.000000      35.000000   \n",
       "max    381109.000000      85.000000         1.000000      52.000000   \n",
       "\n",
       "       Previously_Insured  Annual_Premium  Policy_Sales_Channel  \\\n",
       "count       381003.000000   381003.000000         381003.000000   \n",
       "mean             0.458338    30572.161293            112.039449   \n",
       "std              0.498262    17209.241144             54.202864   \n",
       "min              0.000000     2630.000000              1.000000   \n",
       "25%              0.000000    24412.000000             29.000000   \n",
       "50%              0.000000    31673.000000            133.000000   \n",
       "75%              1.000000    39405.000000            152.000000   \n",
       "max              1.000000   540165.000000            163.000000   \n",
       "\n",
       "             Vintage       Response  \n",
       "count  381003.000000  381003.000000  \n",
       "mean      154.347871       0.122458  \n",
       "std        83.669945       0.327815  \n",
       "min        10.000000       0.000000  \n",
       "25%        82.000000       0.000000  \n",
       "50%       154.000000       0.000000  \n",
       "75%       227.000000       0.000000  \n",
       "max       299.000000       1.000000  "
      ]
     },
     "execution_count": 7,
     "metadata": {},
     "output_type": "execute_result"
    }
   ],
   "source": [
    "train_data.describe()"
   ]
  },
  {
   "cell_type": "code",
   "execution_count": 8,
   "metadata": {
    "execution": {
     "iopub.execute_input": "2020-09-20T16:40:49.627749Z",
     "iopub.status.busy": "2020-09-20T16:40:49.627067Z",
     "iopub.status.idle": "2020-09-20T16:40:49.854763Z",
     "shell.execute_reply": "2020-09-20T16:40:49.855291Z"
    },
    "papermill": {
     "duration": 0.279838,
     "end_time": "2020-09-20T16:40:49.855434",
     "exception": false,
     "start_time": "2020-09-20T16:40:49.575596",
     "status": "completed"
    },
    "tags": []
   },
   "outputs": [
    {
     "data": {
      "text/plain": [
       "Text(0.5, 1.0, 'Response')"
      ]
     },
     "execution_count": 8,
     "metadata": {},
     "output_type": "execute_result"
    },
    {
     "data": {
      "image/png": "[encoded data removed]",
      "text/plain": [
       "<Figure size 1080x1080 with 1 Axes>"
      ]
     },
     "metadata": {
      "needs_background": "light"
     },
     "output_type": "display_data"
    }
   ],
   "source": [
    "response = train_data.loc[:,\"Response\"].value_counts().rename('Count')\n",
    "plt.xlabel(\"Response\")\n",
    "plt.ylabel('Count')\n",
    "sns.barplot(response.index , response.values).set_title('Response')"
   ]
  },
  {
   "cell_type": "code",
   "execution_count": 9,
   "metadata": {
    "execution": {
     "iopub.execute_input": "2020-09-20T16:40:49.953005Z",
     "iopub.status.busy": "2020-09-20T16:40:49.951872Z",
     "iopub.status.idle": "2020-09-20T16:40:49.958651Z",
     "shell.execute_reply": "2020-09-20T16:40:49.959218Z"
    },
    "papermill": {
     "duration": 0.058006,
     "end_time": "2020-09-20T16:40:49.959371",
     "exception": false,
     "start_time": "2020-09-20T16:40:49.901365",
     "status": "completed"
    },
    "tags": []
   },
   "outputs": [
    {
     "data": {
      "text/plain": [
       "0    334346\n",
       "1     46657\n",
       "Name: Count, dtype: int64"
      ]
     },
     "execution_count": 9,
     "metadata": {},
     "output_type": "execute_result"
    }
   ],
   "source": [
    "response"
   ]
  },
  {
   "cell_type": "code",
   "execution_count": 10,
   "metadata": {
    "execution": {
     "iopub.execute_input": "2020-09-20T16:40:50.058310Z",
     "iopub.status.busy": "2020-09-20T16:40:50.057187Z",
     "iopub.status.idle": "2020-09-20T16:40:50.511311Z",
     "shell.execute_reply": "2020-09-20T16:40:50.512099Z"
    },
    "papermill": {
     "duration": 0.505112,
     "end_time": "2020-09-20T16:40:50.512298",
     "exception": false,
     "start_time": "2020-09-20T16:40:50.007186",
     "status": "completed"
    },
    "tags": []
   },
   "outputs": [
    {
     "data": {
      "text/plain": [
       "<matplotlib.axes._subplots.AxesSubplot at 0x7f74aceeda10>"
      ]
     },
     "execution_count": 10,
     "metadata": {},
     "output_type": "execute_result"
    },
    {
     "data": {
      "image/png": "[encoded data removed]",
      "text/plain": [
       "<Figure size 1080x1080 with 1 Axes>"
      ]
     },
     "metadata": {
      "needs_background": "light"
     },
     "output_type": "display_data"
    }
   ],
   "source": [
    "sns.distplot(train_data['Vintage'])"
   ]
  },
  {
   "cell_type": "code",
   "execution_count": 11,
   "metadata": {
    "execution": {
     "iopub.execute_input": "2020-09-20T16:40:50.631950Z",
     "iopub.status.busy": "2020-09-20T16:40:50.630789Z",
     "iopub.status.idle": "2020-09-20T16:40:51.082779Z",
     "shell.execute_reply": "2020-09-20T16:40:51.083342Z"
    },
    "papermill": {
     "duration": 0.518117,
     "end_time": "2020-09-20T16:40:51.083487",
     "exception": false,
     "start_time": "2020-09-20T16:40:50.565370",
     "status": "completed"
    },
    "tags": []
   },
   "outputs": [
    {
     "data": {
      "text/plain": [
       "<matplotlib.axes._subplots.AxesSubplot at 0x7f74acf005d0>"
      ]
     },
     "execution_count": 11,
     "metadata": {},
     "output_type": "execute_result"
    },
    {
     "data": {
      "image/png": "[encoded data removed]",
      "text/plain": [
       "<Figure size 1080x1080 with 1 Axes>"
      ]
     },
     "metadata": {
      "needs_background": "light"
     },
     "output_type": "display_data"
    }
   ],
   "source": [
    "sns.distplot(train_data['Annual_Premium'])"
   ]
  },
  {
   "cell_type": "code",
   "execution_count": 12,
   "metadata": {
    "execution": {
     "iopub.execute_input": "2020-09-20T16:40:51.187780Z",
     "iopub.status.busy": "2020-09-20T16:40:51.186746Z",
     "iopub.status.idle": "2020-09-20T16:40:51.534577Z",
     "shell.execute_reply": "2020-09-20T16:40:51.535316Z"
    },
    "papermill": {
     "duration": 0.402356,
     "end_time": "2020-09-20T16:40:51.535564",
     "exception": false,
     "start_time": "2020-09-20T16:40:51.133208",
     "status": "completed"
    },
    "tags": []
   },
   "outputs": [
    {
     "data": {
      "text/plain": [
       "<matplotlib.axes._subplots.AxesSubplot at 0x7f74acf399d0>"
      ]
     },
     "execution_count": 12,
     "metadata": {},
     "output_type": "execute_result"
    },
    {
     "data": {
      "image/png": "[encoded data removed]",
      "text/plain": [
       "<Figure size 1080x1080 with 1 Axes>"
      ]
     },
     "metadata": {
      "needs_background": "light"
     },
     "output_type": "display_data"
    }
   ],
   "source": [
    "sns.distplot(test_data['Annual_Premium'])"
   ]
  },
  {
   "cell_type": "code",
   "execution_count": 13,
   "metadata": {
    "execution": {
     "iopub.execute_input": "2020-09-20T16:40:51.657695Z",
     "iopub.status.busy": "2020-09-20T16:40:51.656613Z",
     "iopub.status.idle": "2020-09-20T16:40:52.050156Z",
     "shell.execute_reply": "2020-09-20T16:40:52.050674Z"
    },
    "papermill": {
     "duration": 0.458545,
     "end_time": "2020-09-20T16:40:52.050843",
     "exception": false,
     "start_time": "2020-09-20T16:40:51.592298",
     "status": "completed"
    },
    "tags": []
   },
   "outputs": [
    {
     "data": {
      "text/plain": [
       "<matplotlib.axes._subplots.AxesSubplot at 0x7f74acba3610>"
      ]
     },
     "execution_count": 13,
     "metadata": {},
     "output_type": "execute_result"
    },
    {
     "data": {
      "image/png": "[encoded data removed]",
      "text/plain": [
       "<Figure size 1080x1080 with 1 Axes>"
      ]
     },
     "metadata": {
      "needs_background": "light"
     },
     "output_type": "display_data"
    }
   ],
   "source": [
    "sns.distplot(train_data['Age'])"
   ]
  },
  {
   "cell_type": "code",
   "execution_count": 14,
   "metadata": {
    "execution": {
     "iopub.execute_input": "2020-09-20T16:40:52.164170Z",
     "iopub.status.busy": "2020-09-20T16:40:52.163132Z",
     "iopub.status.idle": "2020-09-20T16:40:52.488280Z",
     "shell.execute_reply": "2020-09-20T16:40:52.487731Z"
    },
    "papermill": {
     "duration": 0.382264,
     "end_time": "2020-09-20T16:40:52.488405",
     "exception": false,
     "start_time": "2020-09-20T16:40:52.106141",
     "status": "completed"
    },
    "tags": []
   },
   "outputs": [
    {
     "data": {
      "text/plain": [
       "<matplotlib.axes._subplots.AxesSubplot at 0x7f74acaad750>"
      ]
     },
     "execution_count": 14,
     "metadata": {},
     "output_type": "execute_result"
    },
    {
     "data": {
      "image/png": "[encoded data removed]",
      "text/plain": [
       "<Figure size 1080x1080 with 1 Axes>"
      ]
     },
     "metadata": {
      "needs_background": "light"
     },
     "output_type": "display_data"
    }
   ],
   "source": [
    "sns.distplot(test_data['Age'])"
   ]
  },
  {
   "cell_type": "code",
   "execution_count": 15,
   "metadata": {
    "execution": {
     "iopub.execute_input": "2020-09-20T16:40:52.617328Z",
     "iopub.status.busy": "2020-09-20T16:40:52.616122Z",
     "iopub.status.idle": "2020-09-20T16:40:53.096532Z",
     "shell.execute_reply": "2020-09-20T16:40:53.097121Z"
    },
    "papermill": {
     "duration": 0.553406,
     "end_time": "2020-09-20T16:40:53.097267",
     "exception": false,
     "start_time": "2020-09-20T16:40:52.543861",
     "status": "completed"
    },
    "tags": []
   },
   "outputs": [
    {
     "data": {
      "image/png": "[encoded data removed]",
      "text/plain": [
       "<Figure size 1080x1080 with 2 Axes>"
      ]
     },
     "metadata": {},
     "output_type": "display_data"
    }
   ],
   "source": [
    "sns.set(style=\"white\", palette=\"muted\", color_codes=True)\n",
    "\n",
    "f, axes = plt.subplots(2, 1, figsize=(15, 15))\n",
    "\n",
    "male = train_data[train_data['Gender'] =='Male'][\"Response\"].value_counts().rename('Count')\n",
    "\n",
    "female = train_data[train_data['Gender'] =='Female'][\"Response\"].value_counts().rename('Count')\n",
    "\n",
    "sns.barplot(male.index,male,  color=\"b\", ax=axes[0]).set_title('Gender : Male')\n",
    "\n",
    "sns.barplot(female.index,female,   color=\"r\", ax=axes[1]).set_title('Gender : Female')\n",
    "\n",
    "plt.setp(axes, yticks = np.arange(0,50000,10000))\n",
    "\n",
    "for ax in f.axes:\n",
    "    \n",
    "    plt.sca(ax)\n",
    "    \n",
    "    plt.xticks(rotation=0)\n",
    "\n",
    "plt.tight_layout()"
   ]
  },
  {
   "cell_type": "code",
   "execution_count": 16,
   "metadata": {
    "execution": {
     "iopub.execute_input": "2020-09-20T16:40:53.212912Z",
     "iopub.status.busy": "2020-09-20T16:40:53.211923Z",
     "iopub.status.idle": "2020-09-20T16:40:56.633631Z",
     "shell.execute_reply": "2020-09-20T16:40:56.632596Z"
    },
    "papermill": {
     "duration": 3.481162,
     "end_time": "2020-09-20T16:40:56.633824",
     "exception": false,
     "start_time": "2020-09-20T16:40:53.152662",
     "status": "completed"
    },
    "tags": []
   },
   "outputs": [
    {
     "data": {
      "image/png": "[encoded data removed]",
      "text/plain": [
       "<Figure size 1080x1080 with 2 Axes>"
      ]
     },
     "metadata": {},
     "output_type": "display_data"
    }
   ],
   "source": [
    "sns.set(style=\"white\", palette=\"muted\", color_codes=True)\n",
    "\n",
    "f, axes = plt.subplots(2, 1, figsize=(15, 15))\n",
    "\n",
    "dl0 = train_data[train_data['Driving_License'] ==0][\"Response\"].value_counts().rename('Count')\n",
    "\n",
    "dl1 = train_data[train_data['Driving_License'] ==1][\"Response\"].value_counts().rename('Count')\n",
    "\n",
    "sns.barplot(dl0.index,dl0,  color=\"b\", ax=axes[0]).set_title('Driving_License : No')\n",
    "\n",
    "sns.barplot(dl1.index,dl1,   color=\"r\", ax=axes[1]).set_title('Driving_License : Yes')\n",
    "\n",
    "plt.setp(axes, yticks = np.arange(0,200000,1000))\n",
    "\n",
    "for ax in f.axes:\n",
    "    \n",
    "    plt.sca(ax)\n",
    "    \n",
    "    plt.xticks(rotation=0)\n",
    "\n",
    "plt.tight_layout()"
   ]
  },
  {
   "cell_type": "code",
   "execution_count": 17,
   "metadata": {
    "execution": {
     "iopub.execute_input": "2020-09-20T16:40:56.774214Z",
     "iopub.status.busy": "2020-09-20T16:40:56.773136Z",
     "iopub.status.idle": "2020-09-20T16:40:57.171402Z",
     "shell.execute_reply": "2020-09-20T16:40:57.171983Z"
    },
    "papermill": {
     "duration": 0.471634,
     "end_time": "2020-09-20T16:40:57.172129",
     "exception": false,
     "start_time": "2020-09-20T16:40:56.700495",
     "status": "completed"
    },
    "tags": []
   },
   "outputs": [
    {
     "data": {
      "image/png": "[encoded data removed]",
      "text/plain": [
       "<Figure size 1080x1080 with 2 Axes>"
      ]
     },
     "metadata": {},
     "output_type": "display_data"
    }
   ],
   "source": [
    "sns.set(style=\"white\", palette=\"muted\", color_codes=True)\n",
    "\n",
    "f, axes = plt.subplots(2, 1, figsize=(15, 15))\n",
    "\n",
    "pi0 = train_data[train_data['Previously_Insured'] ==0][\"Response\"].value_counts().rename('Count')\n",
    "\n",
    "pi1 = train_data[train_data['Previously_Insured'] ==1][\"Response\"].value_counts().rename('Count')\n",
    "\n",
    "sns.barplot(dl0.index,dl0,  color=\"b\", ax=axes[0]).set_title('Previously_Insured : No')\n",
    "\n",
    "sns.barplot(dl1.index,dl1,   color=\"r\", ax=axes[1]).set_title('Previously_Insured : Yes')\n",
    "\n",
    "plt.setp(axes, yticks = np.arange(0,50000,5000))\n",
    "\n",
    "for ax in f.axes:\n",
    "    \n",
    "    plt.sca(ax)\n",
    "    \n",
    "    plt.xticks(rotation=0)\n",
    "\n",
    "plt.tight_layout()"
   ]
  },
  {
   "cell_type": "markdown",
   "metadata": {
    "papermill": {
     "duration": 0.059886,
     "end_time": "2020-09-20T16:40:57.290920",
     "exception": false,
     "start_time": "2020-09-20T16:40:57.231034",
     "status": "completed"
    },
    "tags": []
   },
   "source": [
    "# Feature Engineering"
   ]
  },
  {
   "cell_type": "markdown",
   "metadata": {
    "papermill": {
     "duration": 0.06136,
     "end_time": "2020-09-20T16:40:57.410501",
     "exception": false,
     "start_time": "2020-09-20T16:40:57.349141",
     "status": "completed"
    },
    "tags": []
   },
   "source": [
    "# Concat Features"
   ]
  },
  {
   "cell_type": "code",
   "execution_count": 18,
   "metadata": {
    "execution": {
     "iopub.execute_input": "2020-09-20T16:40:57.541101Z",
     "iopub.status.busy": "2020-09-20T16:40:57.540010Z",
     "iopub.status.idle": "2020-09-20T16:40:59.220289Z",
     "shell.execute_reply": "2020-09-20T16:40:59.218807Z"
    },
    "papermill": {
     "duration": 1.747525,
     "end_time": "2020-09-20T16:40:59.220446",
     "exception": false,
     "start_time": "2020-09-20T16:40:57.472921",
     "status": "completed"
    },
    "tags": []
   },
   "outputs": [],
   "source": [
    "train_data['Policy_Region'] = train_data['Policy_Sales_Channel'].astype(str)+'_'+train_data['Region_Code'].astype(str)\n",
    "\n",
    "test_data['Policy_Region'] = test_data['Policy_Sales_Channel'].astype(str)+'_'+test_data['Region_Code'].astype(str)\n",
    "\n",
    "train_data['Vehicle_Age_License'] = train_data['Vehicle_Age'].astype(str)+'_'+train_data['Driving_License'].astype(str)\n",
    "\n",
    "test_data['Vehicle_Age_License'] = test_data['Vehicle_Age'].astype(str)+'_'+test_data['Driving_License'].astype(str)\n"
   ]
  },
  {
   "cell_type": "code",
   "execution_count": 19,
   "metadata": {
    "execution": {
     "iopub.execute_input": "2020-09-20T16:40:59.343279Z",
     "iopub.status.busy": "2020-09-20T16:40:59.342594Z",
     "iopub.status.idle": "2020-09-20T16:40:59.345636Z",
     "shell.execute_reply": "2020-09-20T16:40:59.346160Z"
    },
    "papermill": {
     "duration": 0.067596,
     "end_time": "2020-09-20T16:40:59.346304",
     "exception": false,
     "start_time": "2020-09-20T16:40:59.278708",
     "status": "completed"
    },
    "tags": []
   },
   "outputs": [],
   "source": [
    "cat_features = ['Gender','Driving_License','Region_Code','Previously_Insured',\n",
    "                'Vehicle_Damage','Policy_Sales_Channel','Policy_Region',\n",
    "                'Vehicle_Age','Vintage','Annual_Premium','Vehicle_Age_License']\n",
    "\n",
    "cont_features = ['Age']\n",
    "\n",
    "label = 'Response'"
   ]
  },
  {
   "cell_type": "code",
   "execution_count": 20,
   "metadata": {
    "execution": {
     "iopub.execute_input": "2020-09-20T16:40:59.476739Z",
     "iopub.status.busy": "2020-09-20T16:40:59.476043Z",
     "iopub.status.idle": "2020-09-20T16:40:59.479297Z",
     "shell.execute_reply": "2020-09-20T16:40:59.478612Z"
    },
    "papermill": {
     "duration": 0.074636,
     "end_time": "2020-09-20T16:40:59.479409",
     "exception": false,
     "start_time": "2020-09-20T16:40:59.404773",
     "status": "completed"
    },
    "tags": []
   },
   "outputs": [],
   "source": [
    "def encode_cat_cols(train, test, cat_cols): #target\n",
    "\n",
    "    train_df = train_data.copy()\n",
    "    \n",
    "    test_df = test_data.copy()\n",
    "    \n",
    "    # Making a dictionary to store all the labelencoders for categroical columns to transform them later.\n",
    "    \n",
    "    le_dict = {}\n",
    "\n",
    "    for col in cat_cols:\n",
    "        \n",
    "        if col!= 'Vehicle_Age':\n",
    "        \n",
    "            le = LabelEncoder()\n",
    "\n",
    "            le.fit(train_df[col].unique().tolist() + test_df[col].unique().tolist())\n",
    "\n",
    "            train_df[col] = le.transform(train_df[[col]])\n",
    "\n",
    "            test_df[col] = le.transform(test_df[[col]])\n",
    "\n",
    "            le_dict[col] = le\n",
    "        \n",
    "    train_df['Vehicle_Age'] = train_df['Vehicle_Age'].map({'< 1 Year':1,'1-2 Year':2,'> 2 Years':3})\n",
    "    \n",
    "    test_df['Vehicle_Age'] = test_df['Vehicle_Age'].map({'< 1 Year':1,'1-2 Year':2,'> 2 Years':3})\n",
    "\n",
    "    le = LabelEncoder()\n",
    "    \n",
    "    train_df[label] = le.fit_transform(train_df[[label]])\n",
    "    \n",
    "    le_dict[label] = le\n",
    "    \n",
    "    \n",
    "    return train_df, test_df, le_dict"
   ]
  },
  {
   "cell_type": "code",
   "execution_count": 21,
   "metadata": {
    "execution": {
     "iopub.execute_input": "2020-09-20T16:40:59.602825Z",
     "iopub.status.busy": "2020-09-20T16:40:59.602122Z",
     "iopub.status.idle": "2020-09-20T16:41:01.343965Z",
     "shell.execute_reply": "2020-09-20T16:41:01.343216Z"
    },
    "papermill": {
     "duration": 1.805234,
     "end_time": "2020-09-20T16:41:01.344153",
     "exception": false,
     "start_time": "2020-09-20T16:40:59.538919",
     "status": "completed"
    },
    "tags": []
   },
   "outputs": [],
   "source": [
    "train_df, test_df, le_dict = encode_cat_cols(train_data,test_data,cat_features)"
   ]
  },
  {
   "cell_type": "code",
   "execution_count": 22,
   "metadata": {
    "execution": {
     "iopub.execute_input": "2020-09-20T16:41:01.540477Z",
     "iopub.status.busy": "2020-09-20T16:41:01.539406Z",
     "iopub.status.idle": "2020-09-20T16:41:01.579983Z",
     "shell.execute_reply": "2020-09-20T16:41:01.580481Z"
    },
    "papermill": {
     "duration": 0.177379,
     "end_time": "2020-09-20T16:41:01.580674",
     "exception": false,
     "start_time": "2020-09-20T16:41:01.403295",
     "status": "completed"
    },
    "tags": []
   },
   "outputs": [],
   "source": [
    "train_df = train_df[~train_df.Policy_Sales_Channel.isin(list(set(train_df.Policy_Sales_Channel)-set(test_df.Policy_Sales_Channel)))]\n",
    "\n",
    "#test_df.loc[(test_df.Policy_Sales_Channel.isin(list(set(test_df.Policy_Sales_Channel) - set(train_df.Policy_Sales_Channel)))),'Policy_Sales_Channel'] = -1\n",
    "\n",
    "test_df.loc[(test_df.Policy_Sales_Channel==137),'Policy_Sales_Channel'] = -1\n",
    "\n",
    "test_df.loc[(test_df.Policy_Sales_Channel==136),'Policy_Sales_Channel'] = -1"
   ]
  },
  {
   "cell_type": "code",
   "execution_count": 23,
   "metadata": {
    "execution": {
     "iopub.execute_input": "2020-09-20T16:41:01.705473Z",
     "iopub.status.busy": "2020-09-20T16:41:01.704673Z",
     "iopub.status.idle": "2020-09-20T16:41:01.708289Z",
     "shell.execute_reply": "2020-09-20T16:41:01.707708Z"
    },
    "papermill": {
     "duration": 0.06872,
     "end_time": "2020-09-20T16:41:01.708414",
     "exception": false,
     "start_time": "2020-09-20T16:41:01.639694",
     "status": "completed"
    },
    "tags": []
   },
   "outputs": [],
   "source": [
    "#Used only for XgBoost and LightGBM\n",
    "#test_df.loc[(test_df.Annual_Premium.isin(list(set(test_df.Annual_Premium) - set(train_df.Annual_Premium)))),'Annual_Premium'] = -1"
   ]
  },
  {
   "cell_type": "code",
   "execution_count": 24,
   "metadata": {
    "execution": {
     "iopub.execute_input": "2020-09-20T16:41:01.835919Z",
     "iopub.status.busy": "2020-09-20T16:41:01.835252Z",
     "iopub.status.idle": "2020-09-20T16:41:01.940958Z",
     "shell.execute_reply": "2020-09-20T16:41:01.941582Z"
    },
    "papermill": {
     "duration": 0.173259,
     "end_time": "2020-09-20T16:41:01.941758",
     "exception": false,
     "start_time": "2020-09-20T16:41:01.768499",
     "status": "completed"
    },
    "tags": []
   },
   "outputs": [],
   "source": [
    "train_df['train'] = 1\n",
    "\n",
    "test_df['train'] = 0\n",
    "\n",
    "combined_data = pd.concat([train_df,test_df],axis =0).reset_index(drop = True).copy()"
   ]
  },
  {
   "cell_type": "markdown",
   "metadata": {
    "papermill": {
     "duration": 0.058989,
     "end_time": "2020-09-20T16:41:02.060317",
     "exception": false,
     "start_time": "2020-09-20T16:41:02.001328",
     "status": "completed"
    },
    "tags": []
   },
   "source": [
    "# Feature Binning"
   ]
  },
  {
   "cell_type": "code",
   "execution_count": 25,
   "metadata": {
    "execution": {
     "iopub.execute_input": "2020-09-20T16:41:02.182649Z",
     "iopub.status.busy": "2020-09-20T16:41:02.181913Z",
     "iopub.status.idle": "2020-09-20T16:41:02.266527Z",
     "shell.execute_reply": "2020-09-20T16:41:02.267150Z"
    },
    "papermill": {
     "duration": 0.14761,
     "end_time": "2020-09-20T16:41:02.267312",
     "exception": false,
     "start_time": "2020-09-20T16:41:02.119702",
     "status": "completed"
    },
    "tags": []
   },
   "outputs": [],
   "source": [
    "premium_discretizer = KBinsDiscretizer(n_bins=8, encode='ordinal', strategy='quantile')\n",
    "\n",
    "combined_data['Premium_Bins'] =premium_discretizer.fit_transform(combined_data['Annual_Premium'].values.reshape(-1,1)).astype(int)\n",
    "\n",
    "age_discretizer = KBinsDiscretizer(n_bins=10, encode='ordinal', strategy='quantile')\n",
    "\n",
    "combined_data['Age_Bins'] =age_discretizer.fit_transform(combined_data['Age'].values.reshape(-1,1)).astype(int)"
   ]
  },
  {
   "cell_type": "code",
   "execution_count": 26,
   "metadata": {
    "execution": {
     "iopub.execute_input": "2020-09-20T16:41:02.391338Z",
     "iopub.status.busy": "2020-09-20T16:41:02.390617Z",
     "iopub.status.idle": "2020-09-20T16:41:02.736947Z",
     "shell.execute_reply": "2020-09-20T16:41:02.737467Z"
    },
    "papermill": {
     "duration": 0.409903,
     "end_time": "2020-09-20T16:41:02.737648",
     "exception": false,
     "start_time": "2020-09-20T16:41:02.327745",
     "status": "completed"
    },
    "tags": []
   },
   "outputs": [
    {
     "data": {
      "text/plain": [
       "<matplotlib.axes._subplots.AxesSubplot at 0x7f74ac4aead0>"
      ]
     },
     "execution_count": 26,
     "metadata": {},
     "output_type": "execute_result"
    },
    {
     "data": {
      "image/png": "[encoded data removed]",
      "text/plain": [
       "<Figure size 1080x1080 with 1 Axes>"
      ]
     },
     "metadata": {},
     "output_type": "display_data"
    }
   ],
   "source": [
    "sns.boxplot(combined_data[combined_data['train']==1]['Response'],combined_data[combined_data['train']==1]['Age'])"
   ]
  },
  {
   "cell_type": "code",
   "execution_count": 27,
   "metadata": {
    "execution": {
     "iopub.execute_input": "2020-09-20T16:41:02.864603Z",
     "iopub.status.busy": "2020-09-20T16:41:02.863837Z",
     "iopub.status.idle": "2020-09-20T16:41:03.144935Z",
     "shell.execute_reply": "2020-09-20T16:41:03.145485Z"
    },
    "papermill": {
     "duration": 0.346418,
     "end_time": "2020-09-20T16:41:03.145656",
     "exception": false,
     "start_time": "2020-09-20T16:41:02.799238",
     "status": "completed"
    },
    "tags": []
   },
   "outputs": [
    {
     "data": {
      "text/plain": [
       "<matplotlib.axes._subplots.AxesSubplot at 0x7f7477ad0290>"
      ]
     },
     "execution_count": 27,
     "metadata": {},
     "output_type": "execute_result"
    },
    {
     "data": {
      "image/png": "[encoded data removed]",
      "text/plain": [
       "<Figure size 1080x1080 with 1 Axes>"
      ]
     },
     "metadata": {},
     "output_type": "display_data"
    }
   ],
   "source": [
    "# Age Bin demarcates two classses better(compare the follwing graph with the above one)\n",
    "sns.boxplot(combined_data[combined_data['train']==1]['Response'],combined_data[combined_data['train']==1]['Age_Bins'])"
   ]
  },
  {
   "cell_type": "code",
   "execution_count": 28,
   "metadata": {
    "execution": {
     "iopub.execute_input": "2020-09-20T16:41:03.275311Z",
     "iopub.status.busy": "2020-09-20T16:41:03.274625Z",
     "iopub.status.idle": "2020-09-20T16:41:03.575342Z",
     "shell.execute_reply": "2020-09-20T16:41:03.575909Z"
    },
    "papermill": {
     "duration": 0.366694,
     "end_time": "2020-09-20T16:41:03.576065",
     "exception": false,
     "start_time": "2020-09-20T16:41:03.209371",
     "status": "completed"
    },
    "tags": []
   },
   "outputs": [
    {
     "data": {
      "text/plain": [
       "<matplotlib.axes._subplots.AxesSubplot at 0x7f74ac1f3710>"
      ]
     },
     "execution_count": 28,
     "metadata": {},
     "output_type": "execute_result"
    },
    {
     "data": {
      "image/png": "[encoded data removed]",
      "text/plain": [
       "<Figure size 1080x1080 with 1 Axes>"
      ]
     },
     "metadata": {},
     "output_type": "display_data"
    }
   ],
   "source": [
    "sns.boxplot(combined_data[combined_data['train']==1]['Response'],combined_data[combined_data['train']==1]['Annual_Premium'])"
   ]
  },
  {
   "cell_type": "code",
   "execution_count": 29,
   "metadata": {
    "execution": {
     "iopub.execute_input": "2020-09-20T16:41:03.713001Z",
     "iopub.status.busy": "2020-09-20T16:41:03.712216Z",
     "iopub.status.idle": "2020-09-20T16:41:04.005453Z",
     "shell.execute_reply": "2020-09-20T16:41:04.004798Z"
    },
    "papermill": {
     "duration": 0.364945,
     "end_time": "2020-09-20T16:41:04.005587",
     "exception": false,
     "start_time": "2020-09-20T16:41:03.640642",
     "status": "completed"
    },
    "tags": []
   },
   "outputs": [
    {
     "data": {
      "text/plain": [
       "<matplotlib.axes._subplots.AxesSubplot at 0x7f74ac1edc90>"
      ]
     },
     "execution_count": 29,
     "metadata": {},
     "output_type": "execute_result"
    },
    {
     "data": {
      "image/png": "[encoded data removed]",
      "text/plain": [
       "<Figure size 1080x1080 with 1 Axes>"
      ]
     },
     "metadata": {},
     "output_type": "display_data"
    }
   ],
   "source": [
    "# the same can be seen after binning annual premium\n",
    "sns.boxplot(combined_data[combined_data['train']==1]['Response'],combined_data[combined_data['train']==1]['Premium_Bins'])"
   ]
  },
  {
   "cell_type": "markdown",
   "metadata": {
    "papermill": {
     "duration": 0.064863,
     "end_time": "2020-09-20T16:41:04.135503",
     "exception": false,
     "start_time": "2020-09-20T16:41:04.070640",
     "status": "completed"
    },
    "tags": []
   },
   "source": [
    "# Feature Counts"
   ]
  },
  {
   "cell_type": "code",
   "execution_count": 30,
   "metadata": {
    "execution": {
     "iopub.execute_input": "2020-09-20T16:41:04.279751Z",
     "iopub.status.busy": "2020-09-20T16:41:04.278582Z",
     "iopub.status.idle": "2020-09-20T16:41:04.314897Z",
     "shell.execute_reply": "2020-09-20T16:41:04.314111Z"
    },
    "papermill": {
     "duration": 0.114521,
     "end_time": "2020-09-20T16:41:04.315022",
     "exception": false,
     "start_time": "2020-09-20T16:41:04.200501",
     "status": "completed"
    },
    "tags": []
   },
   "outputs": [],
   "source": [
    "gender_counts = combined_data['Gender'].value_counts().to_dict()\n",
    "\n",
    "combined_data['Gender_Counts'] = combined_data['Gender'].map(gender_counts)\n",
    "\n",
    "region_counts = combined_data['Region_Code'].value_counts().to_dict()\n",
    "\n",
    "combined_data['Region_counts'] = combined_data['Region_Code'].map(region_counts)\n",
    "\n",
    "vehicle_age_counts = combined_data['Vehicle_Age'].value_counts().to_dict()\n",
    "\n",
    "combined_data['Vehicle_Age_Counts'] = combined_data['Vehicle_Age'].map(vehicle_age_counts)"
   ]
  },
  {
   "cell_type": "markdown",
   "metadata": {
    "papermill": {
     "duration": 0.067453,
     "end_time": "2020-09-20T16:41:04.449307",
     "exception": false,
     "start_time": "2020-09-20T16:41:04.381854",
     "status": "completed"
    },
    "tags": []
   },
   "source": [
    "# Feature Aggregations"
   ]
  },
  {
   "cell_type": "code",
   "execution_count": 31,
   "metadata": {
    "execution": {
     "iopub.execute_input": "2020-09-20T16:41:04.597141Z",
     "iopub.status.busy": "2020-09-20T16:41:04.594392Z",
     "iopub.status.idle": "2020-09-20T16:41:05.089364Z",
     "shell.execute_reply": "2020-09-20T16:41:05.088722Z"
    },
    "papermill": {
     "duration": 0.571882,
     "end_time": "2020-09-20T16:41:05.089490",
     "exception": false,
     "start_time": "2020-09-20T16:41:04.517608",
     "status": "completed"
    },
    "tags": []
   },
   "outputs": [],
   "source": [
    "combined_data['Nunq_Policy_Per_Region'] = combined_data.groupby('Region_Code')['Policy_Sales_Channel'].transform('nunique') \n",
    "\n",
    "combined_data['SDev_Annual_Premium_Per_Region_Code_int'] = combined_data.groupby('Region_Code')['Annual_Premium'].transform('std').fillna(-1) \n",
    "\n",
    "combined_data['Nunq_Region_Per_Premium'] = combined_data.groupby('Annual_Premium')['Region_Code'].transform('nunique')\n",
    "\n",
    "# 1230.45 can be split into “1230” and “45”. LGBM cannot see these pieces on its own, you need to split them.\n",
    "combined_data['SDev_Annual_Premium_Per_Region_Code_dec'] = combined_data['SDev_Annual_Premium_Per_Region_Code_int'] %1\n",
    "\n",
    "combined_data['SDev_Annual_Premium_Per_Region_Code_int'] =combined_data['SDev_Annual_Premium_Per_Region_Code_int'].astype(int)\n",
    "\n",
    "\n",
    "combined_data['Avg_Policy_Region_Age'] = combined_data.groupby(['Policy_Region'])['Age'].transform('mean')\n",
    "\n",
    "combined_data['Avg_Policy_Region_Premium'] = combined_data.groupby(['Policy_Region'])['Annual_Premium'].transform('mean') \n",
    "\n",
    "combined_data['Avg_Region_Premium'] = combined_data.groupby(['Region_Code'])['Annual_Premium'].transform('mean')\n",
    "\n",
    "combined_data['Nunq_Premium_Region'] = combined_data.groupby(['Annual_Premium'])['Region_Code'].transform('nunique')"
   ]
  },
  {
   "cell_type": "code",
   "execution_count": 32,
   "metadata": {
    "execution": {
     "iopub.execute_input": "2020-09-20T16:41:05.228415Z",
     "iopub.status.busy": "2020-09-20T16:41:05.227427Z",
     "iopub.status.idle": "2020-09-20T16:41:05.231069Z",
     "shell.execute_reply": "2020-09-20T16:41:05.230345Z"
    },
    "papermill": {
     "duration": 0.075295,
     "end_time": "2020-09-20T16:41:05.231188",
     "exception": false,
     "start_time": "2020-09-20T16:41:05.155893",
     "status": "completed"
    },
    "tags": []
   },
   "outputs": [],
   "source": [
    "#combined_data['f4'] = combined_data.groupby(['Vehicle_Age'])['Annual_Premium'].transform('max')-combined_data.groupby(['Vehicle_Age'])['Annual_Premium'].transform('min')\n",
    "#combined_data['f1'] =combined_data['Annual_Premium'] /(combined_data['Vintage']/365)\n",
    "\n",
    "\n",
    "#combined_data['f2'] = combined_data.groupby(['Premium_Bins'])['Annual_Premium'].transform('max')-combined_data.groupby(['Premium_Bins'])['Annual_Premium'].transform('min')\n",
    "#combined_data['f2'] = combined_data.groupby(['Annual_Premium'])['Vintage'].transform('nunique')"
   ]
  },
  {
   "cell_type": "code",
   "execution_count": 33,
   "metadata": {
    "execution": {
     "iopub.execute_input": "2020-09-20T16:41:05.370366Z",
     "iopub.status.busy": "2020-09-20T16:41:05.369101Z",
     "iopub.status.idle": "2020-09-20T16:41:05.511093Z",
     "shell.execute_reply": "2020-09-20T16:41:05.510351Z"
    },
    "papermill": {
     "duration": 0.213359,
     "end_time": "2020-09-20T16:41:05.511213",
     "exception": false,
     "start_time": "2020-09-20T16:41:05.297854",
     "status": "completed"
    },
    "tags": []
   },
   "outputs": [],
   "source": [
    "train_df = combined_data[combined_data['train']==1]\n",
    "\n",
    "test_df = combined_data[combined_data['train']==0]"
   ]
  },
  {
   "cell_type": "code",
   "execution_count": 34,
   "metadata": {
    "execution": {
     "iopub.execute_input": "2020-09-20T16:41:05.714748Z",
     "iopub.status.busy": "2020-09-20T16:41:05.713708Z",
     "iopub.status.idle": "2020-09-20T16:41:05.850439Z",
     "shell.execute_reply": "2020-09-20T16:41:05.849881Z"
    },
    "papermill": {
     "duration": 0.221402,
     "end_time": "2020-09-20T16:41:05.850604",
     "exception": false,
     "start_time": "2020-09-20T16:41:05.629202",
     "status": "completed"
    },
    "tags": []
   },
   "outputs": [],
   "source": [
    "# Remove duplicate rows---> More trustworthy CV\n",
    "cols = ['Gender', 'Age', 'Driving_License', 'Region_Code',\n",
    "       'Previously_Insured', 'Vehicle_Age', 'Vehicle_Damage',\n",
    "        'Annual_Premium','Policy_Sales_Channel', 'Vintage']\n",
    "\n",
    "train_df = train_df[~train_df.loc[:,cols].duplicated(keep = 'first')].reset_index(drop=True)"
   ]
  },
  {
   "cell_type": "code",
   "execution_count": 35,
   "metadata": {
    "execution": {
     "iopub.execute_input": "2020-09-20T16:41:06.028069Z",
     "iopub.status.busy": "2020-09-20T16:41:06.026495Z",
     "iopub.status.idle": "2020-09-20T16:41:06.032106Z",
     "shell.execute_reply": "2020-09-20T16:41:06.031420Z"
    },
    "papermill": {
     "duration": 0.114315,
     "end_time": "2020-09-20T16:41:06.032237",
     "exception": false,
     "start_time": "2020-09-20T16:41:05.917922",
     "status": "completed"
    },
    "tags": []
   },
   "outputs": [],
   "source": [
    "target = train_df['Response']\n",
    "\n",
    "train_df = train_df.drop(columns =['train','id','Response'])\n",
    "\n",
    "test_df = test_df.drop(columns=['train','id','Response'])"
   ]
  },
  {
   "cell_type": "code",
   "execution_count": 36,
   "metadata": {
    "execution": {
     "iopub.execute_input": "2020-09-20T16:41:06.187051Z",
     "iopub.status.busy": "2020-09-20T16:41:06.185477Z",
     "iopub.status.idle": "2020-09-20T16:41:06.262173Z",
     "shell.execute_reply": "2020-09-20T16:41:06.262758Z"
    },
    "papermill": {
     "duration": 0.163929,
     "end_time": "2020-09-20T16:41:06.262907",
     "exception": false,
     "start_time": "2020-09-20T16:41:06.098978",
     "status": "completed"
    },
    "tags": []
   },
   "outputs": [
    {
     "data": {
      "text/html": [
       "<div>\n",
       "<style scoped>\n",
       "    .dataframe tbody tr th:only-of-type {\n",
       "        vertical-align: middle;\n",
       "    }\n",
       "\n",
       "    .dataframe tbody tr th {\n",
       "        vertical-align: top;\n",
       "    }\n",
       "\n",
       "    .dataframe thead th {\n",
       "        text-align: right;\n",
       "    }\n",
       "</style>\n",
       "<table border=\"1\" class=\"dataframe\">\n",
       "  <thead>\n",
       "    <tr style=\"text-align: right;\">\n",
       "      <th></th>\n",
       "      <th>Gender</th>\n",
       "      <th>Age</th>\n",
       "      <th>Driving_License</th>\n",
       "      <th>Region_Code</th>\n",
       "      <th>Previously_Insured</th>\n",
       "      <th>Vehicle_Age</th>\n",
       "      <th>Vehicle_Damage</th>\n",
       "      <th>Annual_Premium</th>\n",
       "      <th>Policy_Sales_Channel</th>\n",
       "      <th>Vintage</th>\n",
       "      <th>...</th>\n",
       "      <th>Region_counts</th>\n",
       "      <th>Vehicle_Age_Counts</th>\n",
       "      <th>Nunq_Policy_Per_Region</th>\n",
       "      <th>SDev_Annual_Premium_Per_Region_Code_int</th>\n",
       "      <th>Nunq_Region_Per_Premium</th>\n",
       "      <th>SDev_Annual_Premium_Per_Region_Code_dec</th>\n",
       "      <th>Avg_Policy_Region_Age</th>\n",
       "      <th>Avg_Policy_Region_Premium</th>\n",
       "      <th>Avg_Region_Premium</th>\n",
       "      <th>Nunq_Premium_Region</th>\n",
       "    </tr>\n",
       "  </thead>\n",
       "  <tbody>\n",
       "    <tr>\n",
       "      <th>0</th>\n",
       "      <td>1</td>\n",
       "      <td>44</td>\n",
       "      <td>1</td>\n",
       "      <td>28</td>\n",
       "      <td>0</td>\n",
       "      <td>3</td>\n",
       "      <td>1</td>\n",
       "      <td>24158</td>\n",
       "      <td>24</td>\n",
       "      <td>207</td>\n",
       "      <td>...</td>\n",
       "      <td>141873</td>\n",
       "      <td>21323</td>\n",
       "      <td>121</td>\n",
       "      <td>12413</td>\n",
       "      <td>6</td>\n",
       "      <td>0.243217</td>\n",
       "      <td>51.397261</td>\n",
       "      <td>23898.593057</td>\n",
       "      <td>22686.813178</td>\n",
       "      <td>6</td>\n",
       "    </tr>\n",
       "    <tr>\n",
       "      <th>1</th>\n",
       "      <td>1</td>\n",
       "      <td>76</td>\n",
       "      <td>1</td>\n",
       "      <td>3</td>\n",
       "      <td>0</td>\n",
       "      <td>2</td>\n",
       "      <td>0</td>\n",
       "      <td>17240</td>\n",
       "      <td>24</td>\n",
       "      <td>173</td>\n",
       "      <td>...</td>\n",
       "      <td>12345</td>\n",
       "      <td>266897</td>\n",
       "      <td>64</td>\n",
       "      <td>9505</td>\n",
       "      <td>10</td>\n",
       "      <td>0.612352</td>\n",
       "      <td>50.517411</td>\n",
       "      <td>12237.779464</td>\n",
       "      <td>10938.390279</td>\n",
       "      <td>10</td>\n",
       "    </tr>\n",
       "    <tr>\n",
       "      <th>2</th>\n",
       "      <td>1</td>\n",
       "      <td>47</td>\n",
       "      <td>1</td>\n",
       "      <td>28</td>\n",
       "      <td>0</td>\n",
       "      <td>3</td>\n",
       "      <td>1</td>\n",
       "      <td>21998</td>\n",
       "      <td>24</td>\n",
       "      <td>17</td>\n",
       "      <td>...</td>\n",
       "      <td>141873</td>\n",
       "      <td>21323</td>\n",
       "      <td>121</td>\n",
       "      <td>12413</td>\n",
       "      <td>11</td>\n",
       "      <td>0.243217</td>\n",
       "      <td>51.397261</td>\n",
       "      <td>23898.593057</td>\n",
       "      <td>22686.813178</td>\n",
       "      <td>11</td>\n",
       "    </tr>\n",
       "    <tr>\n",
       "      <th>3</th>\n",
       "      <td>1</td>\n",
       "      <td>21</td>\n",
       "      <td>1</td>\n",
       "      <td>11</td>\n",
       "      <td>1</td>\n",
       "      <td>1</td>\n",
       "      <td>0</td>\n",
       "      <td>12323</td>\n",
       "      <td>147</td>\n",
       "      <td>193</td>\n",
       "      <td>...</td>\n",
       "      <td>12328</td>\n",
       "      <td>219792</td>\n",
       "      <td>53</td>\n",
       "      <td>9800</td>\n",
       "      <td>12</td>\n",
       "      <td>0.449872</td>\n",
       "      <td>25.735264</td>\n",
       "      <td>14232.640980</td>\n",
       "      <td>13361.517278</td>\n",
       "      <td>12</td>\n",
       "    </tr>\n",
       "    <tr>\n",
       "      <th>4</th>\n",
       "      <td>0</td>\n",
       "      <td>29</td>\n",
       "      <td>1</td>\n",
       "      <td>41</td>\n",
       "      <td>1</td>\n",
       "      <td>1</td>\n",
       "      <td>0</td>\n",
       "      <td>11200</td>\n",
       "      <td>147</td>\n",
       "      <td>29</td>\n",
       "      <td>...</td>\n",
       "      <td>24399</td>\n",
       "      <td>219792</td>\n",
       "      <td>67</td>\n",
       "      <td>10606</td>\n",
       "      <td>11</td>\n",
       "      <td>0.526628</td>\n",
       "      <td>26.792402</td>\n",
       "      <td>16507.378336</td>\n",
       "      <td>15963.029550</td>\n",
       "      <td>11</td>\n",
       "    </tr>\n",
       "    <tr>\n",
       "      <th>...</th>\n",
       "      <td>...</td>\n",
       "      <td>...</td>\n",
       "      <td>...</td>\n",
       "      <td>...</td>\n",
       "      <td>...</td>\n",
       "      <td>...</td>\n",
       "      <td>...</td>\n",
       "      <td>...</td>\n",
       "      <td>...</td>\n",
       "      <td>...</td>\n",
       "      <td>...</td>\n",
       "      <td>...</td>\n",
       "      <td>...</td>\n",
       "      <td>...</td>\n",
       "      <td>...</td>\n",
       "      <td>...</td>\n",
       "      <td>...</td>\n",
       "      <td>...</td>\n",
       "      <td>...</td>\n",
       "      <td>...</td>\n",
       "      <td>...</td>\n",
       "    </tr>\n",
       "    <tr>\n",
       "      <th>380702</th>\n",
       "      <td>1</td>\n",
       "      <td>74</td>\n",
       "      <td>1</td>\n",
       "      <td>26</td>\n",
       "      <td>1</td>\n",
       "      <td>2</td>\n",
       "      <td>0</td>\n",
       "      <td>13874</td>\n",
       "      <td>24</td>\n",
       "      <td>78</td>\n",
       "      <td>...</td>\n",
       "      <td>3461</td>\n",
       "      <td>266897</td>\n",
       "      <td>42</td>\n",
       "      <td>8705</td>\n",
       "      <td>12</td>\n",
       "      <td>0.776019</td>\n",
       "      <td>49.357349</td>\n",
       "      <td>16082.953890</td>\n",
       "      <td>14721.989021</td>\n",
       "      <td>12</td>\n",
       "    </tr>\n",
       "    <tr>\n",
       "      <th>380703</th>\n",
       "      <td>1</td>\n",
       "      <td>30</td>\n",
       "      <td>1</td>\n",
       "      <td>37</td>\n",
       "      <td>1</td>\n",
       "      <td>1</td>\n",
       "      <td>0</td>\n",
       "      <td>23720</td>\n",
       "      <td>147</td>\n",
       "      <td>121</td>\n",
       "      <td>...</td>\n",
       "      <td>7342</td>\n",
       "      <td>219792</td>\n",
       "      <td>51</td>\n",
       "      <td>8881</td>\n",
       "      <td>4</td>\n",
       "      <td>0.060071</td>\n",
       "      <td>26.166625</td>\n",
       "      <td>14511.676143</td>\n",
       "      <td>14061.525061</td>\n",
       "      <td>4</td>\n",
       "    </tr>\n",
       "    <tr>\n",
       "      <th>380704</th>\n",
       "      <td>1</td>\n",
       "      <td>21</td>\n",
       "      <td>1</td>\n",
       "      <td>30</td>\n",
       "      <td>1</td>\n",
       "      <td>1</td>\n",
       "      <td>0</td>\n",
       "      <td>18822</td>\n",
       "      <td>155</td>\n",
       "      <td>151</td>\n",
       "      <td>...</td>\n",
       "      <td>16276</td>\n",
       "      <td>219792</td>\n",
       "      <td>55</td>\n",
       "      <td>7885</td>\n",
       "      <td>10</td>\n",
       "      <td>0.670013</td>\n",
       "      <td>24.784893</td>\n",
       "      <td>9344.776683</td>\n",
       "      <td>11344.417793</td>\n",
       "      <td>10</td>\n",
       "    </tr>\n",
       "    <tr>\n",
       "      <th>380705</th>\n",
       "      <td>0</td>\n",
       "      <td>68</td>\n",
       "      <td>1</td>\n",
       "      <td>14</td>\n",
       "      <td>0</td>\n",
       "      <td>3</td>\n",
       "      <td>1</td>\n",
       "      <td>28318</td>\n",
       "      <td>119</td>\n",
       "      <td>64</td>\n",
       "      <td>...</td>\n",
       "      <td>6249</td>\n",
       "      <td>21323</td>\n",
       "      <td>37</td>\n",
       "      <td>9065</td>\n",
       "      <td>4</td>\n",
       "      <td>0.722325</td>\n",
       "      <td>46.691176</td>\n",
       "      <td>12871.089286</td>\n",
       "      <td>11745.857417</td>\n",
       "      <td>4</td>\n",
       "    </tr>\n",
       "    <tr>\n",
       "      <th>380706</th>\n",
       "      <td>1</td>\n",
       "      <td>46</td>\n",
       "      <td>1</td>\n",
       "      <td>29</td>\n",
       "      <td>0</td>\n",
       "      <td>2</td>\n",
       "      <td>0</td>\n",
       "      <td>25481</td>\n",
       "      <td>24</td>\n",
       "      <td>227</td>\n",
       "      <td>...</td>\n",
       "      <td>14835</td>\n",
       "      <td>266897</td>\n",
       "      <td>66</td>\n",
       "      <td>10827</td>\n",
       "      <td>9</td>\n",
       "      <td>0.188911</td>\n",
       "      <td>50.561236</td>\n",
       "      <td>15977.701361</td>\n",
       "      <td>15224.729087</td>\n",
       "      <td>9</td>\n",
       "    </tr>\n",
       "  </tbody>\n",
       "</table>\n",
       "<p>380707 rows × 25 columns</p>\n",
       "</div>"
      ],
      "text/plain": [
       "        Gender  Age  Driving_License  Region_Code  Previously_Insured  \\\n",
       "0            1   44                1           28                   0   \n",
       "1            1   76                1            3                   0   \n",
       "2            1   47                1           28                   0   \n",
       "3            1   21                1           11                   1   \n",
       "4            0   29                1           41                   1   \n",
       "...        ...  ...              ...          ...                 ...   \n",
       "380702       1   74                1           26                   1   \n",
       "380703       1   30                1           37                   1   \n",
       "380704       1   21                1           30                   1   \n",
       "380705       0   68                1           14                   0   \n",
       "380706       1   46                1           29                   0   \n",
       "\n",
       "        Vehicle_Age  Vehicle_Damage  Annual_Premium  Policy_Sales_Channel  \\\n",
       "0                 3               1           24158                    24   \n",
       "1                 2               0           17240                    24   \n",
       "2                 3               1           21998                    24   \n",
       "3                 1               0           12323                   147   \n",
       "4                 1               0           11200                   147   \n",
       "...             ...             ...             ...                   ...   \n",
       "380702            2               0           13874                    24   \n",
       "380703            1               0           23720                   147   \n",
       "380704            1               0           18822                   155   \n",
       "380705            3               1           28318                   119   \n",
       "380706            2               0           25481                    24   \n",
       "\n",
       "        Vintage  ...  Region_counts  Vehicle_Age_Counts  \\\n",
       "0           207  ...         141873               21323   \n",
       "1           173  ...          12345              266897   \n",
       "2            17  ...         141873               21323   \n",
       "3           193  ...          12328              219792   \n",
       "4            29  ...          24399              219792   \n",
       "...         ...  ...            ...                 ...   \n",
       "380702       78  ...           3461              266897   \n",
       "380703      121  ...           7342              219792   \n",
       "380704      151  ...          16276              219792   \n",
       "380705       64  ...           6249               21323   \n",
       "380706      227  ...          14835              266897   \n",
       "\n",
       "        Nunq_Policy_Per_Region  SDev_Annual_Premium_Per_Region_Code_int  \\\n",
       "0                          121                                    12413   \n",
       "1                           64                                     9505   \n",
       "2                          121                                    12413   \n",
       "3                           53                                     9800   \n",
       "4                           67                                    10606   \n",
       "...                        ...                                      ...   \n",
       "380702                      42                                     8705   \n",
       "380703                      51                                     8881   \n",
       "380704                      55                                     7885   \n",
       "380705                      37                                     9065   \n",
       "380706                      66                                    10827   \n",
       "\n",
       "        Nunq_Region_Per_Premium  SDev_Annual_Premium_Per_Region_Code_dec  \\\n",
       "0                             6                                 0.243217   \n",
       "1                            10                                 0.612352   \n",
       "2                            11                                 0.243217   \n",
       "3                            12                                 0.449872   \n",
       "4                            11                                 0.526628   \n",
       "...                         ...                                      ...   \n",
       "380702                       12                                 0.776019   \n",
       "380703                        4                                 0.060071   \n",
       "380704                       10                                 0.670013   \n",
       "380705                        4                                 0.722325   \n",
       "380706                        9                                 0.188911   \n",
       "\n",
       "        Avg_Policy_Region_Age  Avg_Policy_Region_Premium  Avg_Region_Premium  \\\n",
       "0                   51.397261               23898.593057        22686.813178   \n",
       "1                   50.517411               12237.779464        10938.390279   \n",
       "2                   51.397261               23898.593057        22686.813178   \n",
       "3                   25.735264               14232.640980        13361.517278   \n",
       "4                   26.792402               16507.378336        15963.029550   \n",
       "...                       ...                        ...                 ...   \n",
       "380702              49.357349               16082.953890        14721.989021   \n",
       "380703              26.166625               14511.676143        14061.525061   \n",
       "380704              24.784893                9344.776683        11344.417793   \n",
       "380705              46.691176               12871.089286        11745.857417   \n",
       "380706              50.561236               15977.701361        15224.729087   \n",
       "\n",
       "        Nunq_Premium_Region  \n",
       "0                         6  \n",
       "1                        10  \n",
       "2                        11  \n",
       "3                        12  \n",
       "4                        11  \n",
       "...                     ...  \n",
       "380702                   12  \n",
       "380703                    4  \n",
       "380704                   10  \n",
       "380705                    4  \n",
       "380706                    9  \n",
       "\n",
       "[380707 rows x 25 columns]"
      ]
     },
     "execution_count": 36,
     "metadata": {},
     "output_type": "execute_result"
    }
   ],
   "source": [
    "test_size = 0.34\n",
    "\n",
    "train_df"
   ]
  },
  {
   "cell_type": "markdown",
   "metadata": {
    "papermill": {
     "duration": 0.067232,
     "end_time": "2020-09-20T16:41:06.397929",
     "exception": false,
     "start_time": "2020-09-20T16:41:06.330697",
     "status": "completed"
    },
    "tags": []
   },
   "source": [
    "# Algorithms Used\n",
    "\n",
    "* **LightGBM**\n",
    "\n",
    "* **XgBoost**---> used for ensemling\n",
    "\n",
    "* **CatBoost**---> used for ensemling\n",
    "\n",
    "* **NN via FastAi**---> Poor CV"
   ]
  },
  {
   "cell_type": "markdown",
   "metadata": {
    "papermill": {
     "duration": 0.068975,
     "end_time": "2020-09-20T16:41:06.534113",
     "exception": false,
     "start_time": "2020-09-20T16:41:06.465138",
     "status": "completed"
    },
    "tags": []
   },
   "source": [
    "# Differentiation based on how each algorithm Splits feature\n",
    "\n",
    "**Catboost** \n",
    "* Uses oblivious decision trees\n",
    "* Before learning, the possible values of each feature are divided into buckets delimited by threshold values, creating feature-split pairs\n",
    "* Example for such pairs are: (age, <5), (age, 5-10), (age, >10) and so on. In each level of an oblivious tree, the feature-split pair that brings to the lowest loss (according to a penalty function) is selected and is used for all the level’s nodes.\n",
    "\n",
    "**LightGBM** \n",
    "* Uses gradient-based one-side sampling (GOSS) that selects the split using all the instances with large gradients (i.e., large error) and a random sample of instances with small gradients\n",
    "* In order to keep the same data distribution when computing the information gain, GOSS introduces a constant multiplier for the data instances with small gradients\n",
    "* GOSS,thus achieves a good balance between increasing speed by reducing the number of data instances and keeping the accuracy for learned decision trees.\n",
    "\n",
    "**XGboost** \n",
    "* Several methods for selecting the best split\n",
    "* For example, a histogram-based algorithm that buckets continuous features into discrete bins and uses these bins to find the split value in each node\n",
    "* This method is faster than the exact greedy algorithm, which linearly enumerates all the possible splits for continuous features, but it is slower compared to GOSS that is used by LightGBM\n"
   ]
  },
  {
   "cell_type": "markdown",
   "metadata": {
    "papermill": {
     "duration": 0.066665,
     "end_time": "2020-09-20T16:41:06.668076",
     "exception": false,
     "start_time": "2020-09-20T16:41:06.601411",
     "status": "completed"
    },
    "tags": []
   },
   "source": [
    "\n",
    "# Differentiation based on how each algorithm grows leaves\n",
    "\n",
    "\n",
    "\n",
    "![](https://www.riskified.com/wp-content/uploads/2019/11/inner-image-trees-1-1024x386.png)\n",
    "\n",
    "* **Catboost** grows a balanced tree.\n",
    "\n",
    "\n",
    "* **LightGBM** uses leaf-wise (best-first) tree growth\n",
    "    * It chooses to grow the leaf that minimizes the loss, allowing a growth of an imbalanced tree\n",
    "    * Because it doesn’t grow level-wise, but leaf-wise, overfitting can  happen when data is small\n",
    "    * It is therefore important to control the tree depth\n",
    "\n",
    "\n",
    "* **XGboost** splits up to the specified max_depth hyperparameter\n",
    "    * It then starts pruning the tree backwards and removes splits beyond which there is no positive gain\n",
    "    * It uses this approach since sometimes a split of no loss reduction may be followed by a split with loss reduction"
   ]
  },
  {
   "cell_type": "markdown",
   "metadata": {
    "papermill": {
     "duration": 0.071978,
     "end_time": "2020-09-20T16:41:06.807872",
     "exception": false,
     "start_time": "2020-09-20T16:41:06.735894",
     "status": "completed"
    },
    "tags": []
   },
   "source": [
    "# Differentiation based on how each algorithm handles Missing values\n",
    "\n",
    "* **Catboost** has two modes for processing missing values, “Min” and “Max”.\n",
    "    * In “Min”, missing values are processed as the minimum value for a feature (they are given a value that is less than all existing values)\n",
    "    * This way, it is guaranteed that a split that separates missing values from all other values is considered when selecting splits\n",
    "    * “Max” works exactly the same as “Min”, only with maximum values\n",
    "\n",
    "\n",
    "\n",
    "* In **LightGBM** and **XGBoost** missing values will be allocated to the side that reduces the loss in each split"
   ]
  },
  {
   "cell_type": "markdown",
   "metadata": {
    "papermill": {
     "duration": 0.068261,
     "end_time": "2020-09-20T16:41:06.944267",
     "exception": false,
     "start_time": "2020-09-20T16:41:06.876006",
     "status": "completed"
    },
    "tags": []
   },
   "source": [
    "# Differentiation based on how each algorithm calculates feature importance\n",
    "\n",
    "* **Catboost** has two methods\n",
    "    * The first is “PredictionValuesChange”. For each feature, PredictionValuesChange shows how much, on average, the prediction changes if the feature value changes. A feature would have a greater importance when a change in the feature value causes a big change in the predicted value\n",
    "    * The second method is “LossFunctionChange”. This type of feature importance can be used for any model, but is particularly useful for ranking models. For each feature the value represents the difference between the loss value of the model with this feature and without it. \n",
    "\n",
    "\n",
    "\n",
    "* **LightGBM** and **XGBoost** have two similar methods\n",
    "    * The first is “Gain” which is the improvement in accuracy (or total gain) brought by a feature to the branches it is on.\n",
    "    * The second method has a different name in each package: “split” (LightGBM) and “Frequency”/”Weight” (XGBoost). This method calculates the relative number of times a particular feature occurs in all splits of the model’s trees. This method can be biased by categorical features with a large number of categories. "
   ]
  },
  {
   "cell_type": "markdown",
   "metadata": {
    "papermill": {
     "duration": 0.067389,
     "end_time": "2020-09-20T16:41:07.079269",
     "exception": false,
     "start_time": "2020-09-20T16:41:07.011880",
     "status": "completed"
    },
    "tags": []
   },
   "source": [
    "# Differentiation based on how each algorithm handle categorical feature\n",
    "\n",
    "* **Catboost** uses a combination of one-hot encoding and an advanced mean encoding\n",
    "    * For features with low number of categories, it uses one-hot encoding\n",
    "    * The maximum number of categories for one-hot encoding can be controlled by the one_hot_max_size parameter\n",
    "    * For the remaining categorical columns, CatBoost uses a method of encoding similar to mean encoding but with an additional mechanism aimed at reducing overfitting\n",
    "    * Using CatBoost’s categorical encoding comes with a downside of a slower model\n",
    "\n",
    "* **LightGBM** splits categorical features by partitioning their categories into 2 subsets\n",
    "    * The basic idea is to sort the categories according to the training objective at each split\n",
    "    * This method does not necessarily improve the LightGBM model. It has comparable (and sometimes worse) performance than other methods \n",
    "\n",
    "* **XGBoost**\n",
    "doesn’t have an inbuilt method for categorical features. Encoding (one-hot, target encoding, etc.) should be performed by the user."
   ]
  },
  {
   "cell_type": "markdown",
   "metadata": {
    "papermill": {
     "duration": 0.067136,
     "end_time": "2020-09-20T16:41:07.213999",
     "exception": false,
     "start_time": "2020-09-20T16:41:07.146863",
     "status": "completed"
    },
    "tags": []
   },
   "source": [
    "# Sampling Strategy : Stratified Shuffle Split\n",
    "![](https://i.stack.imgur.com/AGv9B.png)"
   ]
  },
  {
   "cell_type": "markdown",
   "metadata": {
    "papermill": {
     "duration": 0.067192,
     "end_time": "2020-09-20T16:41:07.348310",
     "exception": false,
     "start_time": "2020-09-20T16:41:07.281118",
     "status": "completed"
    },
    "tags": []
   },
   "source": [
    "# CV LightGBM"
   ]
  },
  {
   "cell_type": "code",
   "execution_count": 37,
   "metadata": {
    "execution": {
     "iopub.execute_input": "2020-09-20T16:41:07.492069Z",
     "iopub.status.busy": "2020-09-20T16:41:07.491097Z",
     "iopub.status.idle": "2020-09-20T16:41:07.495056Z",
     "shell.execute_reply": "2020-09-20T16:41:07.494366Z"
    },
    "papermill": {
     "duration": 0.079698,
     "end_time": "2020-09-20T16:41:07.495173",
     "exception": false,
     "start_time": "2020-09-20T16:41:07.415475",
     "status": "completed"
    },
    "tags": []
   },
   "outputs": [],
   "source": [
    "def feature_importance(model, X_train):\n",
    "\n",
    "    fI = model.feature_importances_\n",
    "    \n",
    "    print(fI)\n",
    "    \n",
    "    names = X_train.columns.values\n",
    "    \n",
    "    ticks = [i for i in range(len(names))]\n",
    "    \n",
    "    plt.bar(ticks, fI)\n",
    "    \n",
    "    plt.xticks(ticks, names,rotation = 90)\n",
    "    \n",
    "    plt.show()"
   ]
  },
  {
   "cell_type": "code",
   "execution_count": 38,
   "metadata": {
    "execution": {
     "iopub.execute_input": "2020-09-20T16:41:07.644968Z",
     "iopub.status.busy": "2020-09-20T16:41:07.643642Z",
     "iopub.status.idle": "2020-09-20T16:42:53.303018Z",
     "shell.execute_reply": "2020-09-20T16:42:53.303714Z"
    },
    "papermill": {
     "duration": 105.739495,
     "end_time": "2020-09-20T16:42:53.303897",
     "exception": false,
     "start_time": "2020-09-20T16:41:07.564402",
     "status": "completed"
    },
    "tags": []
   },
   "outputs": [
    {
     "data": {
      "application/vnd.jupyter.widget-view+json": {
       "model_id": "9549347f01c44e8aa3d6b90103031ad5",
       "version_major": 2,
       "version_minor": 0
      },
      "text/plain": [
       "HBox(children=(FloatProgress(value=0.0, max=1.0), HTML(value='')))"
      ]
     },
     "metadata": {},
     "output_type": "display_data"
    },
    {
     "name": "stdout",
     "output_type": "stream",
     "text": [
      " \n",
      "####################################################################################################\n",
      "Seed 1\n",
      "Fold 0\n",
      " rows of train = 251266 rows of holdout = 129441\n",
      "Training until validation scores don't improve for 100 rounds\n",
      "[100]\tvalid_0's binary_logloss: 0.281642\tvalid_0's auc: 0.85659\n",
      "[200]\tvalid_0's binary_logloss: 0.267812\tvalid_0's auc: 0.85947\n",
      "[300]\tvalid_0's binary_logloss: 0.264415\tvalid_0's auc: 0.859979\n",
      "[400]\tvalid_0's binary_logloss: 0.263444\tvalid_0's auc: 0.860134\n",
      "[500]\tvalid_0's binary_logloss: 0.263209\tvalid_0's auc: 0.860143\n",
      "Early stopping, best iteration is:\n",
      "[461]\tvalid_0's binary_logloss: 0.263275\tvalid_0's auc: 0.860158\n",
      "LGB Val OOF AUC= 0.8601581735381363\n",
      "####################################################################################################\n",
      "[  1758.58611393  66718.04519629    847.80840653   5053.97154653\n",
      " 437447.46217728  28690.43852687 511228.53176987   7509.16851091\n",
      "  44512.01743966   5047.75592691  26283.47188866   7884.61612982\n",
      "   1162.10515749  64723.48104298   1201.80533493   4755.11467731\n",
      "   3475.10002911   4552.62571657   5314.0142014    3509.19809735\n",
      "   4227.33770359 153685.69172275  12455.54275268   5213.26260477\n",
      "   2533.54754961]\n"
     ]
    },
    {
     "data": {
      "image/png": "[encoded data removed]",
      "text/plain": [
       "<Figure size 1080x1080 with 1 Axes>"
      ]
     },
     "metadata": {},
     "output_type": "display_data"
    },
    {
     "name": "stdout",
     "output_type": "stream",
     "text": [
      "Fold 1\n",
      " rows of train = 251266 rows of holdout = 129441\n",
      "Training until validation scores don't improve for 100 rounds\n",
      "[100]\tvalid_0's binary_logloss: 0.28185\tvalid_0's auc: 0.855833\n",
      "[200]\tvalid_0's binary_logloss: 0.268058\tvalid_0's auc: 0.859049\n",
      "[300]\tvalid_0's binary_logloss: 0.264707\tvalid_0's auc: 0.859631\n",
      "[400]\tvalid_0's binary_logloss: 0.26375\tvalid_0's auc: 0.859835\n",
      "[500]\tvalid_0's binary_logloss: 0.26354\tvalid_0's auc: 0.859838\n",
      "Early stopping, best iteration is:\n",
      "[450]\tvalid_0's binary_logloss: 0.263608\tvalid_0's auc: 0.859873\n",
      "LGB Val OOF AUC= 0.8598726475881666\n",
      "####################################################################################################\n",
      "Fold 2\n",
      " rows of train = 251266 rows of holdout = 129441\n",
      "Training until validation scores don't improve for 100 rounds\n",
      "[100]\tvalid_0's binary_logloss: 0.282308\tvalid_0's auc: 0.855186\n",
      "[200]\tvalid_0's binary_logloss: 0.268578\tvalid_0's auc: 0.858384\n",
      "[300]\tvalid_0's binary_logloss: 0.265277\tvalid_0's auc: 0.858867\n",
      "[400]\tvalid_0's binary_logloss: 0.264407\tvalid_0's auc: 0.858944\n",
      "[500]\tvalid_0's binary_logloss: 0.264227\tvalid_0's auc: 0.858933\n",
      "Early stopping, best iteration is:\n",
      "[453]\tvalid_0's binary_logloss: 0.264277\tvalid_0's auc: 0.858964\n",
      "LGB Val OOF AUC= 0.8589635985784425\n",
      "####################################################################################################\n",
      "Fold 3\n",
      " rows of train = 251266 rows of holdout = 129441\n",
      "Training until validation scores don't improve for 100 rounds\n",
      "[100]\tvalid_0's binary_logloss: 0.282418\tvalid_0's auc: 0.854484\n",
      "[200]\tvalid_0's binary_logloss: 0.268737\tvalid_0's auc: 0.857661\n",
      "[300]\tvalid_0's binary_logloss: 0.26548\tvalid_0's auc: 0.858262\n",
      "[400]\tvalid_0's binary_logloss: 0.2646\tvalid_0's auc: 0.858442\n",
      "[500]\tvalid_0's binary_logloss: 0.264391\tvalid_0's auc: 0.858479\n",
      "[600]\tvalid_0's binary_logloss: 0.264325\tvalid_0's auc: 0.858488\n",
      "Early stopping, best iteration is:\n",
      "[543]\tvalid_0's binary_logloss: 0.264339\tvalid_0's auc: 0.858506\n",
      "LGB Val OOF AUC= 0.8585056880940695\n",
      "####################################################################################################\n",
      "Fold 4\n",
      " rows of train = 251266 rows of holdout = 129441\n",
      "Training until validation scores don't improve for 100 rounds\n",
      "[100]\tvalid_0's binary_logloss: 0.282623\tvalid_0's auc: 0.853668\n",
      "[200]\tvalid_0's binary_logloss: 0.269046\tvalid_0's auc: 0.856831\n",
      "[300]\tvalid_0's binary_logloss: 0.265812\tvalid_0's auc: 0.85733\n",
      "[400]\tvalid_0's binary_logloss: 0.264911\tvalid_0's auc: 0.857521\n",
      "[500]\tvalid_0's binary_logloss: 0.264714\tvalid_0's auc: 0.857575\n",
      "[600]\tvalid_0's binary_logloss: 0.264678\tvalid_0's auc: 0.857556\n",
      "Early stopping, best iteration is:\n",
      "[526]\tvalid_0's binary_logloss: 0.264688\tvalid_0's auc: 0.857583\n",
      "LGB Val OOF AUC= 0.85758305823844\n",
      "####################################################################################################\n",
      "\n",
      "Log Loss Stats 0.26403737,0.00051706\n",
      "0.85901663 (0.00093326)\n",
      "CPU times: user 6min 40s, sys: 3.28 s, total: 6min 43s\n",
      "Wall time: 1min 45s\n"
     ]
    }
   ],
   "source": [
    "%%time\n",
    "##LightGBM\n",
    "\n",
    "cat_features = ['Driving_License','Gender','Region_Code','Previously_Insured','Vehicle_Damage',\n",
    "                'Policy_Sales_Channel','Policy_Region','Vehicle_Age','Vintage',\n",
    "                'Annual_Premium','Vehicle_Age_License','Premium_Bins']\n",
    "\n",
    "cont_features = ['Age','Age_Bins']\n",
    "\n",
    "probs_lgb = np.zeros(shape=(len(test_df),))\n",
    "\n",
    "scores = []\n",
    "\n",
    "avg_loss = []\n",
    "\n",
    "seeds = [1]\n",
    "\n",
    "for seed in tnrange(len(seeds)):\n",
    "    \n",
    "    print(' ')\n",
    "    \n",
    "    print('#'*100)\n",
    "    \n",
    "    print('Seed',seeds[seed])\n",
    "\n",
    "    X_train_cv,y_train_cv = train_df.copy(), target.copy()\n",
    "\n",
    "    sssf = StratifiedShuffleSplit(n_splits=5, test_size = test_size ,random_state=seed)\n",
    "    \n",
    "    for i, (idxT, idxV) in enumerate(sssf.split(X_train_cv, y_train_cv)):\n",
    "\n",
    "        print('Fold',i)\n",
    "\n",
    "        print(' rows of train =',len(idxT),'rows of holdout =',len(idxV))\n",
    "\n",
    "        clf = lgb.LGBMClassifier(boosting_type='gbdt',\n",
    "                                 n_estimators=10000,\n",
    "                                 max_depth=10,\n",
    "                                 learning_rate=0.02,\n",
    "                                 subsample=0.9,\n",
    "                                 colsample_bytree=0.4,\n",
    "                                 objective ='binary',\n",
    "                                 random_state = 1,\n",
    "                                 importance_type='gain',\n",
    "                                 reg_alpha=2,\n",
    "                                 reg_lambda=2\n",
    "                                 #cat_features=cat_features\n",
    "                                )        \n",
    "        \n",
    "        h = clf.fit(X_train_cv.iloc[idxT], y_train_cv.iloc[idxT], \n",
    "                    eval_set=[(X_train_cv.iloc[idxV],y_train_cv.iloc[idxV])],\n",
    "                    verbose=100,eval_metric=['binary_logloss','auc'],\n",
    "                    early_stopping_rounds=100)\n",
    "        probs_oof = clf.predict_proba(X_train_cv.iloc[idxV])[:,1]\n",
    "        \n",
    "        probs_lgb +=clf.predict_proba(test_df)[:,1]\n",
    "        \n",
    "        roc = roc_auc_score(y_train_cv.iloc[idxV],probs_oof)\n",
    "\n",
    "        scores.append(roc)\n",
    "\n",
    "        avg_loss.append(clf.best_score_['valid_0']['binary_logloss'])\n",
    "\n",
    "        print ('LGB Val OOF AUC=',roc)\n",
    "\n",
    "        print('#'*100)\n",
    "\n",
    "        if i==0:\n",
    "            feature_importance(clf,X_train_cv)\n",
    "\n",
    "print(\"Log Loss Stats {0:.8f},{1:.8f}\".format(np.array(avg_loss).mean(), np.array(avg_loss).std()))\n",
    "\n",
    "print('%.8f (%.8f)' % (np.array(scores).mean(), np.array(scores).std()))"
   ]
  },
  {
   "cell_type": "markdown",
   "metadata": {
    "papermill": {
     "duration": 0.085243,
     "end_time": "2020-09-20T16:42:53.498056",
     "exception": false,
     "start_time": "2020-09-20T16:42:53.412813",
     "status": "completed"
    },
    "tags": []
   },
   "source": [
    "# CV XGBOOST"
   ]
  },
  {
   "cell_type": "code",
   "execution_count": 39,
   "metadata": {
    "execution": {
     "iopub.execute_input": "2020-09-20T16:42:53.682244Z",
     "iopub.status.busy": "2020-09-20T16:42:53.681444Z",
     "iopub.status.idle": "2020-09-20T16:47:44.495288Z",
     "shell.execute_reply": "2020-09-20T16:47:44.495960Z"
    },
    "papermill": {
     "duration": 290.911314,
     "end_time": "2020-09-20T16:47:44.496151",
     "exception": false,
     "start_time": "2020-09-20T16:42:53.584837",
     "status": "completed"
    },
    "tags": []
   },
   "outputs": [
    {
     "data": {
      "application/vnd.jupyter.widget-view+json": {
       "model_id": "4b9e9a3adc0c49fd999a276e9dcff4f7",
       "version_major": 2,
       "version_minor": 0
      },
      "text/plain": [
       "HBox(children=(FloatProgress(value=0.0, max=1.0), HTML(value='')))"
      ]
     },
     "metadata": {},
     "output_type": "display_data"
    },
    {
     "name": "stdout",
     "output_type": "stream",
     "text": [
      " \n",
      "####################################################################################################\n",
      "Seed 1\n",
      "Fold 0\n",
      " rows of train = 251266 rows of holdout = 129441\n",
      "[0]\tvalidation_0-auc:0.73155\tvalidation_0-logloss:0.66945\n",
      "Multiple eval metrics have been passed: 'validation_0-logloss' will be used for early stopping.\n",
      "\n",
      "Will train until validation_0-logloss hasn't improved in 50 rounds.\n",
      "[100]\tvalidation_0-auc:0.85739\tvalidation_0-logloss:0.27664\n",
      "[200]\tvalidation_0-auc:0.85999\tvalidation_0-logloss:0.26476\n",
      "[300]\tvalidation_0-auc:0.86019\tvalidation_0-logloss:0.26338\n",
      "[400]\tvalidation_0-auc:0.86008\tvalidation_0-logloss:0.26324\n",
      "Stopping. Best iteration:\n",
      "[368]\tvalidation_0-auc:0.86015\tvalidation_0-logloss:0.26323\n",
      "\n",
      "XGB Val OOF AUC= 0.8601445296649783\n",
      "####################################################################################################\n",
      "[0.00148196 0.00868576 0.00217506 0.00129205 0.47589406 0.00890834\n",
      " 0.42072144 0.00136369 0.00747729 0.0011678  0.00357578 0.01292557\n",
      " 0.00098797 0.01639619 0.00140151 0.00162254 0.0113778  0.00150498\n",
      " 0.00186702 0.00118309 0.00127219 0.01166584 0.00198332 0.00188473\n",
      " 0.001184  ]\n"
     ]
    },
    {
     "data": {
      "image/png": "[encoded data removed]",
      "text/plain": [
       "<Figure size 1080x1080 with 1 Axes>"
      ]
     },
     "metadata": {},
     "output_type": "display_data"
    },
    {
     "name": "stdout",
     "output_type": "stream",
     "text": [
      "Fold 1\n",
      " rows of train = 251266 rows of holdout = 129441\n",
      "[0]\tvalidation_0-auc:0.73031\tvalidation_0-logloss:0.66942\n",
      "Multiple eval metrics have been passed: 'validation_0-logloss' will be used for early stopping.\n",
      "\n",
      "Will train until validation_0-logloss hasn't improved in 50 rounds.\n",
      "[100]\tvalidation_0-auc:0.85650\tvalidation_0-logloss:0.27690\n",
      "[200]\tvalidation_0-auc:0.85949\tvalidation_0-logloss:0.26507\n",
      "[300]\tvalidation_0-auc:0.85970\tvalidation_0-logloss:0.26376\n",
      "[400]\tvalidation_0-auc:0.85966\tvalidation_0-logloss:0.26358\n",
      "Stopping. Best iteration:\n",
      "[368]\tvalidation_0-auc:0.85970\tvalidation_0-logloss:0.26357\n",
      "\n",
      "XGB Val OOF AUC= 0.8596979724157179\n",
      "####################################################################################################\n",
      "Fold 2\n",
      " rows of train = 251266 rows of holdout = 129441\n",
      "[0]\tvalidation_0-auc:0.72789\tvalidation_0-logloss:0.66949\n",
      "Multiple eval metrics have been passed: 'validation_0-logloss' will be used for early stopping.\n",
      "\n",
      "Will train until validation_0-logloss hasn't improved in 50 rounds.\n",
      "[100]\tvalidation_0-auc:0.85562\tvalidation_0-logloss:0.27744\n",
      "[200]\tvalidation_0-auc:0.85866\tvalidation_0-logloss:0.26572\n",
      "[300]\tvalidation_0-auc:0.85885\tvalidation_0-logloss:0.26448\n",
      "[400]\tvalidation_0-auc:0.85872\tvalidation_0-logloss:0.26438\n",
      "Stopping. Best iteration:\n",
      "[371]\tvalidation_0-auc:0.85878\tvalidation_0-logloss:0.26436\n",
      "\n",
      "XGB Val OOF AUC= 0.8587817035925276\n",
      "####################################################################################################\n",
      "Fold 3\n",
      " rows of train = 251266 rows of holdout = 129441\n",
      "[0]\tvalidation_0-auc:0.72874\tvalidation_0-logloss:0.66948\n",
      "Multiple eval metrics have been passed: 'validation_0-logloss' will be used for early stopping.\n",
      "\n",
      "Will train until validation_0-logloss hasn't improved in 50 rounds.\n",
      "[100]\tvalidation_0-auc:0.85515\tvalidation_0-logloss:0.27747\n",
      "[200]\tvalidation_0-auc:0.85819\tvalidation_0-logloss:0.26582\n",
      "[300]\tvalidation_0-auc:0.85849\tvalidation_0-logloss:0.26455\n",
      "[400]\tvalidation_0-auc:0.85832\tvalidation_0-logloss:0.26450\n",
      "Stopping. Best iteration:\n",
      "[369]\tvalidation_0-auc:0.85845\tvalidation_0-logloss:0.26444\n",
      "\n",
      "XGB Val OOF AUC= 0.8584552610163505\n",
      "####################################################################################################\n",
      "Fold 4\n",
      " rows of train = 251266 rows of holdout = 129441\n",
      "[0]\tvalidation_0-auc:0.72827\tvalidation_0-logloss:0.66947\n",
      "Multiple eval metrics have been passed: 'validation_0-logloss' will be used for early stopping.\n",
      "\n",
      "Will train until validation_0-logloss hasn't improved in 50 rounds.\n",
      "[100]\tvalidation_0-auc:0.85400\tvalidation_0-logloss:0.27789\n",
      "[200]\tvalidation_0-auc:0.85711\tvalidation_0-logloss:0.26621\n",
      "[300]\tvalidation_0-auc:0.85723\tvalidation_0-logloss:0.26502\n",
      "[400]\tvalidation_0-auc:0.85721\tvalidation_0-logloss:0.26490\n",
      "Stopping. Best iteration:\n",
      "[389]\tvalidation_0-auc:0.85723\tvalidation_0-logloss:0.26488\n",
      "\n",
      "XGB Val OOF AUC= 0.8572271705513874\n",
      "####################################################################################################\n",
      "\n",
      "Log Loss Stats 0.26410,0.00060\n",
      "0.858861 (0.001019)\n",
      "CPU times: user 18min 34s, sys: 7.49 s, total: 18min 42s\n",
      "Wall time: 4min 50s\n"
     ]
    }
   ],
   "source": [
    "%%time\n",
    "\n",
    "##XGBM\n",
    "\n",
    "probs_xgb = np.zeros(shape=(len(test_df),))\n",
    "\n",
    "scores = []\n",
    "\n",
    "avg_loss = []\n",
    "\n",
    "X_train_cv,y_train_cv = train_df.copy(), target.copy()\n",
    "\n",
    "seeds = [1]\n",
    "\n",
    "for seed in tnrange(len(seeds)):\n",
    "    \n",
    "    print(' ')\n",
    "    \n",
    "    print('#'*100)\n",
    "    \n",
    "    print('Seed',seeds[seed])\n",
    "    \n",
    "    sssf = StratifiedShuffleSplit(n_splits=5, test_size = test_size ,random_state=seed)\n",
    "    \n",
    "    for i, (idxT, idxV) in enumerate(sssf.split(X_train_cv, y_train_cv)):\n",
    "\n",
    "        print('Fold',i)\n",
    "\n",
    "        print(' rows of train =',len(idxT),'rows of holdout =',len(idxV))\n",
    "\n",
    "        clf = xgb.XGBClassifier(n_estimators=1000,\n",
    "                                max_depth=6,\n",
    "                                learning_rate=0.04,\n",
    "                                subsample=0.9,\n",
    "                                colsample_bytree=0.35,\n",
    "                                objective = 'binary:logistic',\n",
    "                                random_state = 1\n",
    "                               )        \n",
    "\n",
    "\n",
    "        h = clf.fit(X_train_cv.iloc[idxT], y_train_cv.iloc[idxT], \n",
    "                    eval_set=[(X_train_cv.iloc[idxV],y_train_cv.iloc[idxV])],\n",
    "                    verbose=100,eval_metric=['auc','logloss'],\n",
    "                    early_stopping_rounds=50)\n",
    "        \n",
    "        probs_oof = clf.predict_proba(X_train_cv.iloc[idxV])[:,1]\n",
    "        \n",
    "        probs_xgb +=clf.predict_proba(test_df)[:,1]\n",
    "\n",
    "        roc = roc_auc_score(y_train_cv.iloc[idxV],probs_oof)\n",
    "\n",
    "        scores.append(roc)\n",
    "        \n",
    "        avg_loss.append(clf.best_score)\n",
    "\n",
    "        print ('XGB Val OOF AUC=',roc)\n",
    "\n",
    "        print('#'*100)\n",
    "\n",
    "        if i==0:\n",
    "            \n",
    "            feature_importance(clf,X_train_cv)\n",
    "            \n",
    "print(\"Log Loss Stats {0:.5f},{1:.5f}\".format(np.array(avg_loss).mean(), np.array(avg_loss).std()))\n",
    "\n",
    "print('%.6f (%.6f)' % (np.array(scores).mean(), np.array(scores).std()))"
   ]
  },
  {
   "cell_type": "markdown",
   "metadata": {
    "papermill": {
     "duration": 0.106975,
     "end_time": "2020-09-20T16:47:44.737787",
     "exception": false,
     "start_time": "2020-09-20T16:47:44.630812",
     "status": "completed"
    },
    "tags": []
   },
   "source": [
    "# CV CatBoost"
   ]
  },
  {
   "cell_type": "code",
   "execution_count": 40,
   "metadata": {
    "execution": {
     "iopub.execute_input": "2020-09-20T16:47:44.966094Z",
     "iopub.status.busy": "2020-09-20T16:47:44.964607Z",
     "iopub.status.idle": "2020-09-20T17:21:45.703921Z",
     "shell.execute_reply": "2020-09-20T17:21:45.702937Z"
    },
    "papermill": {
     "duration": 2040.860974,
     "end_time": "2020-09-20T17:21:45.704203",
     "exception": false,
     "start_time": "2020-09-20T16:47:44.843229",
     "status": "completed"
    },
    "tags": []
   },
   "outputs": [
    {
     "data": {
      "application/vnd.jupyter.widget-view+json": {
       "model_id": "7c2a171c97a741d1a579b4173ed79a2a",
       "version_major": 2,
       "version_minor": 0
      },
      "text/plain": [
       "HBox(children=(FloatProgress(value=0.0, max=1.0), HTML(value='')))"
      ]
     },
     "metadata": {},
     "output_type": "display_data"
    },
    {
     "name": "stdout",
     "output_type": "stream",
     "text": [
      " \n",
      "####################################################################################################\n",
      "Seed 1\n",
      "Fold 0\n",
      " rows of train = 251266 rows of holdout = 129441\n",
      "0:\tlearn: 0.6546901\ttest: 0.6547381\tbest: 0.6547381 (0)\ttotal: 547ms\tremaining: 1h 31m 7s\n",
      "100:\tlearn: 0.2667418\ttest: 0.2666153\tbest: 0.2666153 (100)\ttotal: 41.1s\tremaining: 1h 7m 12s\n",
      "200:\tlearn: 0.2633722\ttest: 0.2638318\tbest: 0.2638318 (200)\ttotal: 1m 22s\tremaining: 1h 7m 7s\n",
      "300:\tlearn: 0.2621079\ttest: 0.2634245\tbest: 0.2634236 (299)\ttotal: 2m 6s\tremaining: 1h 7m 55s\n",
      "400:\tlearn: 0.2610910\ttest: 0.2632855\tbest: 0.2632855 (400)\ttotal: 2m 51s\tremaining: 1h 8m 34s\n",
      "500:\tlearn: 0.2601945\ttest: 0.2631967\tbest: 0.2631967 (500)\ttotal: 3m 41s\tremaining: 1h 10m 6s\n",
      "600:\tlearn: 0.2593548\ttest: 0.2631223\tbest: 0.2631223 (600)\ttotal: 4m 28s\tremaining: 1h 10m 6s\n",
      "700:\tlearn: 0.2585418\ttest: 0.2630640\tbest: 0.2630622 (692)\ttotal: 5m 16s\tremaining: 1h 9m 56s\n",
      "800:\tlearn: 0.2577751\ttest: 0.2630421\tbest: 0.2630421 (800)\ttotal: 6m 4s\tremaining: 1h 9m 45s\n",
      "900:\tlearn: 0.2570595\ttest: 0.2630294\tbest: 0.2630287 (854)\ttotal: 6m 53s\tremaining: 1h 9m 39s\n",
      "Stopped by overfitting detector  (50 iterations wait)\n",
      "\n",
      "bestTest = 0.263023856\n",
      "bestIteration = 944\n",
      "\n",
      "Shrink model to first 945 iterations.\n",
      "CatBoost Val OOF AUC= 0.8605047620676833\n",
      "[ 0.69824178  9.51936168  0.06362803  1.3238439  39.50996799  1.1761497\n",
      " 12.76056177  0.98455187  4.60419638  1.57848335  2.43425384  1.1165705\n",
      "  1.27424798  3.60162805  1.77969333  0.82992639  0.14983754  0.67623517\n",
      "  1.64993506  1.74386343  1.35272692  4.20686698  2.9100695   1.89675387\n",
      "  2.158405  ]\n"
     ]
    },
    {
     "data": {
      "image/png": "[encoded data removed]",
      "text/plain": [
       "<Figure size 1080x1080 with 1 Axes>"
      ]
     },
     "metadata": {},
     "output_type": "display_data"
    },
    {
     "name": "stdout",
     "output_type": "stream",
     "text": [
      "####################################################################################################\n",
      "Fold 1\n",
      " rows of train = 251266 rows of holdout = 129441\n",
      "0:\tlearn: 0.6534561\ttest: 0.6535466\tbest: 0.6535466 (0)\ttotal: 491ms\tremaining: 1h 21m 48s\n",
      "100:\tlearn: 0.2665255\ttest: 0.2668225\tbest: 0.2668225 (100)\ttotal: 40.4s\tremaining: 1h 5m 55s\n",
      "200:\tlearn: 0.2632253\ttest: 0.2641938\tbest: 0.2641938 (200)\ttotal: 1m 24s\tremaining: 1h 8m 23s\n",
      "300:\tlearn: 0.2619371\ttest: 0.2638014\tbest: 0.2638014 (300)\ttotal: 2m 9s\tremaining: 1h 9m 35s\n",
      "400:\tlearn: 0.2609366\ttest: 0.2636791\tbest: 0.2636791 (400)\ttotal: 2m 58s\tremaining: 1h 11m 6s\n",
      "500:\tlearn: 0.2600571\ttest: 0.2635808\tbest: 0.2635808 (500)\ttotal: 3m 46s\tremaining: 1h 11m 27s\n",
      "600:\tlearn: 0.2592736\ttest: 0.2635331\tbest: 0.2635331 (600)\ttotal: 4m 34s\tremaining: 1h 11m 29s\n",
      "700:\tlearn: 0.2585227\ttest: 0.2635153\tbest: 0.2635153 (700)\ttotal: 5m 22s\tremaining: 1h 11m 22s\n",
      "800:\tlearn: 0.2577976\ttest: 0.2634876\tbest: 0.2634856 (782)\ttotal: 6m 14s\tremaining: 1h 11m 38s\n",
      "Stopped by overfitting detector  (50 iterations wait)\n",
      "\n",
      "bestTest = 0.2634694893\n",
      "bestIteration = 849\n",
      "\n",
      "Shrink model to first 850 iterations.\n",
      "CatBoost Val OOF AUC= 0.8599421680363672\n",
      "####################################################################################################\n",
      "Fold 2\n",
      " rows of train = 251266 rows of holdout = 129441\n",
      "0:\tlearn: 0.6537171\ttest: 0.6538544\tbest: 0.6538544 (0)\ttotal: 445ms\tremaining: 1h 14m 7s\n",
      "100:\tlearn: 0.2661834\ttest: 0.2675665\tbest: 0.2675665 (100)\ttotal: 41s\tremaining: 1h 7m\n",
      "200:\tlearn: 0.2627705\ttest: 0.2650050\tbest: 0.2650050 (200)\ttotal: 1m 24s\tremaining: 1h 8m 20s\n",
      "300:\tlearn: 0.2614710\ttest: 0.2646339\tbest: 0.2646339 (300)\ttotal: 2m 10s\tremaining: 1h 10m 18s\n",
      "400:\tlearn: 0.2604604\ttest: 0.2644687\tbest: 0.2644687 (400)\ttotal: 2m 58s\tremaining: 1h 11m 10s\n",
      "500:\tlearn: 0.2595544\ttest: 0.2644007\tbest: 0.2643995 (496)\ttotal: 3m 46s\tremaining: 1h 11m 31s\n",
      "600:\tlearn: 0.2587323\ttest: 0.2643647\tbest: 0.2643641 (598)\ttotal: 4m 34s\tremaining: 1h 11m 29s\n",
      "700:\tlearn: 0.2578947\ttest: 0.2643443\tbest: 0.2643416 (658)\ttotal: 5m 21s\tremaining: 1h 11m 9s\n",
      "Stopped by overfitting detector  (50 iterations wait)\n",
      "\n",
      "bestTest = 0.2643416323\n",
      "bestIteration = 658\n",
      "\n",
      "Shrink model to first 659 iterations.\n",
      "CatBoost Val OOF AUC= 0.8588228639981533\n",
      "####################################################################################################\n",
      "Fold 3\n",
      " rows of train = 251266 rows of holdout = 129441\n",
      "0:\tlearn: 0.6530034\ttest: 0.6531134\tbest: 0.6531134 (0)\ttotal: 473ms\tremaining: 1h 18m 45s\n",
      "100:\tlearn: 0.2660191\ttest: 0.2673138\tbest: 0.2673138 (100)\ttotal: 41.4s\tremaining: 1h 7m 41s\n",
      "200:\tlearn: 0.2626945\ttest: 0.2647734\tbest: 0.2647734 (200)\ttotal: 1m 25s\tremaining: 1h 9m 9s\n",
      "300:\tlearn: 0.2614046\ttest: 0.2644545\tbest: 0.2644545 (300)\ttotal: 2m 11s\tremaining: 1h 10m 26s\n",
      "400:\tlearn: 0.2604035\ttest: 0.2643190\tbest: 0.2643190 (400)\ttotal: 3m 2s\tremaining: 1h 12m 42s\n",
      "500:\tlearn: 0.2595291\ttest: 0.2642431\tbest: 0.2642420 (497)\ttotal: 3m 49s\tremaining: 1h 12m 34s\n",
      "600:\tlearn: 0.2587365\ttest: 0.2642121\tbest: 0.2642084 (595)\ttotal: 4m 37s\tremaining: 1h 12m 15s\n",
      "700:\tlearn: 0.2579325\ttest: 0.2641975\tbest: 0.2641965 (698)\ttotal: 5m 26s\tremaining: 1h 12m 10s\n",
      "800:\tlearn: 0.2572138\ttest: 0.2641776\tbest: 0.2641723 (778)\ttotal: 6m 15s\tremaining: 1h 11m 52s\n",
      "900:\tlearn: 0.2565205\ttest: 0.2641602\tbest: 0.2641589 (894)\ttotal: 7m 5s\tremaining: 1h 11m 38s\n",
      "Stopped by overfitting detector  (50 iterations wait)\n",
      "\n",
      "bestTest = 0.2641589109\n",
      "bestIteration = 894\n",
      "\n",
      "Shrink model to first 895 iterations.\n",
      "CatBoost Val OOF AUC= 0.8587978655016171\n",
      "####################################################################################################\n",
      "Fold 4\n",
      " rows of train = 251266 rows of holdout = 129441\n",
      "0:\tlearn: 0.6536443\ttest: 0.6537883\tbest: 0.6537883 (0)\ttotal: 432ms\tremaining: 1h 12m 2s\n",
      "100:\tlearn: 0.2659286\ttest: 0.2678870\tbest: 0.2678870 (100)\ttotal: 41.9s\tremaining: 1h 8m 28s\n",
      "200:\tlearn: 0.2626101\ttest: 0.2652713\tbest: 0.2652713 (200)\ttotal: 1m 25s\tremaining: 1h 9m 51s\n",
      "300:\tlearn: 0.2613275\ttest: 0.2649013\tbest: 0.2649013 (300)\ttotal: 2m 9s\tremaining: 1h 9m 41s\n",
      "400:\tlearn: 0.2603517\ttest: 0.2647731\tbest: 0.2647726 (398)\ttotal: 2m 54s\tremaining: 1h 9m 46s\n",
      "500:\tlearn: 0.2595872\ttest: 0.2647293\tbest: 0.2647286 (494)\ttotal: 3m 41s\tremaining: 1h 10m 8s\n",
      "600:\tlearn: 0.2588001\ttest: 0.2646818\tbest: 0.2646814 (599)\ttotal: 4m 29s\tremaining: 1h 10m 11s\n",
      "700:\tlearn: 0.2580885\ttest: 0.2646581\tbest: 0.2646560 (663)\ttotal: 5m 18s\tremaining: 1h 10m 22s\n",
      "Stopped by overfitting detector  (50 iterations wait)\n",
      "\n",
      "bestTest = 0.264655967\n",
      "bestIteration = 663\n",
      "\n",
      "Shrink model to first 664 iterations.\n",
      "CatBoost Val OOF AUC= 0.8576505193336241\n",
      "####################################################################################################\n",
      "\n",
      "Log Loss Stats 0.26392997,0.00059700\n",
      "0.85914364 (0.00099420)\n",
      "CPU times: user 1h 50min 32s, sys: 7min 39s, total: 1h 58min 12s\n",
      "Wall time: 34min\n"
     ]
    }
   ],
   "source": [
    "%%time\n",
    "\n",
    "##CatBoost\n",
    "\n",
    "cat_features = ['Driving_License','Gender','Region_Code','Previously_Insured','Vehicle_Damage',\n",
    "                'Policy_Sales_Channel','Policy_Region','Vehicle_Age','Vintage','Annual_Premium',\n",
    "                'Vehicle_Age_License','Premium_Bins']\n",
    "\n",
    "cont_features = ['Age','Age_Bins']\n",
    "\n",
    "probs_cb = np.zeros(shape=(len(test_df),))\n",
    "\n",
    "scores = []\n",
    "\n",
    "avg_loss = []\n",
    "\n",
    "X_train_cv,y_train_cv = train_df.copy(), target.copy()\n",
    "\n",
    "seeds = [1]\n",
    "\n",
    "for seed in tnrange(len(seeds)):\n",
    "    \n",
    "    print(' ')\n",
    "    \n",
    "    print('#'*100)\n",
    "    \n",
    "    print('Seed',seeds[seed])\n",
    "    \n",
    "    sssf = StratifiedShuffleSplit(n_splits=5, test_size = test_size ,random_state=seed)\n",
    "    \n",
    "    for i, (idxT, idxV) in enumerate(sssf.split(X_train_cv, y_train_cv)):\n",
    "\n",
    "        print('Fold',i)\n",
    "\n",
    "        print(' rows of train =',len(idxT),'rows of holdout =',len(idxV))\n",
    "\n",
    "        clf = CatBoostClassifier(iterations=10000,\n",
    "                                learning_rate=0.02,\n",
    "                                random_strength=0.1,\n",
    "                                depth=8,\n",
    "                                loss_function='Logloss',\n",
    "                                eval_metric='Logloss',\n",
    "                                leaf_estimation_method='Newton',\n",
    "                                random_state = 1,\n",
    "                                cat_features =cat_features,\n",
    "                                subsample = 0.9,\n",
    "                                rsm = 0.8\n",
    "                                )    \n",
    "\n",
    "        h = clf.fit(X_train_cv.iloc[idxT], y_train_cv.iloc[idxT],\n",
    "                    eval_set=[(X_train_cv.iloc[idxV],y_train_cv.iloc[idxV])],\n",
    "                   early_stopping_rounds=50,verbose = 100)\n",
    "\n",
    "        probs_oof = clf.predict_proba(X_train_cv.iloc[idxV])[:,1]\n",
    "        \n",
    "        probs_cb +=clf.predict_proba(test_df)[:,1]\n",
    "        \n",
    "        roc = roc_auc_score(y_train_cv.iloc[idxV],probs_oof)\n",
    "\n",
    "        scores.append(roc)\n",
    "\n",
    "        print ('CatBoost Val OOF AUC=',roc)\n",
    "\n",
    "        avg_loss.append(clf.best_score_['validation']['Logloss'])\n",
    "\n",
    "        if i==0:\n",
    "            \n",
    "            feature_importance(clf,X_train_cv)\n",
    "\n",
    "        print('#'*100)\n",
    "\n",
    "print(\"Log Loss Stats {0:.8f},{1:.8f}\".format(np.array(avg_loss).mean(), np.array(avg_loss).std()))\n",
    "\n",
    "print('%.8f (%.8f)' % (np.array(scores).mean(), np.array(scores).std()))"
   ]
  },
  {
   "cell_type": "markdown",
   "metadata": {
    "papermill": {
     "duration": 0.131181,
     "end_time": "2020-09-20T17:21:45.976291",
     "exception": false,
     "start_time": "2020-09-20T17:21:45.845110",
     "status": "completed"
    },
    "tags": []
   },
   "source": [
    "## CV FastAI--->Poor Performance"
   ]
  },
  {
   "cell_type": "code",
   "execution_count": 41,
   "metadata": {
    "execution": {
     "iopub.execute_input": "2020-09-20T17:21:46.308183Z",
     "iopub.status.busy": "2020-09-20T17:21:46.307477Z",
     "iopub.status.idle": "2020-09-20T17:21:46.312174Z",
     "shell.execute_reply": "2020-09-20T17:21:46.312754Z"
    },
    "papermill": {
     "duration": 0.138468,
     "end_time": "2020-09-20T17:21:46.312973",
     "exception": false,
     "start_time": "2020-09-20T17:21:46.174505",
     "status": "completed"
    },
    "tags": []
   },
   "outputs": [],
   "source": [
    "#!pip uninstall -q fastai -y\n",
    "\n",
    "#!pip install -q /kaggle/input/fast-v2-offline/dataclasses-0.6-py3-none-any.whl\n",
    "\n",
    "#!pip install -q /kaggle/input/fast-v2-offline/torch-1.6.0-cp37-cp37m-manylinux1_x86_64.whl\n",
    "\n",
    "#!pip install -q /kaggle/input/fast-v2-offline/torchvision-0.7.0-cp37-cp37m-manylinux1_x86_64.whl\n",
    "\n",
    "#!pip install -q /kaggle/input/fast-v2-offline/fastcore-1.0.1-py3-none-any.whl\n",
    "\n",
    "#!pip install -q /kaggle/input/fast-v2-offline/fastai-2.0.8-py3-none-any.whl\n",
    "\n",
    "#import fastai\n",
    "\n",
    "#print('fastai version :', fastai.__version__)\n",
    "\n",
    "#from fastai import *\n",
    "\n",
    "#from fastai.layers import *\n",
    "\n",
    "#from fastai.tabular.all import *\n",
    "\n",
    "#import torch.nn.functional as F\n",
    "\n",
    "#import torch\n",
    "\n",
    "#import torch.nn as nn\n",
    "\n",
    "#import torch.optim as optim\n",
    "\n",
    "#from torch.utils.data import Dataset, DataLoader"
   ]
  },
  {
   "cell_type": "code",
   "execution_count": 42,
   "metadata": {
    "execution": {
     "iopub.execute_input": "2020-09-20T17:21:46.577753Z",
     "iopub.status.busy": "2020-09-20T17:21:46.576721Z",
     "iopub.status.idle": "2020-09-20T17:21:46.583219Z",
     "shell.execute_reply": "2020-09-20T17:21:46.583742Z"
    },
    "papermill": {
     "duration": 0.139744,
     "end_time": "2020-09-20T17:21:46.583882",
     "exception": false,
     "start_time": "2020-09-20T17:21:46.444138",
     "status": "completed"
    },
    "tags": []
   },
   "outputs": [
    {
     "data": {
      "text/plain": [
       "'\\ndef categorical_features(df,cat_features,uuid_col):\\n    \\n    cat_features_subdf = []\\n    \\n    for col in df.columns:\\n        \\n        if col in cat_features:\\n            \\n            cat_features_subdf.append(col)\\n            \\n    return cat_features_subdf\\n\\n\\ndef continuous_features(df,uuid_col,cat_features_subdf):\\n    \\n    cont_features_subdf = []\\n    \\n    for col in df.columns:\\n        \\n        if col not in cat_features_subdf:\\n            \\n            cont_features_subdf.append(col)\\n            \\n    return cont_features_subdf\\n    \\n'"
      ]
     },
     "execution_count": 42,
     "metadata": {},
     "output_type": "execute_result"
    }
   ],
   "source": [
    "\"\"\"\n",
    "def categorical_features(df,cat_features,uuid_col):\n",
    "    \n",
    "    cat_features_subdf = []\n",
    "    \n",
    "    for col in df.columns:\n",
    "        \n",
    "        if col in cat_features:\n",
    "            \n",
    "            cat_features_subdf.append(col)\n",
    "            \n",
    "    return cat_features_subdf\n",
    "\n",
    "\n",
    "def continuous_features(df,uuid_col,cat_features_subdf):\n",
    "    \n",
    "    cont_features_subdf = []\n",
    "    \n",
    "    for col in df.columns:\n",
    "        \n",
    "        if col not in cat_features_subdf:\n",
    "            \n",
    "            cont_features_subdf.append(col)\n",
    "            \n",
    "    return cont_features_subdf\n",
    "    \n",
    "\"\"\""
   ]
  },
  {
   "cell_type": "code",
   "execution_count": 43,
   "metadata": {
    "execution": {
     "iopub.execute_input": "2020-09-20T17:21:46.847135Z",
     "iopub.status.busy": "2020-09-20T17:21:46.846108Z",
     "iopub.status.idle": "2020-09-20T17:21:46.852485Z",
     "shell.execute_reply": "2020-09-20T17:21:46.853043Z"
    },
    "papermill": {
     "duration": 0.140718,
     "end_time": "2020-09-20T17:21:46.853196",
     "exception": false,
     "start_time": "2020-09-20T17:21:46.712478",
     "status": "completed"
    },
    "tags": []
   },
   "outputs": [
    {
     "data": {
      "text/plain": [
       "'\"\\nclass FocalLoss(nn.Module):\\n    \\n    def __init__(self, alpha=4, gamma=2, logits=False, reduction = \\'mean\\'):\\n        \\n        super(FocalLoss, self).__init__()\\n       \\n        self.alpha = alpha\\n        \\n        self.gamma = gamma\\n        \\n        self.logits = logits\\n        \\n        self.reduction = reduction\\n\\n    def forward(self, inputs, targets):\\n\\n        targets =targets.type_as(inputs)\\n        \\n        if self.logits:\\n            \\n            BCE_loss = F.binary_cross_entropy_with_logits(inputs, targets, reduction=\\'none\\')\\n        \\n        else:\\n            \\n            BCE_loss = F.binary_cross_entropy(inputs, targets, reduction=\\'none\\')\\n        \\n        pt = torch.exp(-BCE_loss)\\n        \\n        F_loss = self.alpha * (1-pt)**self.gamma * BCE_loss\\n\\n        if self.reduction is None:\\n            \\n            return F_loss\\n        \\n        else:\\n            \\n            return torch.mean(F_loss)\\n            \\n'"
      ]
     },
     "execution_count": 43,
     "metadata": {},
     "output_type": "execute_result"
    }
   ],
   "source": [
    "\"\"\"\"\n",
    "class FocalLoss(nn.Module):\n",
    "    \n",
    "    def __init__(self, alpha=4, gamma=2, logits=False, reduction = 'mean'):\n",
    "        \n",
    "        super(FocalLoss, self).__init__()\n",
    "       \n",
    "        self.alpha = alpha\n",
    "        \n",
    "        self.gamma = gamma\n",
    "        \n",
    "        self.logits = logits\n",
    "        \n",
    "        self.reduction = reduction\n",
    "\n",
    "    def forward(self, inputs, targets):\n",
    "\n",
    "        targets =targets.type_as(inputs)\n",
    "        \n",
    "        if self.logits:\n",
    "            \n",
    "            BCE_loss = F.binary_cross_entropy_with_logits(inputs, targets, reduction='none')\n",
    "        \n",
    "        else:\n",
    "            \n",
    "            BCE_loss = F.binary_cross_entropy(inputs, targets, reduction='none')\n",
    "        \n",
    "        pt = torch.exp(-BCE_loss)\n",
    "        \n",
    "        F_loss = self.alpha * (1-pt)**self.gamma * BCE_loss\n",
    "\n",
    "        if self.reduction is None:\n",
    "            \n",
    "            return F_loss\n",
    "        \n",
    "        else:\n",
    "            \n",
    "            return torch.mean(F_loss)\n",
    "            \n",
    "\"\"\""
   ]
  },
  {
   "cell_type": "code",
   "execution_count": 44,
   "metadata": {
    "execution": {
     "iopub.execute_input": "2020-09-20T17:21:47.117475Z",
     "iopub.status.busy": "2020-09-20T17:21:47.116425Z",
     "iopub.status.idle": "2020-09-20T17:21:47.124732Z",
     "shell.execute_reply": "2020-09-20T17:21:47.125270Z"
    },
    "papermill": {
     "duration": 0.143021,
     "end_time": "2020-09-20T17:21:47.125413",
     "exception": false,
     "start_time": "2020-09-20T17:21:46.982392",
     "status": "completed"
    },
    "tags": []
   },
   "outputs": [
    {
     "data": {
      "text/plain": [
       "'\\n%%time\\n\\nscores = []\\n\\navg_loss = []\\n\\ncat_features = [\\'Gender\\',\\'Driving_License\\',\\'Region_Code\\',\\'Previously_Insured\\',\\'Vehicle_Damage\\',\\'Policy_Sales_Channel\\',\\'Policy_Region\\',\\'Vehicle_Age\\',\\'Vintage\\']\\n\\ncont_features = [\\'Age\\',\\'Annual_Premium\\',]\\n\\n#custom sklearn metric\\nroc =  skm_to_fastai(roc_auc_score,axis=0)\\n\\n#np.random.seed(10)\\n\\nprobs = np.zeros(shape=(len(test_df)))\\n\\n#seeds = list(np.random.randint(5,500,1))\\n\\nseeds = [1]\\n\\nfor seed in seeds:\\n    \\n    print(\\' \\')\\n\\n    print(\\'#\\'*100)\\n\\n    print(\\'Seed\\',seed)\\n\\n    df = train_df.copy().sample(frac = 1.0,axis =1,random_state = seed)\\n\\n    cat_features_subdf= categorical_features(df,cat_features,\\'\\')\\n\\n    cont_features_subdf = continuous_features(df,\\'\\',cat_features_subdf)\\n\\n    df = pd.concat([df, target], axis=1)\\n\\n    sssf = StratifiedShuffleSplit(n_splits=1, test_size = 0.35 ,random_state=seed)\\n\\n    procs = [FillMissing,Categorify, Normalize]\\n\\n    for i, (idxT, idxV) in enumerate(sssf.split(train_df, target)):\\n\\n\\n        data = TabularDataLoaders.from_df(df, procs=procs,\\n                                              cont_names=cont_features_subdf, cat_names=cat_features_subdf,\\n                                              y_names=\\'Response\\', valid_idx=idxV, bs=256, val_bs=256)\\n\\n\\n        learn = tabular_learner(data, y_range=(0,1), layers=[256,128,64],loss_func=BCELossFlat(),metrics= [roc])\\n\\n        #learn.lr_find()\\n        \\n        learn.fit_one_cycle(5, 1e-3)\\n            \\n        val_loss, val_roc = learn.validate()\\n            \\n        scores.append(val_roc)\\n\\n        avg_loss.append(val_loss)\\n        \\n        test_dl = learn.dls.test_dl(test_df)\\n        \\n        sub = learn.get_preds(dl=test_dl)\\n        \\n        probs += sub[0].numpy().ravel()\\n            \\n        print(\\'#\\'*100)\\n\\nprint(\"Log Loss Stats {0:.5f},{1:.5f}\".format(np.array(avg_loss).mean(), np.array(avg_loss).std()))\\n\\nprint(\\'%.6f (%.6f)\\' % (np.array(scores).mean(), np.array(scores).std()))\\n\\n'"
      ]
     },
     "execution_count": 44,
     "metadata": {},
     "output_type": "execute_result"
    }
   ],
   "source": [
    "\"\"\"\n",
    "%%time\n",
    "\n",
    "scores = []\n",
    "\n",
    "avg_loss = []\n",
    "\n",
    "cat_features = ['Gender','Driving_License','Region_Code','Previously_Insured','Vehicle_Damage','Policy_Sales_Channel','Policy_Region','Vehicle_Age','Vintage']\n",
    "\n",
    "cont_features = ['Age','Annual_Premium',]\n",
    "\n",
    "#custom sklearn metric\n",
    "roc =  skm_to_fastai(roc_auc_score,axis=0)\n",
    "\n",
    "#np.random.seed(10)\n",
    "\n",
    "probs = np.zeros(shape=(len(test_df)))\n",
    "\n",
    "#seeds = list(np.random.randint(5,500,1))\n",
    "\n",
    "seeds = [1]\n",
    "\n",
    "for seed in seeds:\n",
    "    \n",
    "    print(' ')\n",
    "\n",
    "    print('#'*100)\n",
    "\n",
    "    print('Seed',seed)\n",
    "\n",
    "    df = train_df.copy().sample(frac = 1.0,axis =1,random_state = seed)\n",
    "\n",
    "    cat_features_subdf= categorical_features(df,cat_features,'')\n",
    "\n",
    "    cont_features_subdf = continuous_features(df,'',cat_features_subdf)\n",
    "\n",
    "    df = pd.concat([df, target], axis=1)\n",
    "\n",
    "    sssf = StratifiedShuffleSplit(n_splits=1, test_size = 0.35 ,random_state=seed)\n",
    "\n",
    "    procs = [FillMissing,Categorify, Normalize]\n",
    "\n",
    "    for i, (idxT, idxV) in enumerate(sssf.split(train_df, target)):\n",
    "\n",
    "\n",
    "        data = TabularDataLoaders.from_df(df, procs=procs,\n",
    "                                              cont_names=cont_features_subdf, cat_names=cat_features_subdf,\n",
    "                                              y_names='Response', valid_idx=idxV, bs=256, val_bs=256)\n",
    "\n",
    "\n",
    "        learn = tabular_learner(data, y_range=(0,1), layers=[256,128,64],loss_func=BCELossFlat(),metrics= [roc])\n",
    "\n",
    "        #learn.lr_find()\n",
    "        \n",
    "        learn.fit_one_cycle(5, 1e-3)\n",
    "            \n",
    "        val_loss, val_roc = learn.validate()\n",
    "            \n",
    "        scores.append(val_roc)\n",
    "\n",
    "        avg_loss.append(val_loss)\n",
    "        \n",
    "        test_dl = learn.dls.test_dl(test_df)\n",
    "        \n",
    "        sub = learn.get_preds(dl=test_dl)\n",
    "        \n",
    "        probs += sub[0].numpy().ravel()\n",
    "            \n",
    "        print('#'*100)\n",
    "\n",
    "print(\"Log Loss Stats {0:.5f},{1:.5f}\".format(np.array(avg_loss).mean(), np.array(avg_loss).std()))\n",
    "\n",
    "print('%.6f (%.6f)' % (np.array(scores).mean(), np.array(scores).std()))\n",
    "\n",
    "\"\"\""
   ]
  },
  {
   "cell_type": "markdown",
   "metadata": {
    "papermill": {
     "duration": 0.130255,
     "end_time": "2020-09-20T17:21:47.389763",
     "exception": false,
     "start_time": "2020-09-20T17:21:47.259508",
     "status": "completed"
    },
    "tags": []
   },
   "source": [
    "# Blending"
   ]
  },
  {
   "cell_type": "code",
   "execution_count": 45,
   "metadata": {
    "execution": {
     "iopub.execute_input": "2020-09-20T17:21:47.658115Z",
     "iopub.status.busy": "2020-09-20T17:21:47.657020Z",
     "iopub.status.idle": "2020-09-20T17:21:47.664697Z",
     "shell.execute_reply": "2020-09-20T17:21:47.665401Z"
    },
    "papermill": {
     "duration": 0.145146,
     "end_time": "2020-09-20T17:21:47.665587",
     "exception": false,
     "start_time": "2020-09-20T17:21:47.520441",
     "status": "completed"
    },
    "tags": []
   },
   "outputs": [],
   "source": [
    "p1 =probs_lgb/5\n",
    "\n",
    "p2 = probs_cb/5\n",
    "\n",
    "p3 = probs_xgb/5"
   ]
  },
  {
   "cell_type": "code",
   "execution_count": 46,
   "metadata": {
    "execution": {
     "iopub.execute_input": "2020-09-20T17:21:47.930758Z",
     "iopub.status.busy": "2020-09-20T17:21:47.929715Z",
     "iopub.status.idle": "2020-09-20T17:21:47.979969Z",
     "shell.execute_reply": "2020-09-20T17:21:47.979068Z"
    },
    "papermill": {
     "duration": 0.183584,
     "end_time": "2020-09-20T17:21:47.980332",
     "exception": false,
     "start_time": "2020-09-20T17:21:47.796748",
     "status": "completed"
    },
    "tags": []
   },
   "outputs": [],
   "source": [
    "submission = pd.read_csv('../input/avcrosssell/sample_submission.csv')\n",
    "\n",
    "submission['Response'] =  0.7*p2+0.3*p3"
   ]
  },
  {
   "cell_type": "code",
   "execution_count": 47,
   "metadata": {
    "execution": {
     "iopub.execute_input": "2020-09-20T17:21:48.247439Z",
     "iopub.status.busy": "2020-09-20T17:21:48.246781Z",
     "iopub.status.idle": "2020-09-20T17:21:49.293095Z",
     "shell.execute_reply": "2020-09-20T17:21:49.293586Z"
    },
    "papermill": {
     "duration": 1.182502,
     "end_time": "2020-09-20T17:21:49.293740",
     "exception": false,
     "start_time": "2020-09-20T17:21:48.111238",
     "status": "completed"
    },
    "tags": []
   },
   "outputs": [
    {
     "data": {
      "text/html": [
       "<div>\n",
       "<style scoped>\n",
       "    .dataframe tbody tr th:only-of-type {\n",
       "        vertical-align: middle;\n",
       "    }\n",
       "\n",
       "    .dataframe tbody tr th {\n",
       "        vertical-align: top;\n",
       "    }\n",
       "\n",
       "    .dataframe thead th {\n",
       "        text-align: right;\n",
       "    }\n",
       "</style>\n",
       "<table border=\"1\" class=\"dataframe\">\n",
       "  <thead>\n",
       "    <tr style=\"text-align: right;\">\n",
       "      <th></th>\n",
       "      <th>id</th>\n",
       "      <th>Response</th>\n",
       "    </tr>\n",
       "  </thead>\n",
       "  <tbody>\n",
       "    <tr>\n",
       "      <th>0</th>\n",
       "      <td>381110</td>\n",
       "      <td>0.000563</td>\n",
       "    </tr>\n",
       "    <tr>\n",
       "      <th>1</th>\n",
       "      <td>381111</td>\n",
       "      <td>0.301206</td>\n",
       "    </tr>\n",
       "    <tr>\n",
       "      <th>2</th>\n",
       "      <td>381112</td>\n",
       "      <td>0.292928</td>\n",
       "    </tr>\n",
       "    <tr>\n",
       "      <th>3</th>\n",
       "      <td>381113</td>\n",
       "      <td>0.007399</td>\n",
       "    </tr>\n",
       "    <tr>\n",
       "      <th>4</th>\n",
       "      <td>381114</td>\n",
       "      <td>0.000371</td>\n",
       "    </tr>\n",
       "  </tbody>\n",
       "</table>\n",
       "</div>"
      ],
      "text/plain": [
       "       id  Response\n",
       "0  381110  0.000563\n",
       "1  381111  0.301206\n",
       "2  381112  0.292928\n",
       "3  381113  0.007399\n",
       "4  381114  0.000371"
      ]
     },
     "execution_count": 47,
     "metadata": {},
     "output_type": "execute_result"
    }
   ],
   "source": [
    "submission.to_csv('submission.csv',index =False)\n",
    "\n",
    "submission.head()"
   ]
  },
  {
   "cell_type": "code",
   "execution_count": 48,
   "metadata": {
    "execution": {
     "iopub.execute_input": "2020-09-20T17:21:49.566305Z",
     "iopub.status.busy": "2020-09-20T17:21:49.565169Z",
     "iopub.status.idle": "2020-09-20T17:21:49.578409Z",
     "shell.execute_reply": "2020-09-20T17:21:49.577690Z"
    },
    "papermill": {
     "duration": 0.152874,
     "end_time": "2020-09-20T17:21:49.578525",
     "exception": false,
     "start_time": "2020-09-20T17:21:49.425651",
     "status": "completed"
    },
    "tags": []
   },
   "outputs": [],
   "source": [
    "np.save('lgb.npy',p1)\n",
    "np.save('cb.npy',p2)\n",
    "np.save('xgb.npy',p3)"
   ]
  },
  {
   "cell_type": "code",
   "execution_count": null,
   "metadata": {
    "papermill": {
     "duration": 0.130945,
     "end_time": "2020-09-20T17:21:49.840695",
     "exception": false,
     "start_time": "2020-09-20T17:21:49.709750",
     "status": "completed"
    },
    "tags": []
   },
   "outputs": [],
   "source": []
  }
 ],
 "metadata": {
  "kernelspec": {
   "display_name": "Python 3",
   "language": "python",
   "name": "python3"
  },
  "language_info": {
   "codemirror_mode": {
    "name": "ipython",
    "version": 3
   },
   "file_extension": ".py",
   "mimetype": "text/x-python",
   "name": "python",
   "nbconvert_exporter": "python",
   "pygments_lexer": "ipython3",
   "version": "3.7.6"
  },
  "papermill": {
   "duration": 2470.690085,
   "end_time": "2020-09-20T17:21:50.081932",
   "environment_variables": {},
   "exception": null,
   "input_path": "__notebook__.ipynb",
   "output_path": "__notebook__.ipynb",
   "parameters": {},
   "start_time": "2020-09-20T16:40:39.391847",
   "version": "2.1.0"
  },
  "widgets": {
   "application/vnd.jupyter.widget-state+json": {
    "state": {
     "016a498159f94b5a817df4a46bf41392": {
      "model_module": "@jupyter-widgets/base",
      "model_module_version": "1.2.0",
      "model_name": "LayoutModel",
      "state": {
       "_model_module": "@jupyter-widgets/base",
       "_model_module_version": "1.2.0",
       "_model_name": "LayoutModel",
       "_view_count": null,
       "_view_module": "@jupyter-widgets/base",
       "_view_module_version": "1.2.0",
       "_view_name": "LayoutView",
       "align_content": null,
       "align_items": null,
       "align_self": null,
       "border": null,
       "bottom": null,
       "display": null,
       "flex": null,
       "flex_flow": null,
       "grid_area": null,
       "grid_auto_columns": null,
       "grid_auto_flow": null,
       "grid_auto_rows": null,
       "grid_column": null,
       "grid_gap": null,
       "grid_row": null,
       "grid_template_areas": null,
       "grid_template_columns": null,
       "grid_template_rows": null,
       "height": null,
       "justify_content": null,
       "justify_items": null,
       "left": null,
       "margin": null,
       "max_height": null,
       "max_width": null,
       "min_height": null,
       "min_width": null,
       "object_fit": null,
       "object_position": null,
       "order": null,
       "overflow": null,
       "overflow_x": null,
       "overflow_y": null,
       "padding": null,
       "right": null,
       "top": null,
       "visibility": null,
       "width": null
      }
     },
     "0efc5b8fe10d4a4aa3d912b223c34ced": {
      "model_module": "@jupyter-widgets/controls",
      "model_module_version": "1.5.0",
      "model_name": "FloatProgressModel",
      "state": {
       "_dom_classes": [],
       "_model_module": "@jupyter-widgets/controls",
       "_model_module_version": "1.5.0",
       "_model_name": "FloatProgressModel",
       "_view_count": null,
       "_view_module": "@jupyter-widgets/controls",
       "_view_module_version": "1.5.0",
       "_view_name": "ProgressView",
       "bar_style": "success",
       "description": "100%",
       "description_tooltip": null,
       "layout": "IPY_MODEL_016a498159f94b5a817df4a46bf41392",
       "max": 1.0,
       "min": 0.0,
       "orientation": "horizontal",
       "style": "IPY_MODEL_d58c742c124f4dbc875411b9edaa8383",
       "value": 1.0
      }
     },
     "196e83b254764b5a828870cfc1e66c90": {
      "model_module": "@jupyter-widgets/controls",
      "model_module_version": "1.5.0",
      "model_name": "HTMLModel",
      "state": {
       "_dom_classes": [],
       "_model_module": "@jupyter-widgets/controls",
       "_model_module_version": "1.5.0",
       "_model_name": "HTMLModel",
       "_view_count": null,
       "_view_module": "@jupyter-widgets/controls",
       "_view_module_version": "1.5.0",
       "_view_name": "HTMLView",
       "description": "",
       "description_tooltip": null,
       "layout": "IPY_MODEL_61b2b4e1cef54e8b905f6a8d34f82e88",
       "placeholder": "​",
       "style": "IPY_MODEL_8cfeb1ce4e78499a9e0ca589cad22a48",
       "value": " 1/1 [38:54&lt;00:00, 2334.76s/it]"
      }
     },
     "322ef91cb5594c359beeb7d0038df41a": {
      "model_module": "@jupyter-widgets/base",
      "model_module_version": "1.2.0",
      "model_name": "LayoutModel",
      "state": {
       "_model_module": "@jupyter-widgets/base",
       "_model_module_version": "1.2.0",
       "_model_name": "LayoutModel",
       "_view_count": null,
       "_view_module": "@jupyter-widgets/base",
       "_view_module_version": "1.2.0",
       "_view_name": "LayoutView",
       "align_content": null,
       "align_items": null,
       "align_self": null,
       "border": null,
       "bottom": null,
       "display": null,
       "flex": null,
       "flex_flow": null,
       "grid_area": null,
       "grid_auto_columns": null,
       "grid_auto_flow": null,
       "grid_auto_rows": null,
       "grid_column": null,
       "grid_gap": null,
       "grid_row": null,
       "grid_template_areas": null,
       "grid_template_columns": null,
       "grid_template_rows": null,
       "height": null,
       "justify_content": null,
       "justify_items": null,
       "left": null,
       "margin": null,
       "max_height": null,
       "max_width": null,
       "min_height": null,
       "min_width": null,
       "object_fit": null,
       "object_position": null,
       "order": null,
       "overflow": null,
       "overflow_x": null,
       "overflow_y": null,
       "padding": null,
       "right": null,
       "top": null,
       "visibility": null,
       "width": null
      }
     },
     "40d0c9146adc47d88c405244a7c0fcca": {
      "model_module": "@jupyter-widgets/controls",
      "model_module_version": "1.5.0",
      "model_name": "FloatProgressModel",
      "state": {
       "_dom_classes": [],
       "_model_module": "@jupyter-widgets/controls",
       "_model_module_version": "1.5.0",
       "_model_name": "FloatProgressModel",
       "_view_count": null,
       "_view_module": "@jupyter-widgets/controls",
       "_view_module_version": "1.5.0",
       "_view_name": "ProgressView",
       "bar_style": "success",
       "description": "100%",
       "description_tooltip": null,
       "layout": "IPY_MODEL_4e0b0531847b4c9abe53825146040fac",
       "max": 1.0,
       "min": 0.0,
       "orientation": "horizontal",
       "style": "IPY_MODEL_c68081882e754da394759eaa12a9bb99",
       "value": 1.0
      }
     },
     "4b9e9a3adc0c49fd999a276e9dcff4f7": {
      "model_module": "@jupyter-widgets/controls",
      "model_module_version": "1.5.0",
      "model_name": "HBoxModel",
      "state": {
       "_dom_classes": [],
       "_model_module": "@jupyter-widgets/controls",
       "_model_module_version": "1.5.0",
       "_model_name": "HBoxModel",
       "_view_count": null,
       "_view_module": "@jupyter-widgets/controls",
       "_view_module_version": "1.5.0",
       "_view_name": "HBoxView",
       "box_style": "",
       "children": [
        "IPY_MODEL_60090e8636404997bc04b9c8ac76d776",
        "IPY_MODEL_196e83b254764b5a828870cfc1e66c90"
       ],
       "layout": "IPY_MODEL_322ef91cb5594c359beeb7d0038df41a"
      }
     },
     "4e0b0531847b4c9abe53825146040fac": {
      "model_module": "@jupyter-widgets/base",
      "model_module_version": "1.2.0",
      "model_name": "LayoutModel",
      "state": {
       "_model_module": "@jupyter-widgets/base",
       "_model_module_version": "1.2.0",
       "_model_name": "LayoutModel",
       "_view_count": null,
       "_view_module": "@jupyter-widgets/base",
       "_view_module_version": "1.2.0",
       "_view_name": "LayoutView",
       "align_content": null,
       "align_items": null,
       "align_self": null,
       "border": null,
       "bottom": null,
       "display": null,
       "flex": null,
       "flex_flow": null,
       "grid_area": null,
       "grid_auto_columns": null,
       "grid_auto_flow": null,
       "grid_auto_rows": null,
       "grid_column": null,
       "grid_gap": null,
       "grid_row": null,
       "grid_template_areas": null,
       "grid_template_columns": null,
       "grid_template_rows": null,
       "height": null,
       "justify_content": null,
       "justify_items": null,
       "left": null,
       "margin": null,
       "max_height": null,
       "max_width": null,
       "min_height": null,
       "min_width": null,
       "object_fit": null,
       "object_position": null,
       "order": null,
       "overflow": null,
       "overflow_x": null,
       "overflow_y": null,
       "padding": null,
       "right": null,
       "top": null,
       "visibility": null,
       "width": null
      }
     },
     "4e21fa67405b4de4baa28f7b8ad5ad22": {
      "model_module": "@jupyter-widgets/controls",
      "model_module_version": "1.5.0",
      "model_name": "DescriptionStyleModel",
      "state": {
       "_model_module": "@jupyter-widgets/controls",
       "_model_module_version": "1.5.0",
       "_model_name": "DescriptionStyleModel",
       "_view_count": null,
       "_view_module": "@jupyter-widgets/base",
       "_view_module_version": "1.2.0",
       "_view_name": "StyleView",
       "description_width": ""
      }
     },
     "60090e8636404997bc04b9c8ac76d776": {
      "model_module": "@jupyter-widgets/controls",
      "model_module_version": "1.5.0",
      "model_name": "FloatProgressModel",
      "state": {
       "_dom_classes": [],
       "_model_module": "@jupyter-widgets/controls",
       "_model_module_version": "1.5.0",
       "_model_name": "FloatProgressModel",
       "_view_count": null,
       "_view_module": "@jupyter-widgets/controls",
       "_view_module_version": "1.5.0",
       "_view_name": "ProgressView",
       "bar_style": "success",
       "description": "100%",
       "description_tooltip": null,
       "layout": "IPY_MODEL_ceeee7ee42b6428080670dd92b2ab81e",
       "max": 1.0,
       "min": 0.0,
       "orientation": "horizontal",
       "style": "IPY_MODEL_93334550820247cc9d7c8144367879bf",
       "value": 1.0
      }
     },
     "61b2b4e1cef54e8b905f6a8d34f82e88": {
      "model_module": "@jupyter-widgets/base",
      "model_module_version": "1.2.0",
      "model_name": "LayoutModel",
      "state": {
       "_model_module": "@jupyter-widgets/base",
       "_model_module_version": "1.2.0",
       "_model_name": "LayoutModel",
       "_view_count": null,
       "_view_module": "@jupyter-widgets/base",
       "_view_module_version": "1.2.0",
       "_view_name": "LayoutView",
       "align_content": null,
       "align_items": null,
       "align_self": null,
       "border": null,
       "bottom": null,
       "display": null,
       "flex": null,
       "flex_flow": null,
       "grid_area": null,
       "grid_auto_columns": null,
       "grid_auto_flow": null,
       "grid_auto_rows": null,
       "grid_column": null,
       "grid_gap": null,
       "grid_row": null,
       "grid_template_areas": null,
       "grid_template_columns": null,
       "grid_template_rows": null,
       "height": null,
       "justify_content": null,
       "justify_items": null,
       "left": null,
       "margin": null,
       "max_height": null,
       "max_width": null,
       "min_height": null,
       "min_width": null,
       "object_fit": null,
       "object_position": null,
       "order": null,
       "overflow": null,
       "overflow_x": null,
       "overflow_y": null,
       "padding": null,
       "right": null,
       "top": null,
       "visibility": null,
       "width": null
      }
     },
     "7c2a171c97a741d1a579b4173ed79a2a": {
      "model_module": "@jupyter-widgets/controls",
      "model_module_version": "1.5.0",
      "model_name": "HBoxModel",
      "state": {
       "_dom_classes": [],
       "_model_module": "@jupyter-widgets/controls",
       "_model_module_version": "1.5.0",
       "_model_name": "HBoxModel",
       "_view_count": null,
       "_view_module": "@jupyter-widgets/controls",
       "_view_module_version": "1.5.0",
       "_view_name": "HBoxView",
       "box_style": "",
       "children": [
        "IPY_MODEL_0efc5b8fe10d4a4aa3d912b223c34ced",
        "IPY_MODEL_b31d504f60c64655b24e8375cc5b2359"
       ],
       "layout": "IPY_MODEL_a222c25a7bed49c6aafe7f8d4b058083"
      }
     },
     "8cfeb1ce4e78499a9e0ca589cad22a48": {
      "model_module": "@jupyter-widgets/controls",
      "model_module_version": "1.5.0",
      "model_name": "DescriptionStyleModel",
      "state": {
       "_model_module": "@jupyter-widgets/controls",
       "_model_module_version": "1.5.0",
       "_model_name": "DescriptionStyleModel",
       "_view_count": null,
       "_view_module": "@jupyter-widgets/base",
       "_view_module_version": "1.2.0",
       "_view_name": "StyleView",
       "description_width": ""
      }
     },
     "93334550820247cc9d7c8144367879bf": {
      "model_module": "@jupyter-widgets/controls",
      "model_module_version": "1.5.0",
      "model_name": "ProgressStyleModel",
      "state": {
       "_model_module": "@jupyter-widgets/controls",
       "_model_module_version": "1.5.0",
       "_model_name": "ProgressStyleModel",
       "_view_count": null,
       "_view_module": "@jupyter-widgets/base",
       "_view_module_version": "1.2.0",
       "_view_name": "StyleView",
       "bar_color": null,
       "description_width": "initial"
      }
     },
     "939ddf75fdc14ab9b505fb7e20d45738": {
      "model_module": "@jupyter-widgets/controls",
      "model_module_version": "1.5.0",
      "model_name": "HTMLModel",
      "state": {
       "_dom_classes": [],
       "_model_module": "@jupyter-widgets/controls",
       "_model_module_version": "1.5.0",
       "_model_name": "HTMLModel",
       "_view_count": null,
       "_view_module": "@jupyter-widgets/controls",
       "_view_module_version": "1.5.0",
       "_view_name": "HTMLView",
       "description": "",
       "description_tooltip": null,
       "layout": "IPY_MODEL_cd8c7c56fb5f4fee92278b12823150ec",
       "placeholder": "​",
       "style": "IPY_MODEL_4e21fa67405b4de4baa28f7b8ad5ad22",
       "value": " 1/1 [40:40&lt;00:00, 2440.81s/it]"
      }
     },
     "94e74cb40d8449b194f4cf726dd7ccba": {
      "model_module": "@jupyter-widgets/base",
      "model_module_version": "1.2.0",
      "model_name": "LayoutModel",
      "state": {
       "_model_module": "@jupyter-widgets/base",
       "_model_module_version": "1.2.0",
       "_model_name": "LayoutModel",
       "_view_count": null,
       "_view_module": "@jupyter-widgets/base",
       "_view_module_version": "1.2.0",
       "_view_name": "LayoutView",
       "align_content": null,
       "align_items": null,
       "align_self": null,
       "border": null,
       "bottom": null,
       "display": null,
       "flex": null,
       "flex_flow": null,
       "grid_area": null,
       "grid_auto_columns": null,
       "grid_auto_flow": null,
       "grid_auto_rows": null,
       "grid_column": null,
       "grid_gap": null,
       "grid_row": null,
       "grid_template_areas": null,
       "grid_template_columns": null,
       "grid_template_rows": null,
       "height": null,
       "justify_content": null,
       "justify_items": null,
       "left": null,
       "margin": null,
       "max_height": null,
       "max_width": null,
       "min_height": null,
       "min_width": null,
       "object_fit": null,
       "object_position": null,
       "order": null,
       "overflow": null,
       "overflow_x": null,
       "overflow_y": null,
       "padding": null,
       "right": null,
       "top": null,
       "visibility": null,
       "width": null
      }
     },
     "9549347f01c44e8aa3d6b90103031ad5": {
      "model_module": "@jupyter-widgets/controls",
      "model_module_version": "1.5.0",
      "model_name": "HBoxModel",
      "state": {
       "_dom_classes": [],
       "_model_module": "@jupyter-widgets/controls",
       "_model_module_version": "1.5.0",
       "_model_name": "HBoxModel",
       "_view_count": null,
       "_view_module": "@jupyter-widgets/controls",
       "_view_module_version": "1.5.0",
       "_view_name": "HBoxView",
       "box_style": "",
       "children": [
        "IPY_MODEL_40d0c9146adc47d88c405244a7c0fcca",
        "IPY_MODEL_939ddf75fdc14ab9b505fb7e20d45738"
       ],
       "layout": "IPY_MODEL_94e74cb40d8449b194f4cf726dd7ccba"
      }
     },
     "a222c25a7bed49c6aafe7f8d4b058083": {
      "model_module": "@jupyter-widgets/base",
      "model_module_version": "1.2.0",
      "model_name": "LayoutModel",
      "state": {
       "_model_module": "@jupyter-widgets/base",
       "_model_module_version": "1.2.0",
       "_model_name": "LayoutModel",
       "_view_count": null,
       "_view_module": "@jupyter-widgets/base",
       "_view_module_version": "1.2.0",
       "_view_name": "LayoutView",
       "align_content": null,
       "align_items": null,
       "align_self": null,
       "border": null,
       "bottom": null,
       "display": null,
       "flex": null,
       "flex_flow": null,
       "grid_area": null,
       "grid_auto_columns": null,
       "grid_auto_flow": null,
       "grid_auto_rows": null,
       "grid_column": null,
       "grid_gap": null,
       "grid_row": null,
       "grid_template_areas": null,
       "grid_template_columns": null,
       "grid_template_rows": null,
       "height": null,
       "justify_content": null,
       "justify_items": null,
       "left": null,
       "margin": null,
       "max_height": null,
       "max_width": null,
       "min_height": null,
       "min_width": null,
       "object_fit": null,
       "object_position": null,
       "order": null,
       "overflow": null,
       "overflow_x": null,
       "overflow_y": null,
       "padding": null,
       "right": null,
       "top": null,
       "visibility": null,
       "width": null
      }
     },
     "b31d504f60c64655b24e8375cc5b2359": {
      "model_module": "@jupyter-widgets/controls",
      "model_module_version": "1.5.0",
      "model_name": "HTMLModel",
      "state": {
       "_dom_classes": [],
       "_model_module": "@jupyter-widgets/controls",
       "_model_module_version": "1.5.0",
       "_model_name": "HTMLModel",
       "_view_count": null,
       "_view_module": "@jupyter-widgets/controls",
       "_view_module_version": "1.5.0",
       "_view_name": "HTMLView",
       "description": "",
       "description_tooltip": null,
       "layout": "IPY_MODEL_dc1bdc104a674aacab559d9d6b5caaca",
       "placeholder": "​",
       "style": "IPY_MODEL_dd8ba2286240490eaa454caf431bcde9",
       "value": " 1/1 [34:03&lt;00:00, 2043.46s/it]"
      }
     },
     "c68081882e754da394759eaa12a9bb99": {
      "model_module": "@jupyter-widgets/controls",
      "model_module_version": "1.5.0",
      "model_name": "ProgressStyleModel",
      "state": {
       "_model_module": "@jupyter-widgets/controls",
       "_model_module_version": "1.5.0",
       "_model_name": "ProgressStyleModel",
       "_view_count": null,
       "_view_module": "@jupyter-widgets/base",
       "_view_module_version": "1.2.0",
       "_view_name": "StyleView",
       "bar_color": null,
       "description_width": "initial"
      }
     },
     "cd8c7c56fb5f4fee92278b12823150ec": {
      "model_module": "@jupyter-widgets/base",
      "model_module_version": "1.2.0",
      "model_name": "LayoutModel",
      "state": {
       "_model_module": "@jupyter-widgets/base",
       "_model_module_version": "1.2.0",
       "_model_name": "LayoutModel",
       "_view_count": null,
       "_view_module": "@jupyter-widgets/base",
       "_view_module_version": "1.2.0",
       "_view_name": "LayoutView",
       "align_content": null,
       "align_items": null,
       "align_self": null,
       "border": null,
       "bottom": null,
       "display": null,
       "flex": null,
       "flex_flow": null,
       "grid_area": null,
       "grid_auto_columns": null,
       "grid_auto_flow": null,
       "grid_auto_rows": null,
       "grid_column": null,
       "grid_gap": null,
       "grid_row": null,
       "grid_template_areas": null,
       "grid_template_columns": null,
       "grid_template_rows": null,
       "height": null,
       "justify_content": null,
       "justify_items": null,
       "left": null,
       "margin": null,
       "max_height": null,
       "max_width": null,
       "min_height": null,
       "min_width": null,
       "object_fit": null,
       "object_position": null,
       "order": null,
       "overflow": null,
       "overflow_x": null,
       "overflow_y": null,
       "padding": null,
       "right": null,
       "top": null,
       "visibility": null,
       "width": null
      }
     },
     "ceeee7ee42b6428080670dd92b2ab81e": {
      "model_module": "@jupyter-widgets/base",
      "model_module_version": "1.2.0",
      "model_name": "LayoutModel",
      "state": {
       "_model_module": "@jupyter-widgets/base",
       "_model_module_version": "1.2.0",
       "_model_name": "LayoutModel",
       "_view_count": null,
       "_view_module": "@jupyter-widgets/base",
       "_view_module_version": "1.2.0",
       "_view_name": "LayoutView",
       "align_content": null,
       "align_items": null,
       "align_self": null,
       "border": null,
       "bottom": null,
       "display": null,
       "flex": null,
       "flex_flow": null,
       "grid_area": null,
       "grid_auto_columns": null,
       "grid_auto_flow": null,
       "grid_auto_rows": null,
       "grid_column": null,
       "grid_gap": null,
       "grid_row": null,
       "grid_template_areas": null,
       "grid_template_columns": null,
       "grid_template_rows": null,
       "height": null,
       "justify_content": null,
       "justify_items": null,
       "left": null,
       "margin": null,
       "max_height": null,
       "max_width": null,
       "min_height": null,
       "min_width": null,
       "object_fit": null,
       "object_position": null,
       "order": null,
       "overflow": null,
       "overflow_x": null,
       "overflow_y": null,
       "padding": null,
       "right": null,
       "top": null,
       "visibility": null,
       "width": null
      }
     },
     "d58c742c124f4dbc875411b9edaa8383": {
      "model_module": "@jupyter-widgets/controls",
      "model_module_version": "1.5.0",
      "model_name": "ProgressStyleModel",
      "state": {
       "_model_module": "@jupyter-widgets/controls",
       "_model_module_version": "1.5.0",
       "_model_name": "ProgressStyleModel",
       "_view_count": null,
       "_view_module": "@jupyter-widgets/base",
       "_view_module_version": "1.2.0",
       "_view_name": "StyleView",
       "bar_color": null,
       "description_width": "initial"
      }
     },
     "dc1bdc104a674aacab559d9d6b5caaca": {
      "model_module": "@jupyter-widgets/base",
      "model_module_version": "1.2.0",
      "model_name": "LayoutModel",
      "state": {
       "_model_module": "@jupyter-widgets/base",
       "_model_module_version": "1.2.0",
       "_model_name": "LayoutModel",
       "_view_count": null,
       "_view_module": "@jupyter-widgets/base",
       "_view_module_version": "1.2.0",
       "_view_name": "LayoutView",
       "align_content": null,
       "align_items": null,
       "align_self": null,
       "border": null,
       "bottom": null,
       "display": null,
       "flex": null,
       "flex_flow": null,
       "grid_area": null,
       "grid_auto_columns": null,
       "grid_auto_flow": null,
       "grid_auto_rows": null,
       "grid_column": null,
       "grid_gap": null,
       "grid_row": null,
       "grid_template_areas": null,
       "grid_template_columns": null,
       "grid_template_rows": null,
       "height": null,
       "justify_content": null,
       "justify_items": null,
       "left": null,
       "margin": null,
       "max_height": null,
       "max_width": null,
       "min_height": null,
       "min_width": null,
       "object_fit": null,
       "object_position": null,
       "order": null,
       "overflow": null,
       "overflow_x": null,
       "overflow_y": null,
       "padding": null,
       "right": null,
       "top": null,
       "visibility": null,
       "width": null
      }
     },
     "dd8ba2286240490eaa454caf431bcde9": {
      "model_module": "@jupyter-widgets/controls",
      "model_module_version": "1.5.0",
      "model_name": "DescriptionStyleModel",
      "state": {
       "_model_module": "@jupyter-widgets/controls",
       "_model_module_version": "1.5.0",
       "_model_name": "DescriptionStyleModel",
       "_view_count": null,
       "_view_module": "@jupyter-widgets/base",
       "_view_module_version": "1.2.0",
       "_view_name": "StyleView",
       "description_width": ""
      }
     }
    },
    "version_major": 2,
    "version_minor": 0
   }
  }
 },
 "nbformat": 4,
 "nbformat_minor": 4
}
